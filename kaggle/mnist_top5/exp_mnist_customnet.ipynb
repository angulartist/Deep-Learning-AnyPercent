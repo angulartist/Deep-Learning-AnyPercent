{
 "cells": [
  {
   "cell_type": "code",
   "execution_count": 35,
   "metadata": {},
   "outputs": [],
   "source": [
    "import warnings\n",
    "warnings.filterwarnings('ignore')"
   ]
  },
  {
   "cell_type": "code",
   "execution_count": 36,
   "metadata": {},
   "outputs": [],
   "source": [
    "from tensorflow.keras.optimizers import SGD, Adam\n",
    "from tensorflow.keras.preprocessing.image import img_to_array, ImageDataGenerator\n",
    "from tensorflow.keras import backend as K\n",
    "from tensorflow.keras.callbacks import LearningRateScheduler, ModelCheckpoint\n",
    "from tensorflow.keras.utils import to_categorical\n",
    "\n",
    "# Import MNIST Dataset\n",
    "from tensorflow.keras.datasets import mnist\n",
    "\n",
    "from customnet import CustomNet\n",
    "\n",
    "import matplotlib\n",
    "import matplotlib.pyplot as plt\n",
    "matplotlib.use('Agg') # Non-interactive\n",
    "\n",
    "import pandas as pd\n",
    "\n",
    "from sklearn.preprocessing import LabelBinarizer\n",
    "from sklearn.metrics import classification_report\n",
    "from sklearn.feature_extraction.image import extract_patches_2d\n",
    "from sklearn.model_selection import train_test_split\n",
    "\n",
    "import numpy as np\n",
    "from imutils import paths, resize\n",
    "import cv2\n",
    "import os"
   ]
  },
  {
   "cell_type": "markdown",
   "metadata": {},
   "source": [
    "## Network architecture"
   ]
  },
  {
   "cell_type": "code",
   "execution_count": 37,
   "metadata": {},
   "outputs": [
    {
     "name": "stdout",
     "output_type": "stream",
     "text": [
      "Model: \"sequential_3\"\n",
      "_________________________________________________________________\n",
      "Layer (type)                 Output Shape              Param #   \n",
      "=================================================================\n",
      "conv2d_18 (Conv2D)           (None, 28, 28, 64)        640       \n",
      "_________________________________________________________________\n",
      "activation_24 (Activation)   (None, 28, 28, 64)        0         \n",
      "_________________________________________________________________\n",
      "batch_normalization_21 (Batc (None, 28, 28, 64)        256       \n",
      "_________________________________________________________________\n",
      "conv2d_19 (Conv2D)           (None, 28, 28, 64)        36928     \n",
      "_________________________________________________________________\n",
      "activation_25 (Activation)   (None, 28, 28, 64)        0         \n",
      "_________________________________________________________________\n",
      "batch_normalization_22 (Batc (None, 28, 28, 64)        256       \n",
      "_________________________________________________________________\n",
      "conv2d_20 (Conv2D)           (None, 28, 28, 64)        36928     \n",
      "_________________________________________________________________\n",
      "activation_26 (Activation)   (None, 28, 28, 64)        0         \n",
      "_________________________________________________________________\n",
      "batch_normalization_23 (Batc (None, 28, 28, 64)        256       \n",
      "_________________________________________________________________\n",
      "max_pooling2d_6 (MaxPooling2 (None, 14, 14, 64)        0         \n",
      "_________________________________________________________________\n",
      "conv2d_21 (Conv2D)           (None, 14, 14, 128)       73856     \n",
      "_________________________________________________________________\n",
      "activation_27 (Activation)   (None, 14, 14, 128)       0         \n",
      "_________________________________________________________________\n",
      "batch_normalization_24 (Batc (None, 14, 14, 128)       512       \n",
      "_________________________________________________________________\n",
      "conv2d_22 (Conv2D)           (None, 14, 14, 128)       147584    \n",
      "_________________________________________________________________\n",
      "activation_28 (Activation)   (None, 14, 14, 128)       0         \n",
      "_________________________________________________________________\n",
      "batch_normalization_25 (Batc (None, 14, 14, 128)       512       \n",
      "_________________________________________________________________\n",
      "conv2d_23 (Conv2D)           (None, 14, 14, 128)       147584    \n",
      "_________________________________________________________________\n",
      "activation_29 (Activation)   (None, 14, 14, 128)       0         \n",
      "_________________________________________________________________\n",
      "batch_normalization_26 (Batc (None, 14, 14, 128)       512       \n",
      "_________________________________________________________________\n",
      "max_pooling2d_7 (MaxPooling2 (None, 7, 7, 128)         0         \n",
      "_________________________________________________________________\n",
      "dropout_6 (Dropout)          (None, 7, 7, 128)         0         \n",
      "_________________________________________________________________\n",
      "flatten_3 (Flatten)          (None, 6272)              0         \n",
      "_________________________________________________________________\n",
      "dense_6 (Dense)              (None, 512)               3211776   \n",
      "_________________________________________________________________\n",
      "activation_30 (Activation)   (None, 512)               0         \n",
      "_________________________________________________________________\n",
      "batch_normalization_27 (Batc (None, 512)               2048      \n",
      "_________________________________________________________________\n",
      "dropout_7 (Dropout)          (None, 512)               0         \n",
      "_________________________________________________________________\n",
      "dense_7 (Dense)              (None, 10)                5130      \n",
      "_________________________________________________________________\n",
      "activation_31 (Activation)   (None, 10)                0         \n",
      "=================================================================\n",
      "Total params: 3,664,778\n",
      "Trainable params: 3,662,602\n",
      "Non-trainable params: 2,176\n",
      "_________________________________________________________________\n",
      "None\n"
     ]
    }
   ],
   "source": [
    "net = CustomNet()\n",
    "# MNIST (h, w, d) = (28, 28, 1)\n",
    "model = net.build(28, 28, num_classes=10, depth=1)"
   ]
  },
  {
   "cell_type": "markdown",
   "metadata": {},
   "source": [
    "## Loading, processing and splitting the dataset"
   ]
  },
  {
   "cell_type": "code",
   "execution_count": 38,
   "metadata": {},
   "outputs": [
    {
     "name": "stdout",
     "output_type": "stream",
     "text": [
      "# Loading MNIST dataset...\n",
      "# MNIST dataset loaded!\n"
     ]
    }
   ],
   "source": [
    "print('# Loading MNIST dataset...')\n",
    "(trainX, trainY), (testX, testY) = mnist.load_data()\n",
    "print('# MNIST dataset loaded!')"
   ]
  },
  {
   "cell_type": "code",
   "execution_count": 39,
   "metadata": {},
   "outputs": [
    {
     "name": "stdout",
     "output_type": "stream",
     "text": [
      "Num training images: 60000\n",
      "Num test images: 10000\n"
     ]
    }
   ],
   "source": [
    "# w/h used as a final input size\n",
    "target_size = 28\n",
    "\n",
    "def preprocess(image):\n",
    "    ''' Preprocess an image (resizeing, extracting patches/crops...) '''\n",
    "    if image is not None:\n",
    "        # Extract a random crop from the image\n",
    "        try:\n",
    "            image = extract_patches_2d(\n",
    "                image,\n",
    "                (target_size, target_size),\n",
    "                max_patches=1\n",
    "            )[0]\n",
    "        except Exception:\n",
    "            pass\n",
    "        # Transform image to array\n",
    "        image = img_to_array(image, data_format=None)\n",
    "        # Send back the image\n",
    "        return image\n",
    "\n",
    "# Normalize [0, 1] => numpy array\n",
    "trainX = np.array([preprocess(image) for image in trainX]).astype('float') / 255.0\n",
    "print('Num training images:', len(trainX))\n",
    "testX = np.array([preprocess(image) for image in testX]).astype('float') / 255.0\n",
    "print('Num test images:', len(testX))"
   ]
  },
  {
   "cell_type": "markdown",
   "metadata": {},
   "source": [
    "## Labels one-hot encoding"
   ]
  },
  {
   "cell_type": "code",
   "execution_count": 40,
   "metadata": {},
   "outputs": [],
   "source": [
    "trainY = to_categorical(trainY, num_classes=10)\n",
    "testY = to_categorical(testY, num_classes=10)"
   ]
  },
  {
   "cell_type": "markdown",
   "metadata": {},
   "source": [
    "## Data Augmentation"
   ]
  },
  {
   "cell_type": "code",
   "execution_count": 41,
   "metadata": {},
   "outputs": [],
   "source": [
    "daug = ImageDataGenerator(\n",
    "    featurewise_center=False,\n",
    "    samplewise_center=False,\n",
    "    featurewise_std_normalization=False,\n",
    "    samplewise_std_normalization=False,\n",
    "    zca_whitening=False,\n",
    "    rotation_range=10,\n",
    "    zoom_range = 0.1, \n",
    "    width_shift_range=0.1,\n",
    "    height_shift_range=0.1,\n",
    "    horizontal_flip=False,\n",
    "    vertical_flip=False\n",
    ")"
   ]
  },
  {
   "cell_type": "markdown",
   "metadata": {},
   "source": [
    "## Train the network"
   ]
  },
  {
   "cell_type": "code",
   "execution_count": 42,
   "metadata": {},
   "outputs": [],
   "source": [
    "num_epochs = 50"
   ]
  },
  {
   "cell_type": "markdown",
   "metadata": {},
   "source": [
    "### Polynomial decay\n",
    "\n",
    "$$\\alpha = \\alpha_{0} * (1 - e / e_{\\max})^{^{p}}$$"
   ]
  },
  {
   "cell_type": "code",
   "execution_count": 43,
   "metadata": {},
   "outputs": [],
   "source": [
    "init_lr = 5e-3\n",
    "\n",
    "def polynomial_decay(epoch):\n",
    "    max_epochs = num_epochs\n",
    "    base_lr = init_lr\n",
    "    power = 2.0\n",
    "    \n",
    "    return base_lr * (1 - (epoch / float(max_epochs))) ** power"
   ]
  },
  {
   "cell_type": "code",
   "execution_count": 44,
   "metadata": {},
   "outputs": [],
   "source": [
    "# Save best weights based on validation loss\n",
    "checkpointHandler = ModelCheckpoint(\n",
    "    'best_c10_weights.hdf5',\n",
    "    monitor='val_loss',\n",
    "    save_best_only=True,\n",
    "    verbose=1\n",
    ")\n",
    "\n",
    "callbacks = [\n",
    "    LearningRateScheduler(polynomial_decay),\n",
    "    checkpointHandler\n",
    "]"
   ]
  },
  {
   "cell_type": "code",
   "execution_count": 45,
   "metadata": {},
   "outputs": [
    {
     "name": "stdout",
     "output_type": "stream",
     "text": [
      "# Compiling the model...\n",
      "# Training the network...\n",
      "Epoch 1/50\n",
      "467/468 [============================>.] - ETA: 0s - loss: 0.1877 - acc: 0.9440\n",
      "Epoch 00001: val_loss improved from inf to 11.49225, saving model to best_c10_weights.hdf5\n",
      "468/468 [==============================] - 45s 96ms/step - loss: 0.1875 - acc: 0.9440 - val_loss: 11.4923 - val_acc: 0.1093\n",
      "Epoch 2/50\n",
      "467/468 [============================>.] - ETA: 0s - loss: 0.0762 - acc: 0.9767\n",
      "Epoch 00002: val_loss improved from 11.49225 to 0.05709, saving model to best_c10_weights.hdf5\n",
      "468/468 [==============================] - 40s 87ms/step - loss: 0.0761 - acc: 0.9767 - val_loss: 0.0571 - val_acc: 0.9826\n",
      "Epoch 3/50\n",
      "467/468 [============================>.] - ETA: 0s - loss: 0.0589 - acc: 0.9826\n",
      "Epoch 00003: val_loss improved from 0.05709 to 0.05332, saving model to best_c10_weights.hdf5\n",
      "468/468 [==============================] - 41s 87ms/step - loss: 0.0589 - acc: 0.9826 - val_loss: 0.0533 - val_acc: 0.9852\n",
      "Epoch 4/50\n",
      "467/468 [============================>.] - ETA: 0s - loss: 0.0521 - acc: 0.9842\n",
      "Epoch 00004: val_loss improved from 0.05332 to 0.03703, saving model to best_c10_weights.hdf5\n",
      "468/468 [==============================] - 41s 87ms/step - loss: 0.0520 - acc: 0.9842 - val_loss: 0.0370 - val_acc: 0.9894\n",
      "Epoch 5/50\n",
      "467/468 [============================>.] - ETA: 0s - loss: 0.0450 - acc: 0.9864\n",
      "Epoch 00005: val_loss improved from 0.03703 to 0.03662, saving model to best_c10_weights.hdf5\n",
      "468/468 [==============================] - 41s 87ms/step - loss: 0.0450 - acc: 0.9864 - val_loss: 0.0366 - val_acc: 0.9874\n",
      "Epoch 6/50\n",
      "467/468 [============================>.] - ETA: 0s - loss: 0.0411 - acc: 0.9875\n",
      "Epoch 00006: val_loss improved from 0.03662 to 0.03214, saving model to best_c10_weights.hdf5\n",
      "468/468 [==============================] - 41s 87ms/step - loss: 0.0411 - acc: 0.9875 - val_loss: 0.0321 - val_acc: 0.9907\n",
      "Epoch 7/50\n",
      "467/468 [============================>.] - ETA: 0s - loss: 0.0396 - acc: 0.9884\n",
      "Epoch 00007: val_loss improved from 0.03214 to 0.02405, saving model to best_c10_weights.hdf5\n",
      "468/468 [==============================] - 41s 87ms/step - loss: 0.0396 - acc: 0.9884 - val_loss: 0.0240 - val_acc: 0.9927\n",
      "Epoch 8/50\n",
      "467/468 [============================>.] - ETA: 0s - loss: 0.0395 - acc: 0.9881\n",
      "Epoch 00008: val_loss did not improve from 0.02405\n",
      "468/468 [==============================] - 40s 86ms/step - loss: 0.0396 - acc: 0.9881 - val_loss: 0.0242 - val_acc: 0.9914\n",
      "Epoch 9/50\n",
      "467/468 [============================>.] - ETA: 0s - loss: 0.0336 - acc: 0.9899\n",
      "Epoch 00009: val_loss improved from 0.02405 to 0.01445, saving model to best_c10_weights.hdf5\n",
      "468/468 [==============================] - 41s 87ms/step - loss: 0.0337 - acc: 0.9898 - val_loss: 0.0144 - val_acc: 0.9952\n",
      "Epoch 10/50\n",
      "467/468 [============================>.] - ETA: 0s - loss: 0.0304 - acc: 0.9911\n",
      "Epoch 00010: val_loss did not improve from 0.01445\n",
      "468/468 [==============================] - 40s 86ms/step - loss: 0.0304 - acc: 0.9911 - val_loss: 0.0153 - val_acc: 0.9952\n",
      "Epoch 11/50\n",
      "467/468 [============================>.] - ETA: 0s - loss: 0.0264 - acc: 0.9921\n",
      "Epoch 00011: val_loss did not improve from 0.01445\n",
      "468/468 [==============================] - 40s 86ms/step - loss: 0.0263 - acc: 0.9921 - val_loss: 0.0163 - val_acc: 0.9946\n",
      "Epoch 12/50\n",
      "467/468 [============================>.] - ETA: 0s - loss: 0.0254 - acc: 0.9928\n",
      "Epoch 00012: val_loss did not improve from 0.01445\n",
      "468/468 [==============================] - 40s 86ms/step - loss: 0.0253 - acc: 0.9928 - val_loss: 0.0271 - val_acc: 0.9916\n",
      "Epoch 13/50\n",
      "467/468 [============================>.] - ETA: 0s - loss: 0.0254 - acc: 0.9923\n",
      "Epoch 00013: val_loss did not improve from 0.01445\n",
      "468/468 [==============================] - 40s 86ms/step - loss: 0.0254 - acc: 0.9923 - val_loss: 7.1375 - val_acc: 0.8939\n",
      "Epoch 14/50\n",
      "467/468 [============================>.] - ETA: 0s - loss: 0.0219 - acc: 0.9934\n",
      "Epoch 00014: val_loss did not improve from 0.01445\n",
      "468/468 [==============================] - 40s 86ms/step - loss: 0.0218 - acc: 0.9934 - val_loss: 0.0211 - val_acc: 0.9931\n",
      "Epoch 15/50\n",
      "467/468 [============================>.] - ETA: 0s - loss: 0.0235 - acc: 0.9928\n",
      "Epoch 00015: val_loss did not improve from 0.01445\n",
      "468/468 [==============================] - 40s 86ms/step - loss: 0.0235 - acc: 0.9928 - val_loss: 0.0245 - val_acc: 0.9930\n",
      "Epoch 16/50\n",
      "467/468 [============================>.] - ETA: 0s - loss: 0.0198 - acc: 0.9940\n",
      "Epoch 00016: val_loss did not improve from 0.01445\n",
      "468/468 [==============================] - 40s 86ms/step - loss: 0.0198 - acc: 0.9940 - val_loss: 0.0158 - val_acc: 0.9945\n",
      "Epoch 17/50\n",
      "467/468 [============================>.] - ETA: 0s - loss: 0.0200 - acc: 0.9940\n",
      "Epoch 00017: val_loss improved from 0.01445 to 0.01374, saving model to best_c10_weights.hdf5\n",
      "468/468 [==============================] - 41s 87ms/step - loss: 0.0200 - acc: 0.9940 - val_loss: 0.0137 - val_acc: 0.9953\n",
      "Epoch 18/50\n",
      "467/468 [============================>.] - ETA: 0s - loss: 0.0182 - acc: 0.9945\n",
      "Epoch 00018: val_loss did not improve from 0.01374\n",
      "468/468 [==============================] - 40s 86ms/step - loss: 0.0182 - acc: 0.9945 - val_loss: 0.0257 - val_acc: 0.9935\n",
      "Epoch 19/50\n",
      "467/468 [============================>.] - ETA: 0s - loss: 0.0170 - acc: 0.9946\n",
      "Epoch 00019: val_loss did not improve from 0.01374\n",
      "468/468 [==============================] - 40s 86ms/step - loss: 0.0170 - acc: 0.9946 - val_loss: 0.0232 - val_acc: 0.9927\n",
      "Epoch 20/50\n",
      "467/468 [============================>.] - ETA: 0s - loss: 0.0157 - acc: 0.9949\n",
      "Epoch 00020: val_loss did not improve from 0.01374\n",
      "468/468 [==============================] - 40s 86ms/step - loss: 0.0158 - acc: 0.9949 - val_loss: 0.0179 - val_acc: 0.9953\n",
      "Epoch 21/50\n",
      "467/468 [============================>.] - ETA: 0s - loss: 0.0155 - acc: 0.9951\n",
      "Epoch 00021: val_loss did not improve from 0.01374\n",
      "468/468 [==============================] - 40s 86ms/step - loss: 0.0155 - acc: 0.9951 - val_loss: 0.0186 - val_acc: 0.9941\n",
      "Epoch 22/50\n",
      "467/468 [============================>.] - ETA: 0s - loss: 0.0132 - acc: 0.9957\n",
      "Epoch 00022: val_loss did not improve from 0.01374\n",
      "468/468 [==============================] - 40s 86ms/step - loss: 0.0132 - acc: 0.9957 - val_loss: 0.0170 - val_acc: 0.9941\n",
      "Epoch 23/50\n",
      "467/468 [============================>.] - ETA: 0s - loss: 0.0120 - acc: 0.9961\n",
      "Epoch 00023: val_loss did not improve from 0.01374\n",
      "468/468 [==============================] - 40s 86ms/step - loss: 0.0120 - acc: 0.9961 - val_loss: 0.0164 - val_acc: 0.9949\n",
      "Epoch 24/50\n",
      "467/468 [============================>.] - ETA: 0s - loss: 0.0119 - acc: 0.9965\n",
      "Epoch 00024: val_loss did not improve from 0.01374\n",
      "468/468 [==============================] - 40s 86ms/step - loss: 0.0120 - acc: 0.9965 - val_loss: 0.0138 - val_acc: 0.9954\n",
      "Epoch 25/50\n",
      "467/468 [============================>.] - ETA: 0s - loss: 0.0123 - acc: 0.9962\n",
      "Epoch 00025: val_loss improved from 0.01374 to 0.01228, saving model to best_c10_weights.hdf5\n",
      "468/468 [==============================] - 40s 86ms/step - loss: 0.0123 - acc: 0.9962 - val_loss: 0.0123 - val_acc: 0.9958\n",
      "Epoch 26/50\n",
      "467/468 [============================>.] - ETA: 0s - loss: 0.0106 - acc: 0.9967\n",
      "Epoch 00026: val_loss did not improve from 0.01228\n",
      "468/468 [==============================] - 40s 86ms/step - loss: 0.0106 - acc: 0.9967 - val_loss: 0.0126 - val_acc: 0.9957\n",
      "Epoch 27/50\n",
      "467/468 [============================>.] - ETA: 0s - loss: 0.0095 - acc: 0.9970\n",
      "Epoch 00027: val_loss improved from 0.01228 to 0.01049, saving model to best_c10_weights.hdf5\n",
      "468/468 [==============================] - 40s 87ms/step - loss: 0.0095 - acc: 0.9970 - val_loss: 0.0105 - val_acc: 0.9962\n",
      "Epoch 28/50\n",
      "467/468 [============================>.] - ETA: 0s - loss: 0.0080 - acc: 0.9974\n",
      "Epoch 00028: val_loss did not improve from 0.01049\n",
      "468/468 [==============================] - 40s 86ms/step - loss: 0.0080 - acc: 0.9974 - val_loss: 0.0128 - val_acc: 0.9959\n",
      "Epoch 29/50\n",
      "467/468 [============================>.] - ETA: 0s - loss: 0.0072 - acc: 0.9977\n",
      "Epoch 00029: val_loss did not improve from 0.01049\n",
      "468/468 [==============================] - 40s 86ms/step - loss: 0.0072 - acc: 0.9977 - val_loss: 0.0111 - val_acc: 0.9967\n",
      "Epoch 30/50\n",
      "467/468 [============================>.] - ETA: 0s - loss: 0.0070 - acc: 0.9979\n",
      "Epoch 00030: val_loss improved from 0.01049 to 0.00968, saving model to best_c10_weights.hdf5\n",
      "468/468 [==============================] - 40s 86ms/step - loss: 0.0069 - acc: 0.9979 - val_loss: 0.0097 - val_acc: 0.9969\n",
      "Epoch 31/50\n",
      "467/468 [============================>.] - ETA: 0s - loss: 0.0059 - acc: 0.9981\n",
      "Epoch 00031: val_loss did not improve from 0.00968\n",
      "468/468 [==============================] - 40s 86ms/step - loss: 0.0058 - acc: 0.9981 - val_loss: 0.0099 - val_acc: 0.9965\n",
      "Epoch 32/50\n",
      "467/468 [============================>.] - ETA: 0s - loss: 0.0053 - acc: 0.9984\n",
      "Epoch 00032: val_loss did not improve from 0.00968\n",
      "468/468 [==============================] - 40s 86ms/step - loss: 0.0053 - acc: 0.9984 - val_loss: 0.0125 - val_acc: 0.9962\n",
      "Epoch 33/50\n",
      "467/468 [============================>.] - ETA: 0s - loss: 0.0062 - acc: 0.9980\n",
      "Epoch 00033: val_loss did not improve from 0.00968\n",
      "468/468 [==============================] - 40s 86ms/step - loss: 0.0062 - acc: 0.9980 - val_loss: 0.0101 - val_acc: 0.9966\n",
      "Epoch 34/50\n",
      "467/468 [============================>.] - ETA: 0s - loss: 0.0051 - acc: 0.9985\n",
      "Epoch 00034: val_loss did not improve from 0.00968\n",
      "468/468 [==============================] - 40s 86ms/step - loss: 0.0051 - acc: 0.9985 - val_loss: 0.0117 - val_acc: 0.9964\n",
      "Epoch 35/50\n",
      "467/468 [============================>.] - ETA: 0s - loss: 0.0048 - acc: 0.9985\n",
      "Epoch 00035: val_loss did not improve from 0.00968\n",
      "468/468 [==============================] - 40s 86ms/step - loss: 0.0048 - acc: 0.9985 - val_loss: 0.0126 - val_acc: 0.9967\n",
      "Epoch 36/50\n",
      "467/468 [============================>.] - ETA: 0s - loss: 0.0048 - acc: 0.9984\n",
      "Epoch 00036: val_loss did not improve from 0.00968\n",
      "468/468 [==============================] - 40s 86ms/step - loss: 0.0049 - acc: 0.9984 - val_loss: 0.0110 - val_acc: 0.9967\n",
      "Epoch 37/50\n",
      "467/468 [============================>.] - ETA: 0s - loss: 0.0044 - acc: 0.9986\n",
      "Epoch 00037: val_loss did not improve from 0.00968\n",
      "468/468 [==============================] - 40s 86ms/step - loss: 0.0044 - acc: 0.9986 - val_loss: 0.0115 - val_acc: 0.9965\n",
      "Epoch 38/50\n",
      "467/468 [============================>.] - ETA: 0s - loss: 0.0040 - acc: 0.9987\n",
      "Epoch 00038: val_loss did not improve from 0.00968\n",
      "468/468 [==============================] - 40s 86ms/step - loss: 0.0040 - acc: 0.9987 - val_loss: 0.0139 - val_acc: 0.9956\n",
      "Epoch 39/50\n",
      "467/468 [============================>.] - ETA: 0s - loss: 0.0034 - acc: 0.9990\n",
      "Epoch 00039: val_loss did not improve from 0.00968\n",
      "468/468 [==============================] - 40s 86ms/step - loss: 0.0034 - acc: 0.9990 - val_loss: 0.0114 - val_acc: 0.9963\n",
      "Epoch 40/50\n",
      "467/468 [============================>.] - ETA: 0s - loss: 0.0035 - acc: 0.9990\n",
      "Epoch 00040: val_loss did not improve from 0.00968\n",
      "468/468 [==============================] - 40s 86ms/step - loss: 0.0035 - acc: 0.9990 - val_loss: 0.0102 - val_acc: 0.9963\n",
      "Epoch 41/50\n",
      "467/468 [============================>.] - ETA: 0s - loss: 0.0034 - acc: 0.9991\n",
      "Epoch 00041: val_loss did not improve from 0.00968\n",
      "468/468 [==============================] - 40s 86ms/step - loss: 0.0034 - acc: 0.9991 - val_loss: 0.0109 - val_acc: 0.9962\n",
      "Epoch 42/50\n",
      "467/468 [============================>.] - ETA: 0s - loss: 0.0033 - acc: 0.9990\n",
      "Epoch 00042: val_loss did not improve from 0.00968\n",
      "468/468 [==============================] - 40s 86ms/step - loss: 0.0034 - acc: 0.9990 - val_loss: 0.0101 - val_acc: 0.9969\n",
      "Epoch 43/50\n",
      "467/468 [============================>.] - ETA: 0s - loss: 0.0027 - acc: 0.9991\n",
      "Epoch 00043: val_loss did not improve from 0.00968\n",
      "468/468 [==============================] - 40s 86ms/step - loss: 0.0027 - acc: 0.9990 - val_loss: 0.0105 - val_acc: 0.9963\n",
      "Epoch 44/50\n",
      "467/468 [============================>.] - ETA: 0s - loss: 0.0031 - acc: 0.9991\n",
      "Epoch 00044: val_loss did not improve from 0.00968\n",
      "468/468 [==============================] - 40s 86ms/step - loss: 0.0030 - acc: 0.9991 - val_loss: 0.0104 - val_acc: 0.9963\n",
      "Epoch 45/50\n",
      "467/468 [============================>.] - ETA: 0s - loss: 0.0019 - acc: 0.9994\n",
      "Epoch 00045: val_loss did not improve from 0.00968\n",
      "468/468 [==============================] - 40s 86ms/step - loss: 0.0019 - acc: 0.9994 - val_loss: 0.0103 - val_acc: 0.9964\n",
      "Epoch 46/50\n",
      "467/468 [============================>.] - ETA: 0s - loss: 0.0025 - acc: 0.9993\n",
      "Epoch 00046: val_loss did not improve from 0.00968\n",
      "468/468 [==============================] - 40s 86ms/step - loss: 0.0024 - acc: 0.9993 - val_loss: 0.0106 - val_acc: 0.9961\n",
      "Epoch 47/50\n",
      "467/468 [============================>.] - ETA: 0s - loss: 0.0026 - acc: 0.9991\n",
      "Epoch 00047: val_loss did not improve from 0.00968\n",
      "468/468 [==============================] - 40s 86ms/step - loss: 0.0026 - acc: 0.9991 - val_loss: 0.0107 - val_acc: 0.9961\n",
      "Epoch 48/50\n",
      "467/468 [============================>.] - ETA: 0s - loss: 0.0023 - acc: 0.9994\n",
      "Epoch 00048: val_loss did not improve from 0.00968\n",
      "468/468 [==============================] - 40s 86ms/step - loss: 0.0023 - acc: 0.9994 - val_loss: 0.0107 - val_acc: 0.9962\n",
      "Epoch 49/50\n",
      "467/468 [============================>.] - ETA: 0s - loss: 0.0027 - acc: 0.9992\n",
      "Epoch 00049: val_loss did not improve from 0.00968\n",
      "468/468 [==============================] - 40s 86ms/step - loss: 0.0027 - acc: 0.9992 - val_loss: 0.0107 - val_acc: 0.9962\n",
      "Epoch 50/50\n",
      "467/468 [============================>.] - ETA: 0s - loss: 0.0025 - acc: 0.9993\n",
      "Epoch 00050: val_loss did not improve from 0.00968\n",
      "468/468 [==============================] - 40s 86ms/step - loss: 0.0025 - acc: 0.9993 - val_loss: 0.0107 - val_acc: 0.9962\n"
     ]
    }
   ],
   "source": [
    "# sgd_opt = SGD(lr=init_lr, momentum=0.9)\n",
    "adam_opt = Adam(lr=0.001, beta_1=0.9, beta_2=0.999, epsilon=1e-08, decay=0.0)\n",
    "# Compile the model\n",
    "print('# Compiling the model...')\n",
    "model.compile(loss='categorical_crossentropy', optimizer=adam_opt, metrics=['accuracy'])\n",
    "# Train the network!\n",
    "print('# Training the network...')\n",
    "h = model.fit_generator(\n",
    "    daug.flow(trainX, trainY, batch_size=128),\n",
    "    validation_data=(testX, testY),\n",
    "    epochs=num_epochs,\n",
    "    steps_per_epoch=len(trainX) // 128,\n",
    "    callbacks=callbacks,\n",
    "    verbose=1\n",
    ")"
   ]
  },
  {
   "cell_type": "markdown",
   "metadata": {},
   "source": [
    "## Evalute the network"
   ]
  },
  {
   "cell_type": "code",
   "execution_count": 46,
   "metadata": {},
   "outputs": [
    {
     "name": "stdout",
     "output_type": "stream",
     "text": [
      "# Trained the network! Evaluating...\n",
      "              precision    recall  f1-score   support\n",
      "\n",
      "           0       1.00      1.00      1.00       980\n",
      "           1       1.00      1.00      1.00      1135\n",
      "           2       1.00      1.00      1.00      1032\n",
      "           3       0.99      1.00      1.00      1010\n",
      "           4       0.99      0.99      0.99       982\n",
      "           5       1.00      0.99      0.99       892\n",
      "           6       1.00      1.00      1.00       958\n",
      "           7       1.00      1.00      1.00      1028\n",
      "           8       1.00      1.00      1.00       974\n",
      "           9       0.99      0.99      0.99      1009\n",
      "\n",
      "   micro avg       1.00      1.00      1.00     10000\n",
      "   macro avg       1.00      1.00      1.00     10000\n",
      "weighted avg       1.00      1.00      1.00     10000\n",
      "\n"
     ]
    }
   ],
   "source": [
    "# Set labels names for easier reading\n",
    "label_names = [\n",
    "    'Zero',\n",
    "    'One',\n",
    "    'Two',\n",
    "    'Three',\n",
    "    'Four',\n",
    "    'Five',\n",
    "    'Six',\n",
    "    'Seven',\n",
    "    'Eight',\n",
    "    'Nine'\n",
    "]\n",
    "\n",
    "# Evalutate the network\n",
    "print('# Trained the network! Evaluating...')\n",
    "preds = model.predict(testX, batch_size=128)\n",
    "print(classification_report(testY.argmax(axis=1),\n",
    "preds.argmax(axis=1), target_names=label_names))"
   ]
  },
  {
   "cell_type": "markdown",
   "metadata": {},
   "source": [
    "## Plot curves"
   ]
  },
  {
   "cell_type": "code",
   "execution_count": 47,
   "metadata": {},
   "outputs": [
    {
     "data": {
      "image/png": "[encoded data removed]",
      "text/plain": [
       "<Figure size 1440x1080 with 1 Axes>"
      ]
     },
     "metadata": {},
     "output_type": "display_data"
    }
   ],
   "source": [
    "%matplotlib inline\n",
    "plt.style.use('ggplot')\n",
    "plt.plot(np.arange(0, num_epochs), h.history['loss'], label='train_loss')\n",
    "plt.plot(np.arange(0, num_epochs), h.history['val_loss'], label='val_loss')\n",
    "plt.plot(np.arange(0, num_epochs), h.history['acc'], label='train_accuracy')\n",
    "plt.plot(np.arange(0, num_epochs), h.history['val_acc'], label='val_accuracy')\n",
    "\n",
    "plt.title('Training Loss and Accuracy')\n",
    "plt.ylabel('Loss/Accuracy')\n",
    "plt.xlabel('Epoch #')\n",
    "plt.legend()\n",
    "\n",
    "plt.show()"
   ]
  },
  {
   "cell_type": "code",
   "execution_count": 48,
   "metadata": {},
   "outputs": [
    {
     "name": "stdout",
     "output_type": "stream",
     "text": [
      "Saved!\n"
     ]
    }
   ],
   "source": [
    "test = pd.read_csv(\"test.csv\")\n",
    "test = test / 255.0\n",
    "test = test.values.reshape(-1,28,28,1)\n",
    "results = model.predict(test)\n",
    "results = np.argmax(results,axis = 1)\n",
    "results = pd.Series(results,name=\"Label\")\n",
    "submission = pd.concat([pd.Series(range(1,28001),name = \"ImageId\"),results],axis = 1)\n",
    "submission.to_csv(\"cnn_mnist_datagen.csv\",index=False)\n",
    "print(\"Saved!\")"
   ]
  },
  {
   "cell_type": "code",
   "execution_count": null,
   "metadata": {},
   "outputs": [],
   "source": []
  }
 ],
 "metadata": {
  "kernelspec": {
   "display_name": "Python 3",
   "language": "python",
   "name": "python3"
  },
  "language_info": {
   "codemirror_mode": {
    "name": "ipython",
    "version": 3
   },
   "file_extension": ".py",
   "mimetype": "text/x-python",
   "name": "python",
   "nbconvert_exporter": "python",
   "pygments_lexer": "ipython3",
   "version": "3.6.5"
  }
 },
 "nbformat": 4,
 "nbformat_minor": 4
}
