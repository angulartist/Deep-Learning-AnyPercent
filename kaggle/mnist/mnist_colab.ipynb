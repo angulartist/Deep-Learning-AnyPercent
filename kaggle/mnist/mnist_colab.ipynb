{
  "nbformat": 4,
  "nbformat_minor": 0,
  "metadata": {
    "colab": {
      "name": "mnist_colab.ipynb",
      "provenance": [],
      "collapsed_sections": [],
      "authorship_tag": "ABX9TyO7ZmlCpx1eqFsg8e5kZP8q",
      "include_colab_link": true
    },
    "kernelspec": {
      "name": "python3",
      "display_name": "Python 3"
    },
    "accelerator": "GPU"
  },
  "cells": [
    {
      "cell_type": "markdown",
      "metadata": {
        "id": "view-in-github",
        "colab_type": "text"
      },
      "source": [
        "<a href=\"https://colab.research.google.com/github/angulartist/Deep-Learning-AnyPercent/blob/master/kaggle/mnist/mnist_colab.ipynb\" target=\"_parent\"><img src=\"https://colab.research.google.com/assets/colab-badge.svg\" alt=\"Open In Colab\"/></a>"
      ]
    },
    {
      "cell_type": "code",
      "metadata": {
        "id": "AFijhuh_F0Xl",
        "colab_type": "code",
        "outputId": "87e08ba3-3391-4a2e-c601-65ddefe27a81",
        "colab": {
          "base_uri": "https://localhost:8080/",
          "height": 34
        }
      },
      "source": [
        "%tensorflow_version 1.x \n",
        "\n",
        "import tensorflow as tf\n",
        "# Check if we're using a GPU\n",
        "print(tf.test.gpu_device_name())\n",
        "\n",
        "import os\n",
        "\n",
        "from google.colab import drive\n",
        "\n",
        "from tensorflow.keras.optimizers import Adam\n",
        "from tensorflow.keras.preprocessing.image import ImageDataGenerator\n",
        "from tensorflow.keras.callbacks import LearningRateScheduler, ModelCheckpoint, ReduceLROnPlateau\n",
        "from tensorflow.keras.datasets import mnist\n",
        "from tensorflow.keras import backend as K\n",
        "\n",
        "from sklearn.preprocessing import LabelBinarizer\n",
        "from sklearn.metrics import classification_report\n",
        "from sklearn.model_selection import train_test_split\n",
        "\n",
        "import matplotlib\n",
        "import matplotlib.pyplot as plt\n",
        "\n",
        "import pandas as pd\n",
        "import numpy as np\n",
        "\n",
        "matplotlib.use('Agg')  \n",
        "plt.style.use('seaborn-dark')\n",
        "%matplotlib inline"
      ],
      "execution_count": 35,
      "outputs": [
        {
          "output_type": "stream",
          "text": [
            "/device:GPU:0\n"
          ],
          "name": "stdout"
        }
      ]
    },
    {
      "cell_type": "markdown",
      "metadata": {
        "id": "MXGRvxvab1Nr",
        "colab_type": "text"
      },
      "source": [
        "# Setup"
      ]
    },
    {
      "cell_type": "code",
      "metadata": {
        "id": "u1v9l2IZHwNA",
        "colab_type": "code",
        "outputId": "6efacd1e-267e-4d55-a578-e7f7ec2761a3",
        "colab": {
          "base_uri": "https://localhost:8080/",
          "height": 139
        }
      },
      "source": [
        "# (Google Colab) - Authorize R/W access to the Drive.\n",
        "\n",
        "drive.mount('/content/gdrive', force_remount=True)\n",
        "root_dir = \"/content/gdrive/My Drive/\"\n",
        "base_dir = root_dir + 'deepl/'\n",
        "\n",
        "base_dir"
      ],
      "execution_count": 2,
      "outputs": [
        {
          "output_type": "stream",
          "text": [
            "Go to this URL in a browser: https://accounts.google.com/o/oauth2/auth?client_id=947318989803-6bn6qk8qdgf4n4g3pfee6491hc0brc4i.apps.googleusercontent.com&redirect_uri=urn%3aietf%3awg%3aoauth%3a2.0%3aoob&response_type=code&scope=email%20https%3a%2f%2fwww.googleapis.com%2fauth%2fdocs.test%20https%3a%2f%2fwww.googleapis.com%2fauth%2fdrive%20https%3a%2f%2fwww.googleapis.com%2fauth%2fdrive.photos.readonly%20https%3a%2f%2fwww.googleapis.com%2fauth%2fpeopleapi.readonly\n",
            "\n",
            "Enter your authorization code:\n",
            "··········\n",
            "Mounted at /content/gdrive\n"
          ],
          "name": "stdout"
        },
        {
          "output_type": "execute_result",
          "data": {
            "text/plain": [
              "'/content/gdrive/My Drive/deepl/'"
            ]
          },
          "metadata": {
            "tags": []
          },
          "execution_count": 2
        }
      ]
    },
    {
      "cell_type": "code",
      "metadata": {
        "id": "07l4E-QEb4Fn",
        "colab_type": "code",
        "colab": {}
      },
      "source": [
        "# Some variables\n",
        "\n",
        "D = 28 # dimensions\n",
        "C = 1  # channels\n",
        "P = 10 # classes"
      ],
      "execution_count": 0,
      "outputs": []
    },
    {
      "cell_type": "markdown",
      "metadata": {
        "id": "DhBsRmmDEZX5",
        "colab_type": "text"
      },
      "source": [
        "# Load the MNIST dataset from Keras"
      ]
    },
    {
      "cell_type": "code",
      "metadata": {
        "id": "cj8pDsPR-M0e",
        "colab_type": "code",
        "colab": {}
      },
      "source": [
        "(X_train, y_train), (X_ttest, y_ttest) = mnist.load_data()"
      ],
      "execution_count": 0,
      "outputs": []
    },
    {
      "cell_type": "code",
      "metadata": {
        "id": "z59BX2Xv-UqW",
        "colab_type": "code",
        "outputId": "c3d7adbf-2d1f-4aa2-ff9e-70765082c26c",
        "colab": {
          "base_uri": "https://localhost:8080/",
          "height": 51
        }
      },
      "source": [
        "'''\n",
        "Let's log the training set shape.\n",
        "\n",
        "The first column indicates that we have 60 000 training samples\n",
        "and the two last columns indicate that the dimension of each sample is (h, w) <=> (28, 28).\n",
        "(Same thing for the test set).\n",
        "'''\n",
        "\n",
        "print(X_train.shape) # train set shape\n",
        "print(X_ttest.shape) # test  set shape"
      ],
      "execution_count": 46,
      "outputs": [
        {
          "output_type": "stream",
          "text": [
            "(60000, 28, 28)\n",
            "(10000, 28, 28)\n"
          ],
          "name": "stdout"
        }
      ]
    },
    {
      "cell_type": "code",
      "metadata": {
        "id": "G6wlrE6mOy0y",
        "colab_type": "code",
        "outputId": "0514dfb7-2b5d-4143-bd31-9e3f929b89ce",
        "colab": {
          "base_uri": "https://localhost:8080/",
          "height": 279
        }
      },
      "source": [
        "'''\n",
        "As we can see, we've got 60000 samples in our training set and 10000 samples in our testing set.\n",
        "Each image, or sample, or datapoint has a dimension of (28, 28) and belongs\n",
        "to the gray-scale color-space, so their depth equals 1.\n",
        "'''\n",
        "\n",
        "plt.imshow(X_train[0])\n",
        "plt.title(label='Image at position 0')\n",
        "plt.show()"
      ],
      "execution_count": 47,
      "outputs": [
        {
          "output_type": "display_data",
          "data": {
            "image/png": "[encoded data removed]",
            "text/plain": [
              "<Figure size 432x288 with 1 Axes>"
            ]
          },
          "metadata": {
            "tags": []
          }
        }
      ]
    },
    {
      "cell_type": "code",
      "metadata": {
        "id": "1tWY2Cc0PHuF",
        "colab_type": "code",
        "outputId": "2f16c948-4f10-4968-9a05-98917e21cbe4",
        "colab": {
          "base_uri": "https://localhost:8080/",
          "height": 543
        }
      },
      "source": [
        "'''\n",
        "As you can see, images in the MNIST dataset are heavily pre-processed.\n",
        "That's why this is used as a benchmark dataset and getting very high accuracy is common.\n",
        "In a real-world problem, we'll need to do some image pre-processing to enchance images\n",
        "and extract meaningful features.\n",
        "'''\n",
        "\n",
        "fig, ax = plt.subplots(\n",
        "    nrows=4,\n",
        "    ncols=10,\n",
        "    figsize=[12, 8]\n",
        ")\n",
        "\n",
        "for index, axi in enumerate(ax.flat):\n",
        "    axi.imshow(X_train[index])\n",
        "    axi.set_title(f'Image #{index + 1}')\n",
        "\n",
        "plt.tight_layout(True)\n",
        "plt.show()"
      ],
      "execution_count": 53,
      "outputs": [
        {
          "output_type": "display_data",
          "data": {
            "image/png": "[encoded data removed]",
            "text/plain": [
              "<Figure size 864x576 with 40 Axes>"
            ]
          },
          "metadata": {
            "tags": []
          }
        }
      ]
    },
    {
      "cell_type": "code",
      "metadata": {
        "id": "XIBymwxzXYY1",
        "colab_type": "code",
        "colab": {
          "base_uri": "https://localhost:8080/",
          "height": 253
        },
        "outputId": "f006d3d4-dafa-418b-899f-2e6c4219ca6f"
      },
      "source": [
        "X_df = pd.read_csv(os.path.join(base_dir, 'train.csv.zip'))\n",
        "X_df.head()"
      ],
      "execution_count": 8,
      "outputs": [
        {
          "output_type": "execute_result",
          "data": {
            "text/html": [
              "<div>\n",
              "<style scoped>\n",
              "    .dataframe tbody tr th:only-of-type {\n",
              "        vertical-align: middle;\n",
              "    }\n",
              "\n",
              "    .dataframe tbody tr th {\n",
              "        vertical-align: top;\n",
              "    }\n",
              "\n",
              "    .dataframe thead th {\n",
              "        text-align: right;\n",
              "    }\n",
              "</style>\n",
              "<table border=\"1\" class=\"dataframe\">\n",
              "  <thead>\n",
              "    <tr style=\"text-align: right;\">\n",
              "      <th></th>\n",
              "      <th>label</th>\n",
              "      <th>pixel0</th>\n",
              "      <th>pixel1</th>\n",
              "      <th>pixel2</th>\n",
              "      <th>pixel3</th>\n",
              "      <th>pixel4</th>\n",
              "      <th>pixel5</th>\n",
              "      <th>pixel6</th>\n",
              "      <th>pixel7</th>\n",
              "      <th>pixel8</th>\n",
              "      <th>pixel9</th>\n",
              "      <th>pixel10</th>\n",
              "      <th>pixel11</th>\n",
              "      <th>pixel12</th>\n",
              "      <th>pixel13</th>\n",
              "      <th>pixel14</th>\n",
              "      <th>pixel15</th>\n",
              "      <th>pixel16</th>\n",
              "      <th>pixel17</th>\n",
              "      <th>pixel18</th>\n",
              "      <th>pixel19</th>\n",
              "      <th>pixel20</th>\n",
              "      <th>pixel21</th>\n",
              "      <th>pixel22</th>\n",
              "      <th>pixel23</th>\n",
              "      <th>pixel24</th>\n",
              "      <th>pixel25</th>\n",
              "      <th>pixel26</th>\n",
              "      <th>pixel27</th>\n",
              "      <th>pixel28</th>\n",
              "      <th>pixel29</th>\n",
              "      <th>pixel30</th>\n",
              "      <th>pixel31</th>\n",
              "      <th>pixel32</th>\n",
              "      <th>pixel33</th>\n",
              "      <th>pixel34</th>\n",
              "      <th>pixel35</th>\n",
              "      <th>pixel36</th>\n",
              "      <th>pixel37</th>\n",
              "      <th>pixel38</th>\n",
              "      <th>...</th>\n",
              "      <th>pixel744</th>\n",
              "      <th>pixel745</th>\n",
              "      <th>pixel746</th>\n",
              "      <th>pixel747</th>\n",
              "      <th>pixel748</th>\n",
              "      <th>pixel749</th>\n",
              "      <th>pixel750</th>\n",
              "      <th>pixel751</th>\n",
              "      <th>pixel752</th>\n",
              "      <th>pixel753</th>\n",
              "      <th>pixel754</th>\n",
              "      <th>pixel755</th>\n",
              "      <th>pixel756</th>\n",
              "      <th>pixel757</th>\n",
              "      <th>pixel758</th>\n",
              "      <th>pixel759</th>\n",
              "      <th>pixel760</th>\n",
              "      <th>pixel761</th>\n",
              "      <th>pixel762</th>\n",
              "      <th>pixel763</th>\n",
              "      <th>pixel764</th>\n",
              "      <th>pixel765</th>\n",
              "      <th>pixel766</th>\n",
              "      <th>pixel767</th>\n",
              "      <th>pixel768</th>\n",
              "      <th>pixel769</th>\n",
              "      <th>pixel770</th>\n",
              "      <th>pixel771</th>\n",
              "      <th>pixel772</th>\n",
              "      <th>pixel773</th>\n",
              "      <th>pixel774</th>\n",
              "      <th>pixel775</th>\n",
              "      <th>pixel776</th>\n",
              "      <th>pixel777</th>\n",
              "      <th>pixel778</th>\n",
              "      <th>pixel779</th>\n",
              "      <th>pixel780</th>\n",
              "      <th>pixel781</th>\n",
              "      <th>pixel782</th>\n",
              "      <th>pixel783</th>\n",
              "    </tr>\n",
              "  </thead>\n",
              "  <tbody>\n",
              "    <tr>\n",
              "      <th>0</th>\n",
              "      <td>1</td>\n",
              "      <td>0</td>\n",
              "      <td>0</td>\n",
              "      <td>0</td>\n",
              "      <td>0</td>\n",
              "      <td>0</td>\n",
              "      <td>0</td>\n",
              "      <td>0</td>\n",
              "      <td>0</td>\n",
              "      <td>0</td>\n",
              "      <td>0</td>\n",
              "      <td>0</td>\n",
              "      <td>0</td>\n",
              "      <td>0</td>\n",
              "      <td>0</td>\n",
              "      <td>0</td>\n",
              "      <td>0</td>\n",
              "      <td>0</td>\n",
              "      <td>0</td>\n",
              "      <td>0</td>\n",
              "      <td>0</td>\n",
              "      <td>0</td>\n",
              "      <td>0</td>\n",
              "      <td>0</td>\n",
              "      <td>0</td>\n",
              "      <td>0</td>\n",
              "      <td>0</td>\n",
              "      <td>0</td>\n",
              "      <td>0</td>\n",
              "      <td>0</td>\n",
              "      <td>0</td>\n",
              "      <td>0</td>\n",
              "      <td>0</td>\n",
              "      <td>0</td>\n",
              "      <td>0</td>\n",
              "      <td>0</td>\n",
              "      <td>0</td>\n",
              "      <td>0</td>\n",
              "      <td>0</td>\n",
              "      <td>0</td>\n",
              "      <td>...</td>\n",
              "      <td>0</td>\n",
              "      <td>0</td>\n",
              "      <td>0</td>\n",
              "      <td>0</td>\n",
              "      <td>0</td>\n",
              "      <td>0</td>\n",
              "      <td>0</td>\n",
              "      <td>0</td>\n",
              "      <td>0</td>\n",
              "      <td>0</td>\n",
              "      <td>0</td>\n",
              "      <td>0</td>\n",
              "      <td>0</td>\n",
              "      <td>0</td>\n",
              "      <td>0</td>\n",
              "      <td>0</td>\n",
              "      <td>0</td>\n",
              "      <td>0</td>\n",
              "      <td>0</td>\n",
              "      <td>0</td>\n",
              "      <td>0</td>\n",
              "      <td>0</td>\n",
              "      <td>0</td>\n",
              "      <td>0</td>\n",
              "      <td>0</td>\n",
              "      <td>0</td>\n",
              "      <td>0</td>\n",
              "      <td>0</td>\n",
              "      <td>0</td>\n",
              "      <td>0</td>\n",
              "      <td>0</td>\n",
              "      <td>0</td>\n",
              "      <td>0</td>\n",
              "      <td>0</td>\n",
              "      <td>0</td>\n",
              "      <td>0</td>\n",
              "      <td>0</td>\n",
              "      <td>0</td>\n",
              "      <td>0</td>\n",
              "      <td>0</td>\n",
              "    </tr>\n",
              "    <tr>\n",
              "      <th>1</th>\n",
              "      <td>0</td>\n",
              "      <td>0</td>\n",
              "      <td>0</td>\n",
              "      <td>0</td>\n",
              "      <td>0</td>\n",
              "      <td>0</td>\n",
              "      <td>0</td>\n",
              "      <td>0</td>\n",
              "      <td>0</td>\n",
              "      <td>0</td>\n",
              "      <td>0</td>\n",
              "      <td>0</td>\n",
              "      <td>0</td>\n",
              "      <td>0</td>\n",
              "      <td>0</td>\n",
              "      <td>0</td>\n",
              "      <td>0</td>\n",
              "      <td>0</td>\n",
              "      <td>0</td>\n",
              "      <td>0</td>\n",
              "      <td>0</td>\n",
              "      <td>0</td>\n",
              "      <td>0</td>\n",
              "      <td>0</td>\n",
              "      <td>0</td>\n",
              "      <td>0</td>\n",
              "      <td>0</td>\n",
              "      <td>0</td>\n",
              "      <td>0</td>\n",
              "      <td>0</td>\n",
              "      <td>0</td>\n",
              "      <td>0</td>\n",
              "      <td>0</td>\n",
              "      <td>0</td>\n",
              "      <td>0</td>\n",
              "      <td>0</td>\n",
              "      <td>0</td>\n",
              "      <td>0</td>\n",
              "      <td>0</td>\n",
              "      <td>0</td>\n",
              "      <td>...</td>\n",
              "      <td>0</td>\n",
              "      <td>0</td>\n",
              "      <td>0</td>\n",
              "      <td>0</td>\n",
              "      <td>0</td>\n",
              "      <td>0</td>\n",
              "      <td>0</td>\n",
              "      <td>0</td>\n",
              "      <td>0</td>\n",
              "      <td>0</td>\n",
              "      <td>0</td>\n",
              "      <td>0</td>\n",
              "      <td>0</td>\n",
              "      <td>0</td>\n",
              "      <td>0</td>\n",
              "      <td>0</td>\n",
              "      <td>0</td>\n",
              "      <td>0</td>\n",
              "      <td>0</td>\n",
              "      <td>0</td>\n",
              "      <td>0</td>\n",
              "      <td>0</td>\n",
              "      <td>0</td>\n",
              "      <td>0</td>\n",
              "      <td>0</td>\n",
              "      <td>0</td>\n",
              "      <td>0</td>\n",
              "      <td>0</td>\n",
              "      <td>0</td>\n",
              "      <td>0</td>\n",
              "      <td>0</td>\n",
              "      <td>0</td>\n",
              "      <td>0</td>\n",
              "      <td>0</td>\n",
              "      <td>0</td>\n",
              "      <td>0</td>\n",
              "      <td>0</td>\n",
              "      <td>0</td>\n",
              "      <td>0</td>\n",
              "      <td>0</td>\n",
              "    </tr>\n",
              "    <tr>\n",
              "      <th>2</th>\n",
              "      <td>1</td>\n",
              "      <td>0</td>\n",
              "      <td>0</td>\n",
              "      <td>0</td>\n",
              "      <td>0</td>\n",
              "      <td>0</td>\n",
              "      <td>0</td>\n",
              "      <td>0</td>\n",
              "      <td>0</td>\n",
              "      <td>0</td>\n",
              "      <td>0</td>\n",
              "      <td>0</td>\n",
              "      <td>0</td>\n",
              "      <td>0</td>\n",
              "      <td>0</td>\n",
              "      <td>0</td>\n",
              "      <td>0</td>\n",
              "      <td>0</td>\n",
              "      <td>0</td>\n",
              "      <td>0</td>\n",
              "      <td>0</td>\n",
              "      <td>0</td>\n",
              "      <td>0</td>\n",
              "      <td>0</td>\n",
              "      <td>0</td>\n",
              "      <td>0</td>\n",
              "      <td>0</td>\n",
              "      <td>0</td>\n",
              "      <td>0</td>\n",
              "      <td>0</td>\n",
              "      <td>0</td>\n",
              "      <td>0</td>\n",
              "      <td>0</td>\n",
              "      <td>0</td>\n",
              "      <td>0</td>\n",
              "      <td>0</td>\n",
              "      <td>0</td>\n",
              "      <td>0</td>\n",
              "      <td>0</td>\n",
              "      <td>0</td>\n",
              "      <td>...</td>\n",
              "      <td>0</td>\n",
              "      <td>0</td>\n",
              "      <td>0</td>\n",
              "      <td>0</td>\n",
              "      <td>0</td>\n",
              "      <td>0</td>\n",
              "      <td>0</td>\n",
              "      <td>0</td>\n",
              "      <td>0</td>\n",
              "      <td>0</td>\n",
              "      <td>0</td>\n",
              "      <td>0</td>\n",
              "      <td>0</td>\n",
              "      <td>0</td>\n",
              "      <td>0</td>\n",
              "      <td>0</td>\n",
              "      <td>0</td>\n",
              "      <td>0</td>\n",
              "      <td>0</td>\n",
              "      <td>0</td>\n",
              "      <td>0</td>\n",
              "      <td>0</td>\n",
              "      <td>0</td>\n",
              "      <td>0</td>\n",
              "      <td>0</td>\n",
              "      <td>0</td>\n",
              "      <td>0</td>\n",
              "      <td>0</td>\n",
              "      <td>0</td>\n",
              "      <td>0</td>\n",
              "      <td>0</td>\n",
              "      <td>0</td>\n",
              "      <td>0</td>\n",
              "      <td>0</td>\n",
              "      <td>0</td>\n",
              "      <td>0</td>\n",
              "      <td>0</td>\n",
              "      <td>0</td>\n",
              "      <td>0</td>\n",
              "      <td>0</td>\n",
              "    </tr>\n",
              "    <tr>\n",
              "      <th>3</th>\n",
              "      <td>4</td>\n",
              "      <td>0</td>\n",
              "      <td>0</td>\n",
              "      <td>0</td>\n",
              "      <td>0</td>\n",
              "      <td>0</td>\n",
              "      <td>0</td>\n",
              "      <td>0</td>\n",
              "      <td>0</td>\n",
              "      <td>0</td>\n",
              "      <td>0</td>\n",
              "      <td>0</td>\n",
              "      <td>0</td>\n",
              "      <td>0</td>\n",
              "      <td>0</td>\n",
              "      <td>0</td>\n",
              "      <td>0</td>\n",
              "      <td>0</td>\n",
              "      <td>0</td>\n",
              "      <td>0</td>\n",
              "      <td>0</td>\n",
              "      <td>0</td>\n",
              "      <td>0</td>\n",
              "      <td>0</td>\n",
              "      <td>0</td>\n",
              "      <td>0</td>\n",
              "      <td>0</td>\n",
              "      <td>0</td>\n",
              "      <td>0</td>\n",
              "      <td>0</td>\n",
              "      <td>0</td>\n",
              "      <td>0</td>\n",
              "      <td>0</td>\n",
              "      <td>0</td>\n",
              "      <td>0</td>\n",
              "      <td>0</td>\n",
              "      <td>0</td>\n",
              "      <td>0</td>\n",
              "      <td>0</td>\n",
              "      <td>0</td>\n",
              "      <td>...</td>\n",
              "      <td>0</td>\n",
              "      <td>0</td>\n",
              "      <td>0</td>\n",
              "      <td>0</td>\n",
              "      <td>0</td>\n",
              "      <td>0</td>\n",
              "      <td>0</td>\n",
              "      <td>0</td>\n",
              "      <td>0</td>\n",
              "      <td>0</td>\n",
              "      <td>0</td>\n",
              "      <td>0</td>\n",
              "      <td>0</td>\n",
              "      <td>0</td>\n",
              "      <td>0</td>\n",
              "      <td>0</td>\n",
              "      <td>0</td>\n",
              "      <td>0</td>\n",
              "      <td>0</td>\n",
              "      <td>0</td>\n",
              "      <td>0</td>\n",
              "      <td>0</td>\n",
              "      <td>0</td>\n",
              "      <td>0</td>\n",
              "      <td>0</td>\n",
              "      <td>0</td>\n",
              "      <td>0</td>\n",
              "      <td>0</td>\n",
              "      <td>0</td>\n",
              "      <td>0</td>\n",
              "      <td>0</td>\n",
              "      <td>0</td>\n",
              "      <td>0</td>\n",
              "      <td>0</td>\n",
              "      <td>0</td>\n",
              "      <td>0</td>\n",
              "      <td>0</td>\n",
              "      <td>0</td>\n",
              "      <td>0</td>\n",
              "      <td>0</td>\n",
              "    </tr>\n",
              "    <tr>\n",
              "      <th>4</th>\n",
              "      <td>0</td>\n",
              "      <td>0</td>\n",
              "      <td>0</td>\n",
              "      <td>0</td>\n",
              "      <td>0</td>\n",
              "      <td>0</td>\n",
              "      <td>0</td>\n",
              "      <td>0</td>\n",
              "      <td>0</td>\n",
              "      <td>0</td>\n",
              "      <td>0</td>\n",
              "      <td>0</td>\n",
              "      <td>0</td>\n",
              "      <td>0</td>\n",
              "      <td>0</td>\n",
              "      <td>0</td>\n",
              "      <td>0</td>\n",
              "      <td>0</td>\n",
              "      <td>0</td>\n",
              "      <td>0</td>\n",
              "      <td>0</td>\n",
              "      <td>0</td>\n",
              "      <td>0</td>\n",
              "      <td>0</td>\n",
              "      <td>0</td>\n",
              "      <td>0</td>\n",
              "      <td>0</td>\n",
              "      <td>0</td>\n",
              "      <td>0</td>\n",
              "      <td>0</td>\n",
              "      <td>0</td>\n",
              "      <td>0</td>\n",
              "      <td>0</td>\n",
              "      <td>0</td>\n",
              "      <td>0</td>\n",
              "      <td>0</td>\n",
              "      <td>0</td>\n",
              "      <td>0</td>\n",
              "      <td>0</td>\n",
              "      <td>0</td>\n",
              "      <td>...</td>\n",
              "      <td>0</td>\n",
              "      <td>0</td>\n",
              "      <td>0</td>\n",
              "      <td>0</td>\n",
              "      <td>0</td>\n",
              "      <td>0</td>\n",
              "      <td>0</td>\n",
              "      <td>0</td>\n",
              "      <td>0</td>\n",
              "      <td>0</td>\n",
              "      <td>0</td>\n",
              "      <td>0</td>\n",
              "      <td>0</td>\n",
              "      <td>0</td>\n",
              "      <td>0</td>\n",
              "      <td>0</td>\n",
              "      <td>0</td>\n",
              "      <td>0</td>\n",
              "      <td>0</td>\n",
              "      <td>0</td>\n",
              "      <td>0</td>\n",
              "      <td>0</td>\n",
              "      <td>0</td>\n",
              "      <td>0</td>\n",
              "      <td>0</td>\n",
              "      <td>0</td>\n",
              "      <td>0</td>\n",
              "      <td>0</td>\n",
              "      <td>0</td>\n",
              "      <td>0</td>\n",
              "      <td>0</td>\n",
              "      <td>0</td>\n",
              "      <td>0</td>\n",
              "      <td>0</td>\n",
              "      <td>0</td>\n",
              "      <td>0</td>\n",
              "      <td>0</td>\n",
              "      <td>0</td>\n",
              "      <td>0</td>\n",
              "      <td>0</td>\n",
              "    </tr>\n",
              "  </tbody>\n",
              "</table>\n",
              "<p>5 rows × 785 columns</p>\n",
              "</div>"
            ],
            "text/plain": [
              "   label  pixel0  pixel1  pixel2  ...  pixel780  pixel781  pixel782  pixel783\n",
              "0      1       0       0       0  ...         0         0         0         0\n",
              "1      0       0       0       0  ...         0         0         0         0\n",
              "2      1       0       0       0  ...         0         0         0         0\n",
              "3      4       0       0       0  ...         0         0         0         0\n",
              "4      0       0       0       0  ...         0         0         0         0\n",
              "\n",
              "[5 rows x 785 columns]"
            ]
          },
          "metadata": {
            "tags": []
          },
          "execution_count": 8
        }
      ]
    },
    {
      "cell_type": "code",
      "metadata": {
        "id": "4Ed7eUTKXkdV",
        "colab_type": "code",
        "colab": {}
      },
      "source": [
        "# Extract dataset samples pixel intensities\n",
        "X = X_df.iloc[:, 1:]\n",
        "X = X.values\n",
        "\n",
        "# Extract labels\n",
        "y = X_df.iloc[:, 0]\n",
        "y = y.values\n",
        "\n",
        "# Plot labels\n",
        "pd.DataFrame(y)\n",
        "\n",
        "del X_df"
      ],
      "execution_count": 0,
      "outputs": []
    },
    {
      "cell_type": "code",
      "metadata": {
        "id": "hB-7e7f8dKMW",
        "colab_type": "code",
        "colab": {
          "base_uri": "https://localhost:8080/",
          "height": 34
        },
        "outputId": "e77fceb9-7bbf-4da1-ea37-7905d03e628e"
      },
      "source": [
        "'''\n",
        "Reshape the both training and testing set that way \n",
        "the number of samples is the first entry in the matrix,\n",
        "the single channel as the second entry,\n",
        "followed by the number of rows and columns.\n",
        "\n",
        "(num_samples, rows, columns, channel)\n",
        "'''\n",
        "\n",
        "X_train = X_train.reshape(-1, D, D, C)\n",
        "X_ttest = X_ttest.reshape(-1, D, D, C)\n",
        "\n",
        "# Let's log the new shape.\n",
        "X_train.shape"
      ],
      "execution_count": 10,
      "outputs": [
        {
          "output_type": "execute_result",
          "data": {
            "text/plain": [
              "(60000, 28, 28, 1)"
            ]
          },
          "metadata": {
            "tags": []
          },
          "execution_count": 10
        }
      ]
    },
    {
      "cell_type": "code",
      "metadata": {
        "id": "QC9-HQ89aw8T",
        "colab_type": "code",
        "colab": {
          "base_uri": "https://localhost:8080/",
          "height": 34
        },
        "outputId": "c25548e2-7770-4b52-c6f3-9d525dfcb2c6"
      },
      "source": [
        "X = X.reshape(-1, D, D, C)\n",
        "X.shape"
      ],
      "execution_count": 11,
      "outputs": [
        {
          "output_type": "execute_result",
          "data": {
            "text/plain": [
              "(42000, 28, 28, 1)"
            ]
          },
          "metadata": {
            "tags": []
          },
          "execution_count": 11
        }
      ]
    },
    {
      "cell_type": "code",
      "metadata": {
        "id": "hqx_SawadXIg",
        "colab_type": "code",
        "colab": {
          "base_uri": "https://localhost:8080/",
          "height": 51
        },
        "outputId": "31ece8bf-ce08-4d05-d46d-9dc5a655bcd3"
      },
      "source": [
        "X_train = np.concatenate((X_train, X), axis=0)\n",
        "y_train = np.concatenate((y_train, y), axis=0)\n",
        "print(X_train.shape)\n",
        "print(y_train.shape)"
      ],
      "execution_count": 12,
      "outputs": [
        {
          "output_type": "stream",
          "text": [
            "(102000, 28, 28, 1)\n",
            "(102000,)\n"
          ],
          "name": "stdout"
        }
      ]
    },
    {
      "cell_type": "markdown",
      "metadata": {
        "id": "8auyMxrkFkbi",
        "colab_type": "text"
      },
      "source": [
        "# Normalize pixel intensities to range [0, 1]"
      ]
    },
    {
      "cell_type": "code",
      "metadata": {
        "id": "hTYhdH_Q-fTz",
        "colab_type": "code",
        "colab": {}
      },
      "source": [
        "'''\n",
        "Normalization of pixel intensities is adjusting values measured on different scales to a notionally common scale.\n",
        "That's a best practice you have to follow because weights reach optimum values faster.\n",
        "Therefore, the network converges faster.\n",
        "\n",
        "So, instead of having pixel intensities in the range [0, 255] in the gray-scale color-space,\n",
        "we're going to scale them into the range [0, 1].\n",
        "There are many normalization techniques and this is one of them.\n",
        "'''\n",
        "\n",
        "(X_train, X_ttest) = (child.astype('float32') / 255.0 for child in [X_train, X_ttest])"
      ],
      "execution_count": 0,
      "outputs": []
    },
    {
      "cell_type": "markdown",
      "metadata": {
        "id": "4K03owgxJdqM",
        "colab_type": "text"
      },
      "source": [
        "# Reshape datapoints"
      ]
    },
    {
      "cell_type": "markdown",
      "metadata": {
        "id": "fzqpG4dBOnNh",
        "colab_type": "text"
      },
      "source": [
        "# One-Hot Encode labels\n"
      ]
    },
    {
      "cell_type": "code",
      "metadata": {
        "id": "W7rOX0A1Pf_F",
        "colab_type": "code",
        "outputId": "8dd9a2c2-d50a-41fb-cd88-4545c45979ae",
        "colab": {
          "base_uri": "https://localhost:8080/",
          "height": 419
        }
      },
      "source": [
        "'''\n",
        "There are 60000 integers labels for the training set,\n",
        "each one corresponding to one single datapoint.\n",
        "That means, for a given Xi datapoint we got a Yi label in the range [0, 9].\n",
        "For instance, the datapoint at the index 59995 of our training set has the label 8.\n",
        "'''\n",
        "\n",
        "pd.DataFrame(y_train)"
      ],
      "execution_count": 14,
      "outputs": [
        {
          "output_type": "execute_result",
          "data": {
            "text/html": [
              "<div>\n",
              "<style scoped>\n",
              "    .dataframe tbody tr th:only-of-type {\n",
              "        vertical-align: middle;\n",
              "    }\n",
              "\n",
              "    .dataframe tbody tr th {\n",
              "        vertical-align: top;\n",
              "    }\n",
              "\n",
              "    .dataframe thead th {\n",
              "        text-align: right;\n",
              "    }\n",
              "</style>\n",
              "<table border=\"1\" class=\"dataframe\">\n",
              "  <thead>\n",
              "    <tr style=\"text-align: right;\">\n",
              "      <th></th>\n",
              "      <th>0</th>\n",
              "    </tr>\n",
              "  </thead>\n",
              "  <tbody>\n",
              "    <tr>\n",
              "      <th>0</th>\n",
              "      <td>5</td>\n",
              "    </tr>\n",
              "    <tr>\n",
              "      <th>1</th>\n",
              "      <td>0</td>\n",
              "    </tr>\n",
              "    <tr>\n",
              "      <th>2</th>\n",
              "      <td>4</td>\n",
              "    </tr>\n",
              "    <tr>\n",
              "      <th>3</th>\n",
              "      <td>1</td>\n",
              "    </tr>\n",
              "    <tr>\n",
              "      <th>4</th>\n",
              "      <td>9</td>\n",
              "    </tr>\n",
              "    <tr>\n",
              "      <th>...</th>\n",
              "      <td>...</td>\n",
              "    </tr>\n",
              "    <tr>\n",
              "      <th>101995</th>\n",
              "      <td>0</td>\n",
              "    </tr>\n",
              "    <tr>\n",
              "      <th>101996</th>\n",
              "      <td>1</td>\n",
              "    </tr>\n",
              "    <tr>\n",
              "      <th>101997</th>\n",
              "      <td>7</td>\n",
              "    </tr>\n",
              "    <tr>\n",
              "      <th>101998</th>\n",
              "      <td>6</td>\n",
              "    </tr>\n",
              "    <tr>\n",
              "      <th>101999</th>\n",
              "      <td>9</td>\n",
              "    </tr>\n",
              "  </tbody>\n",
              "</table>\n",
              "<p>102000 rows × 1 columns</p>\n",
              "</div>"
            ],
            "text/plain": [
              "        0\n",
              "0       5\n",
              "1       0\n",
              "2       4\n",
              "3       1\n",
              "4       9\n",
              "...    ..\n",
              "101995  0\n",
              "101996  1\n",
              "101997  7\n",
              "101998  6\n",
              "101999  9\n",
              "\n",
              "[102000 rows x 1 columns]"
            ]
          },
          "metadata": {
            "tags": []
          },
          "execution_count": 14
        }
      ]
    },
    {
      "cell_type": "code",
      "metadata": {
        "id": "5EkoHCr5-vCJ",
        "colab_type": "code",
        "outputId": "f9afbf9a-bfe8-4d77-e27f-e8664511b4d9",
        "colab": {
          "base_uri": "https://localhost:8080/",
          "height": 419
        }
      },
      "source": [
        "'''\n",
        "Now, our previous integer labels are converted to vector labels.\n",
        "This process is called one-hot encoding and most of the machine learning algorithms\n",
        "benefit from this label representation. 2 = [0, 0, 1, 0, 0, 0, 0, 0, 0, 0],\n",
        "8 = [0, 0, 0, 0, 0, 0, 0, 0, 1, 0].\n",
        "\n",
        "We could also use the to_categorical() function from Keras which yields the exact same values.\n",
        "'''\n",
        "\n",
        "lb = LabelBinarizer()\n",
        "(y_train, y_ttest) = (lb.fit_transform(labels) for labels in [y_train, y_ttest])\n",
        "pd.DataFrame(y_train)"
      ],
      "execution_count": 15,
      "outputs": [
        {
          "output_type": "execute_result",
          "data": {
            "text/html": [
              "<div>\n",
              "<style scoped>\n",
              "    .dataframe tbody tr th:only-of-type {\n",
              "        vertical-align: middle;\n",
              "    }\n",
              "\n",
              "    .dataframe tbody tr th {\n",
              "        vertical-align: top;\n",
              "    }\n",
              "\n",
              "    .dataframe thead th {\n",
              "        text-align: right;\n",
              "    }\n",
              "</style>\n",
              "<table border=\"1\" class=\"dataframe\">\n",
              "  <thead>\n",
              "    <tr style=\"text-align: right;\">\n",
              "      <th></th>\n",
              "      <th>0</th>\n",
              "      <th>1</th>\n",
              "      <th>2</th>\n",
              "      <th>3</th>\n",
              "      <th>4</th>\n",
              "      <th>5</th>\n",
              "      <th>6</th>\n",
              "      <th>7</th>\n",
              "      <th>8</th>\n",
              "      <th>9</th>\n",
              "    </tr>\n",
              "  </thead>\n",
              "  <tbody>\n",
              "    <tr>\n",
              "      <th>0</th>\n",
              "      <td>0</td>\n",
              "      <td>0</td>\n",
              "      <td>0</td>\n",
              "      <td>0</td>\n",
              "      <td>0</td>\n",
              "      <td>1</td>\n",
              "      <td>0</td>\n",
              "      <td>0</td>\n",
              "      <td>0</td>\n",
              "      <td>0</td>\n",
              "    </tr>\n",
              "    <tr>\n",
              "      <th>1</th>\n",
              "      <td>1</td>\n",
              "      <td>0</td>\n",
              "      <td>0</td>\n",
              "      <td>0</td>\n",
              "      <td>0</td>\n",
              "      <td>0</td>\n",
              "      <td>0</td>\n",
              "      <td>0</td>\n",
              "      <td>0</td>\n",
              "      <td>0</td>\n",
              "    </tr>\n",
              "    <tr>\n",
              "      <th>2</th>\n",
              "      <td>0</td>\n",
              "      <td>0</td>\n",
              "      <td>0</td>\n",
              "      <td>0</td>\n",
              "      <td>1</td>\n",
              "      <td>0</td>\n",
              "      <td>0</td>\n",
              "      <td>0</td>\n",
              "      <td>0</td>\n",
              "      <td>0</td>\n",
              "    </tr>\n",
              "    <tr>\n",
              "      <th>3</th>\n",
              "      <td>0</td>\n",
              "      <td>1</td>\n",
              "      <td>0</td>\n",
              "      <td>0</td>\n",
              "      <td>0</td>\n",
              "      <td>0</td>\n",
              "      <td>0</td>\n",
              "      <td>0</td>\n",
              "      <td>0</td>\n",
              "      <td>0</td>\n",
              "    </tr>\n",
              "    <tr>\n",
              "      <th>4</th>\n",
              "      <td>0</td>\n",
              "      <td>0</td>\n",
              "      <td>0</td>\n",
              "      <td>0</td>\n",
              "      <td>0</td>\n",
              "      <td>0</td>\n",
              "      <td>0</td>\n",
              "      <td>0</td>\n",
              "      <td>0</td>\n",
              "      <td>1</td>\n",
              "    </tr>\n",
              "    <tr>\n",
              "      <th>...</th>\n",
              "      <td>...</td>\n",
              "      <td>...</td>\n",
              "      <td>...</td>\n",
              "      <td>...</td>\n",
              "      <td>...</td>\n",
              "      <td>...</td>\n",
              "      <td>...</td>\n",
              "      <td>...</td>\n",
              "      <td>...</td>\n",
              "      <td>...</td>\n",
              "    </tr>\n",
              "    <tr>\n",
              "      <th>101995</th>\n",
              "      <td>1</td>\n",
              "      <td>0</td>\n",
              "      <td>0</td>\n",
              "      <td>0</td>\n",
              "      <td>0</td>\n",
              "      <td>0</td>\n",
              "      <td>0</td>\n",
              "      <td>0</td>\n",
              "      <td>0</td>\n",
              "      <td>0</td>\n",
              "    </tr>\n",
              "    <tr>\n",
              "      <th>101996</th>\n",
              "      <td>0</td>\n",
              "      <td>1</td>\n",
              "      <td>0</td>\n",
              "      <td>0</td>\n",
              "      <td>0</td>\n",
              "      <td>0</td>\n",
              "      <td>0</td>\n",
              "      <td>0</td>\n",
              "      <td>0</td>\n",
              "      <td>0</td>\n",
              "    </tr>\n",
              "    <tr>\n",
              "      <th>101997</th>\n",
              "      <td>0</td>\n",
              "      <td>0</td>\n",
              "      <td>0</td>\n",
              "      <td>0</td>\n",
              "      <td>0</td>\n",
              "      <td>0</td>\n",
              "      <td>0</td>\n",
              "      <td>1</td>\n",
              "      <td>0</td>\n",
              "      <td>0</td>\n",
              "    </tr>\n",
              "    <tr>\n",
              "      <th>101998</th>\n",
              "      <td>0</td>\n",
              "      <td>0</td>\n",
              "      <td>0</td>\n",
              "      <td>0</td>\n",
              "      <td>0</td>\n",
              "      <td>0</td>\n",
              "      <td>1</td>\n",
              "      <td>0</td>\n",
              "      <td>0</td>\n",
              "      <td>0</td>\n",
              "    </tr>\n",
              "    <tr>\n",
              "      <th>101999</th>\n",
              "      <td>0</td>\n",
              "      <td>0</td>\n",
              "      <td>0</td>\n",
              "      <td>0</td>\n",
              "      <td>0</td>\n",
              "      <td>0</td>\n",
              "      <td>0</td>\n",
              "      <td>0</td>\n",
              "      <td>0</td>\n",
              "      <td>1</td>\n",
              "    </tr>\n",
              "  </tbody>\n",
              "</table>\n",
              "<p>102000 rows × 10 columns</p>\n",
              "</div>"
            ],
            "text/plain": [
              "        0  1  2  3  4  5  6  7  8  9\n",
              "0       0  0  0  0  0  1  0  0  0  0\n",
              "1       1  0  0  0  0  0  0  0  0  0\n",
              "2       0  0  0  0  1  0  0  0  0  0\n",
              "3       0  1  0  0  0  0  0  0  0  0\n",
              "4       0  0  0  0  0  0  0  0  0  1\n",
              "...    .. .. .. .. .. .. .. .. .. ..\n",
              "101995  1  0  0  0  0  0  0  0  0  0\n",
              "101996  0  1  0  0  0  0  0  0  0  0\n",
              "101997  0  0  0  0  0  0  0  1  0  0\n",
              "101998  0  0  0  0  0  0  1  0  0  0\n",
              "101999  0  0  0  0  0  0  0  0  0  1\n",
              "\n",
              "[102000 rows x 10 columns]"
            ]
          },
          "metadata": {
            "tags": []
          },
          "execution_count": 15
        }
      ]
    },
    {
      "cell_type": "markdown",
      "metadata": {
        "id": "Lu9C-aeXP-7P",
        "colab_type": "text"
      },
      "source": [
        "# Data Augmentation"
      ]
    },
    {
      "cell_type": "code",
      "metadata": {
        "id": "Twnw5D9k-zlE",
        "colab_type": "code",
        "colab": {}
      },
      "source": [
        "'''\n",
        "Let's apply some data augmentation.\n",
        "\n",
        "Data augmentation is a set of techniques used to generate new training samples from the original ones\n",
        "by applying jitters and perturbations such that the classes labels are not changed.\n",
        "In the context of computer vision, these random transformations can be translating,\n",
        "rotating, scaling, shearing, flipping etc.\n",
        "\n",
        "Data augmentation is a form of regularization because the training algorithm is being\n",
        "constantly presented with new training samples,\n",
        "allowing it to learn more robust and discriminative patterns\n",
        "and reducing overfitting.\n",
        "'''\n",
        "\n",
        "daug = ImageDataGenerator(\n",
        "    featurewise_center=False,\n",
        "    samplewise_center=False,\n",
        "    featurewise_std_normalization=False,\n",
        "    samplewise_std_normalization=False,\n",
        "    zca_whitening=False,\n",
        "    rotation_range=10,\n",
        "    zoom_range = 0.1, \n",
        "    width_shift_range=0.1,\n",
        "    height_shift_range=0.1,\n",
        "    horizontal_flip=False,\n",
        "    vertical_flip=False\n",
        ")"
      ],
      "execution_count": 0,
      "outputs": []
    },
    {
      "cell_type": "markdown",
      "metadata": {
        "id": "lt3KsDRHQHjw",
        "colab_type": "text"
      },
      "source": [
        "# Build the model"
      ]
    },
    {
      "cell_type": "code",
      "metadata": {
        "id": "yyv1La7e-8O_",
        "colab_type": "code",
        "colab": {}
      },
      "source": [
        "'''\n",
        "Here, we've imported our CNN.\n",
        "\n",
        "Pay attention to Batch Normalization and Dropout layers\n",
        "which help to reduce overfitting.\n",
        "'''\n",
        "\n",
        "from tensorflow.keras.models import Sequential\n",
        "from tensorflow.keras.layers import (BatchNormalization,\n",
        "                                     Conv2D,\n",
        "                                     MaxPooling2D,\n",
        "                                     Activation,\n",
        "                                     Flatten,\n",
        "                                     Dropout,\n",
        "                                     Dense,\n",
        "                                     LeakyReLU)\n",
        "\n",
        "class CustomNet(object):\n",
        "    @staticmethod\n",
        "    def build(width, height, num_classes, depth=3):\n",
        "        model = Sequential()\n",
        "        input_shape = (height, width, depth)\n",
        "        chan_dim = -1\n",
        "        \n",
        "        model.add(Conv2D(64, (5, 5), padding='same', input_shape=input_shape))\n",
        "        model.add(LeakyReLU(alpha=0.1))\n",
        "        model.add(BatchNormalization(axis=chan_dim))\n",
        "        model.add(Conv2D(64, (5, 5), padding='same'))\n",
        "        model.add(LeakyReLU(alpha=0.1))\n",
        "        model.add(BatchNormalization(axis=chan_dim))\n",
        "        model.add(MaxPooling2D(pool_size=(2, 2)))\n",
        "        model.add(Dropout(0.2))\n",
        "\n",
        "        model.add(Conv2D(64, (3, 3), padding='same'))\n",
        "        model.add(LeakyReLU(alpha=0.1))\n",
        "        model.add(BatchNormalization(axis=chan_dim))\n",
        "        model.add(Conv2D(64, (3, 3), padding='same'))\n",
        "        model.add(LeakyReLU(alpha=0.1))\n",
        "        model.add(BatchNormalization(axis=chan_dim))\n",
        "        model.add(MaxPooling2D(pool_size=(2, 2)))\n",
        "        model.add(Dropout(0.2))\n",
        "\n",
        "        model.add(Conv2D(64, (3, 3), padding='same'))\n",
        "        model.add(LeakyReLU(alpha=0.1))\n",
        "        model.add(BatchNormalization(axis=chan_dim))\n",
        "        model.add(Conv2D(64, (3, 3), padding='same'))\n",
        "        model.add(LeakyReLU(alpha=0.1))\n",
        "        model.add(BatchNormalization(axis=chan_dim))\n",
        "        model.add(Dropout(0.25))\n",
        "        \n",
        "        model.add(Flatten())\n",
        "        model.add(Dense(256))\n",
        "        model.add(LeakyReLU(alpha=0.1))\n",
        "        model.add(BatchNormalization())\n",
        "        model.add(Dense(128))\n",
        "        model.add(LeakyReLU(alpha=0.1))\n",
        "        model.add(BatchNormalization())\n",
        "        model.add(Dropout(0.5))\n",
        "        \n",
        "        # Softmax\n",
        "        model.add(Dense(num_classes))\n",
        "        model.add(Activation('softmax'))\n",
        "        \n",
        "        print(model.summary())\n",
        "        \n",
        "        return model"
      ],
      "execution_count": 0,
      "outputs": []
    },
    {
      "cell_type": "code",
      "metadata": {
        "id": "H1gFq6w1_EPG",
        "colab_type": "code",
        "outputId": "78039486-d60f-4c93-c470-8d071b844c1d",
        "colab": {
          "base_uri": "https://localhost:8080/",
          "height": 1000
        }
      },
      "source": [
        "net = CustomNet()\n",
        "\n",
        "model = net.build(\n",
        "    width=D,\n",
        "    height=D,\n",
        "    num_classes=P,\n",
        "    depth=C)"
      ],
      "execution_count": 18,
      "outputs": [
        {
          "output_type": "stream",
          "text": [
            "WARNING:tensorflow:From /usr/local/lib/python3.6/dist-packages/tensorflow_core/python/ops/resource_variable_ops.py:1630: calling BaseResourceVariable.__init__ (from tensorflow.python.ops.resource_variable_ops) with constraint is deprecated and will be removed in a future version.\n",
            "Instructions for updating:\n",
            "If using Keras pass *_constraint arguments to layers.\n",
            "Model: \"sequential\"\n",
            "_________________________________________________________________\n",
            "Layer (type)                 Output Shape              Param #   \n",
            "=================================================================\n",
            "conv2d (Conv2D)              (None, 28, 28, 64)        1664      \n",
            "_________________________________________________________________\n",
            "leaky_re_lu (LeakyReLU)      (None, 28, 28, 64)        0         \n",
            "_________________________________________________________________\n",
            "batch_normalization (BatchNo (None, 28, 28, 64)        256       \n",
            "_________________________________________________________________\n",
            "conv2d_1 (Conv2D)            (None, 28, 28, 64)        102464    \n",
            "_________________________________________________________________\n",
            "leaky_re_lu_1 (LeakyReLU)    (None, 28, 28, 64)        0         \n",
            "_________________________________________________________________\n",
            "batch_normalization_1 (Batch (None, 28, 28, 64)        256       \n",
            "_________________________________________________________________\n",
            "max_pooling2d (MaxPooling2D) (None, 14, 14, 64)        0         \n",
            "_________________________________________________________________\n",
            "dropout (Dropout)            (None, 14, 14, 64)        0         \n",
            "_________________________________________________________________\n",
            "conv2d_2 (Conv2D)            (None, 14, 14, 64)        36928     \n",
            "_________________________________________________________________\n",
            "leaky_re_lu_2 (LeakyReLU)    (None, 14, 14, 64)        0         \n",
            "_________________________________________________________________\n",
            "batch_normalization_2 (Batch (None, 14, 14, 64)        256       \n",
            "_________________________________________________________________\n",
            "conv2d_3 (Conv2D)            (None, 14, 14, 64)        36928     \n",
            "_________________________________________________________________\n",
            "leaky_re_lu_3 (LeakyReLU)    (None, 14, 14, 64)        0         \n",
            "_________________________________________________________________\n",
            "batch_normalization_3 (Batch (None, 14, 14, 64)        256       \n",
            "_________________________________________________________________\n",
            "max_pooling2d_1 (MaxPooling2 (None, 7, 7, 64)          0         \n",
            "_________________________________________________________________\n",
            "dropout_1 (Dropout)          (None, 7, 7, 64)          0         \n",
            "_________________________________________________________________\n",
            "conv2d_4 (Conv2D)            (None, 7, 7, 64)          36928     \n",
            "_________________________________________________________________\n",
            "leaky_re_lu_4 (LeakyReLU)    (None, 7, 7, 64)          0         \n",
            "_________________________________________________________________\n",
            "batch_normalization_4 (Batch (None, 7, 7, 64)          256       \n",
            "_________________________________________________________________\n",
            "conv2d_5 (Conv2D)            (None, 7, 7, 64)          36928     \n",
            "_________________________________________________________________\n",
            "leaky_re_lu_5 (LeakyReLU)    (None, 7, 7, 64)          0         \n",
            "_________________________________________________________________\n",
            "batch_normalization_5 (Batch (None, 7, 7, 64)          256       \n",
            "_________________________________________________________________\n",
            "dropout_2 (Dropout)          (None, 7, 7, 64)          0         \n",
            "_________________________________________________________________\n",
            "flatten (Flatten)            (None, 3136)              0         \n",
            "_________________________________________________________________\n",
            "dense (Dense)                (None, 256)               803072    \n",
            "_________________________________________________________________\n",
            "leaky_re_lu_6 (LeakyReLU)    (None, 256)               0         \n",
            "_________________________________________________________________\n",
            "batch_normalization_6 (Batch (None, 256)               1024      \n",
            "_________________________________________________________________\n",
            "dense_1 (Dense)              (None, 128)               32896     \n",
            "_________________________________________________________________\n",
            "leaky_re_lu_7 (LeakyReLU)    (None, 128)               0         \n",
            "_________________________________________________________________\n",
            "batch_normalization_7 (Batch (None, 128)               512       \n",
            "_________________________________________________________________\n",
            "dropout_3 (Dropout)          (None, 128)               0         \n",
            "_________________________________________________________________\n",
            "dense_2 (Dense)              (None, 10)                1290      \n",
            "_________________________________________________________________\n",
            "activation (Activation)      (None, 10)                0         \n",
            "=================================================================\n",
            "Total params: 1,092,170\n",
            "Trainable params: 1,090,634\n",
            "Non-trainable params: 1,536\n",
            "_________________________________________________________________\n",
            "None\n"
          ],
          "name": "stdout"
        }
      ]
    },
    {
      "cell_type": "code",
      "metadata": {
        "id": "KTpNXCOv_MSN",
        "colab_type": "code",
        "colab": {}
      },
      "source": [
        "'''\n",
        "When the model has seen all of your training samples, we say that one epoch has passed.\n",
        "We're going to train the model for N epochs.\n",
        "'''\n",
        "\n",
        "num_epochs = 50"
      ],
      "execution_count": 0,
      "outputs": []
    },
    {
      "cell_type": "markdown",
      "metadata": {
        "id": "OMvmtL3nQ-Ci",
        "colab_type": "text"
      },
      "source": [
        "# Set the optimizer and hyperparameters"
      ]
    },
    {
      "cell_type": "code",
      "metadata": {
        "id": "DBEwOLKt_PFC",
        "colab_type": "code",
        "colab": {}
      },
      "source": [
        "'''\n",
        "Let's use an optimization method.\n",
        "\n",
        "Optimization algorithms are the engines that power neural networks and\n",
        "enable them to learn patterns from data by tweaking and seeking for optimal weights values.\n",
        "Most common one is the (Stochastic) Gradient Descent, but I'll use Adam here.\n",
        "\n",
        "As you can see, the first param is lr, or learning rate.\n",
        "This is one of the most important hyperparameters we have to tune.\n",
        "A learning rate is the step your optimization algorithm is going to make toward\n",
        "the direction that leads to a lower loss function (and a higher accuracy).\n",
        "\n",
        "If the learning rate is too small, the algorithm is going to make tiny steps slowing down the process.\n",
        "But on the other hand, if the learning rate is too high,\n",
        "the algorithm risks to bounce around the loss landscape and not actually “learn” any patterns from your data.\n",
        "'''\n",
        "\n",
        "# Initial learning rate\n",
        "init_lr = 0.01\n",
        "\n",
        "adam_opt = Adam(\n",
        "    lr=init_lr,\n",
        "    beta_1=0.9,\n",
        "    beta_2=0.999,\n",
        "    epsilon=1e-08,\n",
        "    decay=0.0\n",
        ")\n",
        "\n",
        "\n",
        "'''\n",
        "Let's now define a learn-rate scheduler.\n",
        "\n",
        "The decay is used to slowly reduce the learning rate over time.\n",
        "Decaying the learning rate is helpful in reducing overfitting \n",
        "and obtaining higher classification accuracy – the smaller the learning rate is, \n",
        "the smaller the weight updates will be. \n",
        "We're going to use a polynomial decay. \n",
        "Although there are many way to do that.\n",
        "'''\n",
        "\n",
        "def polynomial_decay(epoch):\n",
        "    max_epochs = num_epochs\n",
        "    base_lr = init_lr\n",
        "    power = 2.0\n",
        "    \n",
        "    return base_lr * (1 - (epoch / float(max_epochs))) ** power"
      ],
      "execution_count": 0,
      "outputs": []
    },
    {
      "cell_type": "code",
      "metadata": {
        "id": "UooJ3CYmQwHy",
        "colab_type": "code",
        "outputId": "fb69c0c8-cb97-4f84-ba50-86a099e55183",
        "colab": {
          "base_uri": "https://localhost:8080/",
          "height": 279
        }
      },
      "source": [
        "# Let's plot it.\n",
        "\n",
        "x = np.linspace(0, num_epochs)\n",
        "fx = [init_lr * (1 - (i / float(num_epochs))) ** 3.0 for i in range(len(x))]\n",
        "plt.plot(x, fx)\n",
        "plt.title(label='Polynomial decay, power 3')\n",
        "plt.show()"
      ],
      "execution_count": 37,
      "outputs": [
        {
          "output_type": "display_data",
          "data": {
            "image/png": "[encoded data removed]",
            "text/plain": [
              "<Figure size 432x288 with 1 Axes>"
            ]
          },
          "metadata": {
            "tags": []
          }
        }
      ]
    },
    {
      "cell_type": "code",
      "metadata": {
        "id": "Pk0dspZZvGzv",
        "colab_type": "code",
        "outputId": "2dd2c9d8-0f8d-41bb-e380-1296896e8fed",
        "colab": {
          "base_uri": "https://localhost:8080/",
          "height": 279
        }
      },
      "source": [
        "# Step decay\n",
        "def step_decay(epoch):\n",
        "  factor    = 0.5\n",
        "  drop_rate = 5\n",
        "\n",
        "  return float(init_lr * (factor ** np.floor((1 + epoch) / drop_rate)))\n",
        "\n",
        "x = np.linspace(0, num_epochs)\n",
        "fx = [float(init_lr * (0.5 ** np.floor((1 + i) / 5))) for i in range(len(x))]\n",
        "plt.plot(x, fx)\n",
        "plt.title(label=f'Step decay')\n",
        "plt.show()"
      ],
      "execution_count": 36,
      "outputs": [
        {
          "output_type": "display_data",
          "data": {
            "image/png": "[encoded data removed]",
            "text/plain": [
              "<Figure size 432x288 with 1 Axes>"
            ]
          },
          "metadata": {
            "tags": []
          }
        }
      ]
    },
    {
      "cell_type": "markdown",
      "metadata": {
        "id": "B7MF62w5RL3Y",
        "colab_type": "text"
      },
      "source": [
        "# Training time!"
      ]
    },
    {
      "cell_type": "code",
      "metadata": {
        "id": "WTK8tGFp_asi",
        "colab_type": "code",
        "colab": {}
      },
      "source": [
        "'''\n",
        "Here, we define two callbacks.\n",
        "\n",
        "Callbacks are functions executed at the end of an epoch.\n",
        "The first one save our model (checkpoint) whenever the loss decreases (therefore our accuracy improves).\n",
        "That way we keep the best model. The last one is our learning rate scheduler using the polynomial decay.\n",
        "'''\n",
        "\n",
        "checkpointHandler = ModelCheckpoint(\n",
        "    os.path.join(base_dir, 'best_c10_weights.hdf5'),\n",
        "    monitor='val_loss',\n",
        "    save_best_only=True,\n",
        "    verbose=1\n",
        ")\n",
        "\n",
        "callbacks = [\n",
        "    # LearningRateScheduler(polynomial_decay)\n",
        "    LearningRateScheduler(step_decay)\n",
        "    # checkpointHandler\n",
        "]"
      ],
      "execution_count": 0,
      "outputs": []
    },
    {
      "cell_type": "code",
      "metadata": {
        "id": "af9qwYmE_dVT",
        "colab_type": "code",
        "outputId": "81c5336a-005d-4314-9dfb-a4e06d7a0998",
        "colab": {
          "base_uri": "https://localhost:8080/",
          "height": 1000
        }
      },
      "source": [
        "batch_size = 128\n",
        "\n",
        "print('# Compiling the model...')\n",
        "model.compile(\n",
        "    loss='categorical_crossentropy',\n",
        "    optimizer=adam_opt,\n",
        "    metrics=['accuracy']\n",
        ")\n",
        "\n",
        "print('# Training the network...')\n",
        "h = model.fit_generator(\n",
        "    daug.flow(X_train, y_train, batch_size=batch_size),\n",
        "    validation_data=(X_ttest, y_ttest),\n",
        "    epochs=num_epochs,\n",
        "    steps_per_epoch=len(X_train) // batch_size,\n",
        "    callbacks=callbacks,\n",
        "    verbose=1\n",
        ")"
      ],
      "execution_count": 27,
      "outputs": [
        {
          "output_type": "stream",
          "text": [
            "# Compiling the model...\n",
            "# Training the network...\n",
            "Epoch 1/50\n",
            "795/796 [============================>.] - ETA: 0s - loss: 0.1736 - acc: 0.9479Epoch 1/50\n",
            "10000/796 [========================================================================================================================================================================================================================================================================================================================================================================================] - 1s 95us/sample - loss: 0.1232 - acc: 0.9419\n",
            "796/796 [==============================] - 40s 50ms/step - loss: 0.1735 - acc: 0.9479 - val_loss: 0.1862 - val_acc: 0.9419\n",
            "Epoch 2/50\n",
            "795/796 [============================>.] - ETA: 0s - loss: 0.0717 - acc: 0.9793Epoch 1/50\n",
            "10000/796 [========================================================================================================================================================================================================================================================================================================================================================================================] - 1s 72us/sample - loss: 0.0271 - acc: 0.9827\n",
            "796/796 [==============================] - 31s 39ms/step - loss: 0.0716 - acc: 0.9793 - val_loss: 0.0498 - val_acc: 0.9827\n",
            "Epoch 3/50\n",
            "795/796 [============================>.] - ETA: 0s - loss: 0.0578 - acc: 0.9831Epoch 1/50\n",
            "10000/796 [========================================================================================================================================================================================================================================================================================================================================================================================] - 1s 74us/sample - loss: 0.0224 - acc: 0.9878\n",
            "796/796 [==============================] - 32s 40ms/step - loss: 0.0578 - acc: 0.9831 - val_loss: 0.0423 - val_acc: 0.9878\n",
            "Epoch 4/50\n",
            "794/796 [============================>.] - ETA: 0s - loss: 0.0513 - acc: 0.9852Epoch 1/50\n",
            "10000/796 [========================================================================================================================================================================================================================================================================================================================================================================================] - 1s 74us/sample - loss: 0.1239 - acc: 0.9749\n",
            "796/796 [==============================] - 31s 40ms/step - loss: 0.0512 - acc: 0.9852 - val_loss: 0.0855 - val_acc: 0.9749\n",
            "Epoch 5/50\n",
            "795/796 [============================>.] - ETA: 0s - loss: 0.0350 - acc: 0.9897Epoch 1/50\n",
            "10000/796 [========================================================================================================================================================================================================================================================================================================================================================================================] - 1s 73us/sample - loss: 0.0073 - acc: 0.9954\n",
            "796/796 [==============================] - 31s 39ms/step - loss: 0.0350 - acc: 0.9897 - val_loss: 0.0140 - val_acc: 0.9954\n",
            "Epoch 6/50\n",
            "794/796 [============================>.] - ETA: 0s - loss: 0.0339 - acc: 0.9903Epoch 1/50\n",
            "10000/796 [========================================================================================================================================================================================================================================================================================================================================================================================] - 1s 73us/sample - loss: 0.0082 - acc: 0.9950\n",
            "796/796 [==============================] - 32s 40ms/step - loss: 0.0338 - acc: 0.9903 - val_loss: 0.0152 - val_acc: 0.9950\n",
            "Epoch 7/50\n",
            "795/796 [============================>.] - ETA: 0s - loss: 0.0332 - acc: 0.9907Epoch 1/50\n",
            "10000/796 [========================================================================================================================================================================================================================================================================================================================================================================================] - 1s 74us/sample - loss: 0.0063 - acc: 0.9965\n",
            "796/796 [==============================] - 31s 39ms/step - loss: 0.0332 - acc: 0.9907 - val_loss: 0.0121 - val_acc: 0.9965\n",
            "Epoch 8/50\n",
            "795/796 [============================>.] - ETA: 0s - loss: 0.0319 - acc: 0.9907Epoch 1/50\n",
            "10000/796 [========================================================================================================================================================================================================================================================================================================================================================================================] - 1s 77us/sample - loss: 0.0113 - acc: 0.9935\n",
            "796/796 [==============================] - 32s 40ms/step - loss: 0.0319 - acc: 0.9907 - val_loss: 0.0203 - val_acc: 0.9935\n",
            "Epoch 9/50\n",
            "795/796 [============================>.] - ETA: 0s - loss: 0.0318 - acc: 0.9912Epoch 1/50\n",
            "10000/796 [========================================================================================================================================================================================================================================================================================================================================================================================] - 1s 77us/sample - loss: 0.0089 - acc: 0.9953\n",
            "796/796 [==============================] - 31s 39ms/step - loss: 0.0318 - acc: 0.9912 - val_loss: 0.0166 - val_acc: 0.9953\n",
            "Epoch 10/50\n",
            "795/796 [============================>.] - ETA: 0s - loss: 0.0230 - acc: 0.9933Epoch 1/50\n",
            "10000/796 [========================================================================================================================================================================================================================================================================================================================================================================================] - 1s 76us/sample - loss: 0.0076 - acc: 0.9950\n",
            "796/796 [==============================] - 32s 40ms/step - loss: 0.0230 - acc: 0.9933 - val_loss: 0.0140 - val_acc: 0.9950\n",
            "Epoch 11/50\n",
            "795/796 [============================>.] - ETA: 0s - loss: 0.0213 - acc: 0.9935Epoch 1/50\n",
            "10000/796 [========================================================================================================================================================================================================================================================================================================================================================================================] - 1s 78us/sample - loss: 0.0048 - acc: 0.9972\n",
            "796/796 [==============================] - 31s 39ms/step - loss: 0.0213 - acc: 0.9935 - val_loss: 0.0087 - val_acc: 0.9972\n",
            "Epoch 12/50\n",
            "794/796 [============================>.] - ETA: 0s - loss: 0.0200 - acc: 0.9940Epoch 1/50\n",
            "10000/796 [========================================================================================================================================================================================================================================================================================================================================================================================] - 1s 75us/sample - loss: 0.0057 - acc: 0.9961\n",
            "796/796 [==============================] - 31s 39ms/step - loss: 0.0199 - acc: 0.9941 - val_loss: 0.0109 - val_acc: 0.9961\n",
            "Epoch 13/50\n",
            "795/796 [============================>.] - ETA: 0s - loss: 0.0190 - acc: 0.9944Epoch 1/50\n",
            "10000/796 [========================================================================================================================================================================================================================================================================================================================================================================================] - 1s 78us/sample - loss: 0.0046 - acc: 0.9969\n",
            "796/796 [==============================] - 31s 39ms/step - loss: 0.0191 - acc: 0.9943 - val_loss: 0.0089 - val_acc: 0.9969\n",
            "Epoch 14/50\n",
            "795/796 [============================>.] - ETA: 0s - loss: 0.0198 - acc: 0.9944Epoch 1/50\n",
            "10000/796 [========================================================================================================================================================================================================================================================================================================================================================================================] - 1s 76us/sample - loss: 0.0034 - acc: 0.9976\n",
            "796/796 [==============================] - 31s 39ms/step - loss: 0.0198 - acc: 0.9945 - val_loss: 0.0064 - val_acc: 0.9976\n",
            "Epoch 15/50\n",
            "795/796 [============================>.] - ETA: 0s - loss: 0.0147 - acc: 0.9956Epoch 1/50\n",
            "10000/796 [========================================================================================================================================================================================================================================================================================================================================================================================] - 1s 75us/sample - loss: 0.0025 - acc: 0.9984\n",
            "796/796 [==============================] - 31s 39ms/step - loss: 0.0147 - acc: 0.9956 - val_loss: 0.0049 - val_acc: 0.9984\n",
            "Epoch 16/50\n",
            "795/796 [============================>.] - ETA: 0s - loss: 0.0129 - acc: 0.9960Epoch 1/50\n",
            "10000/796 [========================================================================================================================================================================================================================================================================================================================================================================================] - 1s 76us/sample - loss: 0.0075 - acc: 0.9970\n",
            "796/796 [==============================] - 31s 39ms/step - loss: 0.0129 - acc: 0.9960 - val_loss: 0.0083 - val_acc: 0.9970\n",
            "Epoch 17/50\n",
            "794/796 [============================>.] - ETA: 0s - loss: 0.0139 - acc: 0.9957Epoch 1/50\n",
            "10000/796 [========================================================================================================================================================================================================================================================================================================================================================================================] - 1s 78us/sample - loss: 0.0031 - acc: 0.9975\n",
            "796/796 [==============================] - 31s 39ms/step - loss: 0.0139 - acc: 0.9957 - val_loss: 0.0062 - val_acc: 0.9975\n",
            "Epoch 18/50\n",
            "795/796 [============================>.] - ETA: 0s - loss: 0.0121 - acc: 0.9961Epoch 1/50\n",
            "10000/796 [========================================================================================================================================================================================================================================================================================================================================================================================] - 1s 77us/sample - loss: 0.0036 - acc: 0.9978\n",
            "796/796 [==============================] - 31s 39ms/step - loss: 0.0121 - acc: 0.9961 - val_loss: 0.0071 - val_acc: 0.9978\n",
            "Epoch 19/50\n",
            "794/796 [============================>.] - ETA: 0s - loss: 0.0127 - acc: 0.9962Epoch 1/50\n",
            "10000/796 [========================================================================================================================================================================================================================================================================================================================================================================================] - 1s 75us/sample - loss: 0.0029 - acc: 0.9982\n",
            "796/796 [==============================] - 31s 39ms/step - loss: 0.0127 - acc: 0.9962 - val_loss: 0.0057 - val_acc: 0.9982\n",
            "Epoch 20/50\n",
            "794/796 [============================>.] - ETA: 0s - loss: 0.0102 - acc: 0.9969Epoch 1/50\n",
            "10000/796 [========================================================================================================================================================================================================================================================================================================================================================================================] - 1s 75us/sample - loss: 0.0030 - acc: 0.9979\n",
            "796/796 [==============================] - 31s 39ms/step - loss: 0.0102 - acc: 0.9969 - val_loss: 0.0060 - val_acc: 0.9979\n",
            "Epoch 21/50\n",
            "795/796 [============================>.] - ETA: 0s - loss: 0.0096 - acc: 0.9971Epoch 1/50\n",
            "10000/796 [========================================================================================================================================================================================================================================================================================================================================================================================] - 1s 77us/sample - loss: 0.0024 - acc: 0.9980\n",
            "796/796 [==============================] - 31s 39ms/step - loss: 0.0096 - acc: 0.9971 - val_loss: 0.0047 - val_acc: 0.9980\n",
            "Epoch 22/50\n",
            "794/796 [============================>.] - ETA: 0s - loss: 0.0092 - acc: 0.9970Epoch 1/50\n",
            "10000/796 [========================================================================================================================================================================================================================================================================================================================================================================================] - 1s 75us/sample - loss: 0.0025 - acc: 0.9981\n",
            "796/796 [==============================] - 31s 39ms/step - loss: 0.0092 - acc: 0.9970 - val_loss: 0.0050 - val_acc: 0.9981\n",
            "Epoch 23/50\n",
            "795/796 [============================>.] - ETA: 0s - loss: 0.0088 - acc: 0.9972Epoch 1/50\n",
            "10000/796 [========================================================================================================================================================================================================================================================================================================================================================================================] - 1s 76us/sample - loss: 0.0026 - acc: 0.9981\n",
            "796/796 [==============================] - 31s 39ms/step - loss: 0.0088 - acc: 0.9972 - val_loss: 0.0052 - val_acc: 0.9981\n",
            "Epoch 24/50\n",
            "794/796 [============================>.] - ETA: 0s - loss: 0.0087 - acc: 0.9973Epoch 1/50\n",
            "10000/796 [========================================================================================================================================================================================================================================================================================================================================================================================] - 1s 75us/sample - loss: 0.0034 - acc: 0.9979\n",
            "796/796 [==============================] - 31s 39ms/step - loss: 0.0086 - acc: 0.9973 - val_loss: 0.0067 - val_acc: 0.9979\n",
            "Epoch 25/50\n",
            "795/796 [============================>.] - ETA: 0s - loss: 0.0079 - acc: 0.9977Epoch 1/50\n",
            "10000/796 [========================================================================================================================================================================================================================================================================================================================================================================================] - 1s 76us/sample - loss: 0.0019 - acc: 0.9986\n",
            "796/796 [==============================] - 31s 38ms/step - loss: 0.0080 - acc: 0.9977 - val_loss: 0.0037 - val_acc: 0.9986\n",
            "Epoch 26/50\n",
            "794/796 [============================>.] - ETA: 0s - loss: 0.0073 - acc: 0.9978Epoch 1/50\n",
            "10000/796 [========================================================================================================================================================================================================================================================================================================================================================================================] - 1s 77us/sample - loss: 0.0017 - acc: 0.9989\n",
            "796/796 [==============================] - 31s 39ms/step - loss: 0.0073 - acc: 0.9978 - val_loss: 0.0033 - val_acc: 0.9989\n",
            "Epoch 27/50\n",
            "795/796 [============================>.] - ETA: 0s - loss: 0.0072 - acc: 0.9979Epoch 1/50\n",
            "10000/796 [========================================================================================================================================================================================================================================================================================================================================================================================] - 1s 78us/sample - loss: 0.0019 - acc: 0.9984\n",
            "796/796 [==============================] - 31s 39ms/step - loss: 0.0072 - acc: 0.9979 - val_loss: 0.0039 - val_acc: 0.9984\n",
            "Epoch 28/50\n",
            "795/796 [============================>.] - ETA: 0s - loss: 0.0068 - acc: 0.9978Epoch 1/50\n",
            "10000/796 [========================================================================================================================================================================================================================================================================================================================================================================================] - 1s 73us/sample - loss: 0.0019 - acc: 0.9985\n",
            "796/796 [==============================] - 31s 39ms/step - loss: 0.0068 - acc: 0.9979 - val_loss: 0.0039 - val_acc: 0.9985\n",
            "Epoch 29/50\n",
            "795/796 [============================>.] - ETA: 0s - loss: 0.0075 - acc: 0.9975Epoch 1/50\n",
            "10000/796 [========================================================================================================================================================================================================================================================================================================================================================================================] - 1s 75us/sample - loss: 0.0020 - acc: 0.9985\n",
            "796/796 [==============================] - 31s 39ms/step - loss: 0.0075 - acc: 0.9975 - val_loss: 0.0040 - val_acc: 0.9985\n",
            "Epoch 30/50\n",
            "795/796 [============================>.] - ETA: 0s - loss: 0.0064 - acc: 0.9981Epoch 1/50\n",
            "10000/796 [========================================================================================================================================================================================================================================================================================================================================================================================] - 1s 76us/sample - loss: 0.0022 - acc: 0.9981\n",
            "796/796 [==============================] - 31s 39ms/step - loss: 0.0063 - acc: 0.9981 - val_loss: 0.0044 - val_acc: 0.9981\n",
            "Epoch 31/50\n",
            "795/796 [============================>.] - ETA: 0s - loss: 0.0065 - acc: 0.9981Epoch 1/50\n",
            "10000/796 [========================================================================================================================================================================================================================================================================================================================================================================================] - 1s 80us/sample - loss: 0.0019 - acc: 0.9984\n",
            "796/796 [==============================] - 31s 39ms/step - loss: 0.0065 - acc: 0.9981 - val_loss: 0.0038 - val_acc: 0.9984\n",
            "Epoch 32/50\n",
            "794/796 [============================>.] - ETA: 0s - loss: 0.0065 - acc: 0.9981Epoch 1/50\n",
            "10000/796 [========================================================================================================================================================================================================================================================================================================================================================================================] - 1s 77us/sample - loss: 0.0019 - acc: 0.9982\n",
            "796/796 [==============================] - 31s 39ms/step - loss: 0.0065 - acc: 0.9981 - val_loss: 0.0038 - val_acc: 0.9982\n",
            "Epoch 33/50\n",
            "795/796 [============================>.] - ETA: 0s - loss: 0.0065 - acc: 0.9980Epoch 1/50\n",
            "10000/796 [========================================================================================================================================================================================================================================================================================================================================================================================] - 1s 76us/sample - loss: 0.0020 - acc: 0.9984\n",
            "796/796 [==============================] - 31s 38ms/step - loss: 0.0065 - acc: 0.9980 - val_loss: 0.0040 - val_acc: 0.9984\n",
            "Epoch 34/50\n",
            "794/796 [============================>.] - ETA: 0s - loss: 0.0066 - acc: 0.9982Epoch 1/50\n",
            "10000/796 [========================================================================================================================================================================================================================================================================================================================================================================================] - 1s 76us/sample - loss: 0.0020 - acc: 0.9983\n",
            "796/796 [==============================] - 31s 39ms/step - loss: 0.0066 - acc: 0.9982 - val_loss: 0.0040 - val_acc: 0.9983\n",
            "Epoch 35/50\n",
            "794/796 [============================>.] - ETA: 0s - loss: 0.0066 - acc: 0.9979Epoch 1/50\n",
            "10000/796 [========================================================================================================================================================================================================================================================================================================================================================================================] - 1s 75us/sample - loss: 0.0019 - acc: 0.9985\n",
            "796/796 [==============================] - 31s 38ms/step - loss: 0.0066 - acc: 0.9979 - val_loss: 0.0037 - val_acc: 0.9985\n",
            "Epoch 36/50\n",
            "794/796 [============================>.] - ETA: 0s - loss: 0.0064 - acc: 0.9982Epoch 1/50\n",
            "10000/796 [========================================================================================================================================================================================================================================================================================================================================================================================] - 1s 75us/sample - loss: 0.0019 - acc: 0.9983\n",
            "796/796 [==============================] - 30s 38ms/step - loss: 0.0064 - acc: 0.9982 - val_loss: 0.0038 - val_acc: 0.9983\n",
            "Epoch 37/50\n",
            "795/796 [============================>.] - ETA: 0s - loss: 0.0064 - acc: 0.9980Epoch 1/50\n",
            "10000/796 [========================================================================================================================================================================================================================================================================================================================================================================================] - 1s 75us/sample - loss: 0.0020 - acc: 0.9982\n",
            "796/796 [==============================] - 31s 38ms/step - loss: 0.0064 - acc: 0.9980 - val_loss: 0.0041 - val_acc: 0.9982\n",
            "Epoch 38/50\n",
            "795/796 [============================>.] - ETA: 0s - loss: 0.0063 - acc: 0.9981Epoch 1/50\n",
            "10000/796 [========================================================================================================================================================================================================================================================================================================================================================================================] - 1s 74us/sample - loss: 0.0018 - acc: 0.9982\n",
            "796/796 [==============================] - 30s 38ms/step - loss: 0.0063 - acc: 0.9981 - val_loss: 0.0037 - val_acc: 0.9982\n",
            "Epoch 39/50\n",
            "795/796 [============================>.] - ETA: 0s - loss: 0.0057 - acc: 0.9982Epoch 1/50\n",
            "10000/796 [========================================================================================================================================================================================================================================================================================================================================================================================] - 1s 76us/sample - loss: 0.0018 - acc: 0.9984\n",
            "796/796 [==============================] - 30s 38ms/step - loss: 0.0057 - acc: 0.9982 - val_loss: 0.0037 - val_acc: 0.9984\n",
            "Epoch 40/50\n",
            "794/796 [============================>.] - ETA: 0s - loss: 0.0061 - acc: 0.9980Epoch 1/50\n",
            "10000/796 [========================================================================================================================================================================================================================================================================================================================================================================================] - 1s 78us/sample - loss: 0.0019 - acc: 0.9985\n",
            "796/796 [==============================] - 31s 38ms/step - loss: 0.0061 - acc: 0.9980 - val_loss: 0.0038 - val_acc: 0.9985\n",
            "Epoch 41/50\n",
            "794/796 [============================>.] - ETA: 0s - loss: 0.0061 - acc: 0.9981Epoch 1/50\n",
            "10000/796 [========================================================================================================================================================================================================================================================================================================================================================================================] - 1s 74us/sample - loss: 0.0019 - acc: 0.9984\n",
            "796/796 [==============================] - 30s 38ms/step - loss: 0.0061 - acc: 0.9981 - val_loss: 0.0038 - val_acc: 0.9984\n",
            "Epoch 42/50\n",
            "795/796 [============================>.] - ETA: 0s - loss: 0.0059 - acc: 0.9983Epoch 1/50\n",
            "10000/796 [========================================================================================================================================================================================================================================================================================================================================================================================] - 1s 74us/sample - loss: 0.0018 - acc: 0.9983\n",
            "796/796 [==============================] - 30s 38ms/step - loss: 0.0059 - acc: 0.9983 - val_loss: 0.0037 - val_acc: 0.9983\n",
            "Epoch 43/50\n",
            "794/796 [============================>.] - ETA: 0s - loss: 0.0061 - acc: 0.9981Epoch 1/50\n",
            "10000/796 [========================================================================================================================================================================================================================================================================================================================================================================================] - 1s 74us/sample - loss: 0.0018 - acc: 0.9983\n",
            "796/796 [==============================] - 30s 38ms/step - loss: 0.0061 - acc: 0.9981 - val_loss: 0.0037 - val_acc: 0.9983\n",
            "Epoch 44/50\n",
            "794/796 [============================>.] - ETA: 0s - loss: 0.0054 - acc: 0.9983Epoch 1/50\n",
            "10000/796 [========================================================================================================================================================================================================================================================================================================================================================================================] - 1s 75us/sample - loss: 0.0018 - acc: 0.9984\n",
            "796/796 [==============================] - 31s 38ms/step - loss: 0.0054 - acc: 0.9983 - val_loss: 0.0037 - val_acc: 0.9984\n",
            "Epoch 45/50\n",
            "795/796 [============================>.] - ETA: 0s - loss: 0.0064 - acc: 0.9979Epoch 1/50\n",
            "10000/796 [========================================================================================================================================================================================================================================================================================================================================================================================] - 1s 74us/sample - loss: 0.0018 - acc: 0.9984\n",
            "796/796 [==============================] - 30s 38ms/step - loss: 0.0064 - acc: 0.9979 - val_loss: 0.0036 - val_acc: 0.9984\n",
            "Epoch 46/50\n",
            "794/796 [============================>.] - ETA: 0s - loss: 0.0059 - acc: 0.9983Epoch 1/50\n",
            "10000/796 [========================================================================================================================================================================================================================================================================================================================================================================================] - 1s 76us/sample - loss: 0.0018 - acc: 0.9985\n",
            "796/796 [==============================] - 30s 38ms/step - loss: 0.0059 - acc: 0.9983 - val_loss: 0.0037 - val_acc: 0.9985\n",
            "Epoch 47/50\n",
            "794/796 [============================>.] - ETA: 0s - loss: 0.0057 - acc: 0.9982Epoch 1/50\n",
            "10000/796 [========================================================================================================================================================================================================================================================================================================================================================================================] - 1s 74us/sample - loss: 0.0018 - acc: 0.9985\n",
            "796/796 [==============================] - 33s 41ms/step - loss: 0.0057 - acc: 0.9982 - val_loss: 0.0035 - val_acc: 0.9985\n",
            "Epoch 48/50\n",
            "794/796 [============================>.] - ETA: 0s - loss: 0.0053 - acc: 0.9985Epoch 1/50\n",
            "10000/796 [========================================================================================================================================================================================================================================================================================================================================================================================] - 1s 75us/sample - loss: 0.0018 - acc: 0.9984\n",
            "796/796 [==============================] - 31s 39ms/step - loss: 0.0053 - acc: 0.9985 - val_loss: 0.0036 - val_acc: 0.9984\n",
            "Epoch 49/50\n",
            "794/796 [============================>.] - ETA: 0s - loss: 0.0054 - acc: 0.9984Epoch 1/50\n",
            "10000/796 [========================================================================================================================================================================================================================================================================================================================================================================================] - 1s 74us/sample - loss: 0.0018 - acc: 0.9983\n",
            "796/796 [==============================] - 31s 39ms/step - loss: 0.0055 - acc: 0.9984 - val_loss: 0.0037 - val_acc: 0.9983\n",
            "Epoch 50/50\n",
            "794/796 [============================>.] - ETA: 0s - loss: 0.0058 - acc: 0.9983Epoch 1/50\n",
            "10000/796 [========================================================================================================================================================================================================================================================================================================================================================================================] - 1s 76us/sample - loss: 0.0018 - acc: 0.9984\n",
            "796/796 [==============================] - 31s 39ms/step - loss: 0.0058 - acc: 0.9982 - val_loss: 0.0036 - val_acc: 0.9984\n"
          ],
          "name": "stdout"
        }
      ]
    },
    {
      "cell_type": "markdown",
      "metadata": {
        "id": "zkTCiSyBRb1n",
        "colab_type": "text"
      },
      "source": [
        "# Evaluate"
      ]
    },
    {
      "cell_type": "code",
      "metadata": {
        "id": "oXQ4M6Lz_eAb",
        "colab_type": "code",
        "colab": {
          "base_uri": "https://localhost:8080/",
          "height": 323
        },
        "outputId": "c30c83be-9ac3-45a9-a331-59395b803004"
      },
      "source": [
        "label_names = ['0', '1', '2', '3', '4', '5', '6', '7', '8', '9']\n",
        "\n",
        "print('Confusion matrix:')\n",
        "preds = model.predict(X_ttest, batch_size=batch_size)\n",
        "print(classification_report(y_ttest.argmax(axis=1),\n",
        "preds.argmax(axis=1), target_names=label_names))"
      ],
      "execution_count": 28,
      "outputs": [
        {
          "output_type": "stream",
          "text": [
            "Confusion matrix:\n",
            "              precision    recall  f1-score   support\n",
            "\n",
            "           0       1.00      1.00      1.00       980\n",
            "           1       1.00      1.00      1.00      1135\n",
            "           2       1.00      1.00      1.00      1032\n",
            "           3       1.00      1.00      1.00      1010\n",
            "           4       1.00      1.00      1.00       982\n",
            "           5       1.00      1.00      1.00       892\n",
            "           6       1.00      1.00      1.00       958\n",
            "           7       1.00      1.00      1.00      1028\n",
            "           8       1.00      1.00      1.00       974\n",
            "           9       1.00      1.00      1.00      1009\n",
            "\n",
            "    accuracy                           1.00     10000\n",
            "   macro avg       1.00      1.00      1.00     10000\n",
            "weighted avg       1.00      1.00      1.00     10000\n",
            "\n"
          ],
          "name": "stdout"
        }
      ]
    },
    {
      "cell_type": "markdown",
      "metadata": {
        "id": "mAd1OXGtReYN",
        "colab_type": "text"
      },
      "source": [
        "# Visualize curves"
      ]
    },
    {
      "cell_type": "code",
      "metadata": {
        "id": "xGB-cLnW_toq",
        "colab_type": "code",
        "colab": {
          "base_uri": "https://localhost:8080/",
          "height": 404
        },
        "outputId": "3ed61303-f94b-4b4c-e94a-ab5790fe6029"
      },
      "source": [
        "plt.figure(figsize=(10, 6))\n",
        "plt.plot(np.arange(0, num_epochs), h.history['loss'], label='train_loss')\n",
        "plt.plot(np.arange(0, num_epochs), h.history['val_loss'], label='val_loss')\n",
        "\n",
        "plt.title('Train - Validation loss')\n",
        "plt.ylabel('Loss/Epochs')\n",
        "plt.xlabel('Epochs #')\n",
        "plt.legend()\n",
        "\n",
        "plt.show()"
      ],
      "execution_count": 42,
      "outputs": [
        {
          "output_type": "display_data",
          "data": {
            "image/png": "[encoded data removed]",
            "text/plain": [
              "<Figure size 720x432 with 1 Axes>"
            ]
          },
          "metadata": {
            "tags": []
          }
        }
      ]
    },
    {
      "cell_type": "code",
      "metadata": {
        "id": "dJuOy0_Eh4pb",
        "colab_type": "code",
        "colab": {
          "base_uri": "https://localhost:8080/",
          "height": 404
        },
        "outputId": "f44d8405-79ac-43b7-90f1-13bcac087f6f"
      },
      "source": [
        "plt.figure(figsize=(10, 6))\n",
        "plt.plot(np.arange(0, num_epochs), h.history['acc'], label='train_accuracy')\n",
        "plt.plot(np.arange(0, num_epochs), h.history['val_acc'], label='val_accuracy')\n",
        "\n",
        "plt.title('Train - Validation accuracy')\n",
        "plt.ylabel('Accuracy/Epochs')\n",
        "plt.xlabel('Epochs #')\n",
        "plt.legend()\n",
        "\n",
        "plt.show()"
      ],
      "execution_count": 41,
      "outputs": [
        {
          "output_type": "display_data",
          "data": {
            "image/png": "[encoded data removed]",
            "text/plain": [
              "<Figure size 720x432 with 1 Axes>"
            ]
          },
          "metadata": {
            "tags": []
          }
        }
      ]
    },
    {
      "cell_type": "markdown",
      "metadata": {
        "id": "NQ5OuM1ONtMV",
        "colab_type": "text"
      },
      "source": [
        "# Kaggle"
      ]
    },
    {
      "cell_type": "code",
      "metadata": {
        "id": "7MI8GAR1IDXq",
        "colab_type": "code",
        "colab": {
          "base_uri": "https://localhost:8080/",
          "height": 391
        },
        "outputId": "468a2c4c-cedf-405f-83ef-a14c5d5ea906"
      },
      "source": [
        "'''\n",
        "Pushing a submission to Kaggle.\n",
        "\n",
        "First of, load the test set, normalize it and reshape it.\n",
        "Then, make predictions via the trained model and build the\n",
        "submission csv file.\n",
        "'''\n",
        "\n",
        "sub_X_test = pd.read_csv(os.path.join(base_dir, 'test.csv'))     # load test csv into DataFrame\n",
        "sub_X_test = sub_X_test / 255.0                                  # normalize pixel itensities\n",
        "sub_X_test = sub_X_test.values.reshape(-1, D, D, C)              # reshape to meet Keras requirements\n",
        "preds = model.predict_classes(sub_X_test, batch_size=batch_size) # make predictions\n",
        "id_col = np.arange(1, preds.shape[0] + 1)                        # shift index\n",
        "submission = pd.DataFrame({'ImageId': id_col, 'Label': preds})   # build a submission                                     \n",
        "print(submission.head(20))\n",
        "submission.to_csv(os.path.join(base_dir, 'cnn_mnist_datagen.csv'), index=False)\n",
        "\n",
        "print('Saved to:', os.path.join(base_dir, 'cnn_mnist_datagen.csv'))"
      ],
      "execution_count": 56,
      "outputs": [
        {
          "output_type": "stream",
          "text": [
            "    ImageId  Label\n",
            "0         1      2\n",
            "1         2      0\n",
            "2         3      9\n",
            "3         4      0\n",
            "4         5      3\n",
            "5         6      7\n",
            "6         7      0\n",
            "7         8      3\n",
            "8         9      0\n",
            "9        10      3\n",
            "10       11      5\n",
            "11       12      7\n",
            "12       13      4\n",
            "13       14      0\n",
            "14       15      4\n",
            "15       16      3\n",
            "16       17      3\n",
            "17       18      1\n",
            "18       19      9\n",
            "19       20      0\n",
            "Saved to: /content/gdrive/My Drive/deepl/cnn_mnist_datagen.csv\n"
          ],
          "name": "stdout"
        }
      ]
    }
  ]
}