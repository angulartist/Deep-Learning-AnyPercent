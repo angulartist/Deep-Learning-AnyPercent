{
  "nbformat": 4,
  "nbformat_minor": 0,
  "metadata": {
    "colab": {
      "name": "mnist_colab.ipynb",
      "provenance": [],
      "collapsed_sections": [],
      "authorship_tag": "ABX9TyO34Tkq8Eq6+PyFA5QVmeGd",
      "include_colab_link": true
    },
    "kernelspec": {
      "name": "python3",
      "display_name": "Python 3"
    },
    "accelerator": "GPU"
  },
  "cells": [
    {
      "cell_type": "markdown",
      "metadata": {
        "id": "view-in-github",
        "colab_type": "text"
      },
      "source": [
        "<a href=\"https://colab.research.google.com/github/angulartist/Deep-Learning-AnyPercent/blob/master/kaggle/mnist/mnist_colab.ipynb\" target=\"_parent\"><img src=\"https://colab.research.google.com/assets/colab-badge.svg\" alt=\"Open In Colab\"/></a>"
      ]
    },
    {
      "cell_type": "code",
      "metadata": {
        "id": "AFijhuh_F0Xl",
        "colab_type": "code",
        "colab": {}
      },
      "source": [
        "import tensorflow as tf\n",
        "tf.test.gpu_device_name()\n",
        "\n",
        "import os\n",
        "from tensorflow.keras.optimizers import SGD, Adam\n",
        "from tensorflow.keras.preprocessing.image import img_to_array, ImageDataGenerator\n",
        "from tensorflow.keras.callbacks import LearningRateScheduler, ModelCheckpoint\n",
        "from tensorflow.keras.utils import to_categorical\n",
        "from tensorflow.keras.datasets import mnist\n",
        "from tensorflow.keras import backend as K\n",
        "\n",
        "from sklearn.preprocessing import LabelBinarizer\n",
        "from sklearn.metrics import classification_report\n",
        "from sklearn.feature_extraction.image import extract_patches_2d\n",
        "from sklearn.model_selection import train_test_split\n",
        "\n",
        "import matplotlib\n",
        "import matplotlib.pyplot as plt\n",
        "matplotlib.use('Agg')     \n",
        "%matplotlib inline\n",
        "\n",
        "import pandas as pd\n",
        "\n",
        "import numpy as np\n",
        "from imutils import paths, resize\n",
        "from google.colab import drive\n",
        "import cv2"
      ],
      "execution_count": 0,
      "outputs": []
    },
    {
      "cell_type": "code",
      "metadata": {
        "id": "u1v9l2IZHwNA",
        "colab_type": "code",
        "colab": {
          "base_uri": "https://localhost:8080/",
          "height": 51
        },
        "outputId": "558b1794-daad-4342-fc2c-bef7123007f9"
      },
      "source": [
        "# (Google Colab) - Authorize R/W access to the Drive.\n",
        "\n",
        "drive.mount('/content/gdrive', force_remount=True)\n",
        "root_dir = \"/content/gdrive/My Drive/\"\n",
        "base_dir = root_dir + 'deepl/'\n",
        "\n",
        "base_dir"
      ],
      "execution_count": 119,
      "outputs": [
        {
          "output_type": "stream",
          "text": [
            "Mounted at /content/gdrive\n"
          ],
          "name": "stdout"
        },
        {
          "output_type": "execute_result",
          "data": {
            "text/plain": [
              "'/content/gdrive/My Drive/deepl/'"
            ]
          },
          "metadata": {
            "tags": []
          },
          "execution_count": 119
        }
      ]
    },
    {
      "cell_type": "markdown",
      "metadata": {
        "id": "DhBsRmmDEZX5",
        "colab_type": "text"
      },
      "source": [
        "# Load the MNIST dataset from Keras"
      ]
    },
    {
      "cell_type": "code",
      "metadata": {
        "id": "cj8pDsPR-M0e",
        "colab_type": "code",
        "colab": {}
      },
      "source": [
        "(X_train, y_train), (X_ttest, y_ttest) = mnist.load_data()"
      ],
      "execution_count": 0,
      "outputs": []
    },
    {
      "cell_type": "code",
      "metadata": {
        "id": "z59BX2Xv-UqW",
        "colab_type": "code",
        "colab": {
          "base_uri": "https://localhost:8080/",
          "height": 34
        },
        "outputId": "b7948c61-57c4-4af4-d249-68374a5f222e"
      },
      "source": [
        "'''\n",
        "Let's log the training set shape.\n",
        "\n",
        "The first column indicates that we have 60 000 training samples\n",
        "and the two last columns indicate that the dimension of each sample is (h, w) <=> (28, 28).\n",
        "'''\n",
        "\n",
        "X_train.shape"
      ],
      "execution_count": 170,
      "outputs": [
        {
          "output_type": "execute_result",
          "data": {
            "text/plain": [
              "(60000, 28, 28)"
            ]
          },
          "metadata": {
            "tags": []
          },
          "execution_count": 170
        }
      ]
    },
    {
      "cell_type": "code",
      "metadata": {
        "id": "G6wlrE6mOy0y",
        "colab_type": "code",
        "colab": {
          "base_uri": "https://localhost:8080/",
          "height": 282
        },
        "outputId": "c2a9fe20-b9db-4628-814e-a3bda404fb88"
      },
      "source": [
        "'''\n",
        "As we can see, we've got 60000 samples in our training set and 10000 samples in our testing set.\n",
        "Each image, or sample, or datapoint has a dimension of (28, 28) and belongs\n",
        "to the gray-scale color-space, so their depth equals 1.\n",
        "'''\n",
        "\n",
        "plt.imshow(X_train[0])\n",
        "plt.title(label='Image at position 0')\n",
        "plt.show()"
      ],
      "execution_count": 171,
      "outputs": [
        {
          "output_type": "display_data",
          "data": {
            "image/png": "[encoded data removed]",
            "text/plain": [
              "<Figure size 432x288 with 1 Axes>"
            ]
          },
          "metadata": {
            "tags": []
          }
        }
      ]
    },
    {
      "cell_type": "code",
      "metadata": {
        "id": "1tWY2Cc0PHuF",
        "colab_type": "code",
        "colab": {
          "base_uri": "https://localhost:8080/",
          "height": 580
        },
        "outputId": "f2cbb03e-6b91-49ff-865b-ab864cdc6cd1"
      },
      "source": [
        "'''\n",
        "As you can see, images in the MNIST dataset are heavily pre-processed.\n",
        "That's why this is used as a benchmark dataset and getting very high accuracy is common.\n",
        "In a real-world problem, we'll need to do some image pre-processing to enchance images\n",
        "and extract meaningful features.\n",
        "'''\n",
        "\n",
        "fig, ax = plt.subplots(\n",
        "    nrows=6,\n",
        "    ncols=5,\n",
        "    figsize=[6, 8]\n",
        ")\n",
        "\n",
        "for index, axi in enumerate(ax.flat):\n",
        "    axi.imshow(X_train[index])\n",
        "    axi.set_title(f'Image #{index}')\n",
        "\n",
        "plt.tight_layout(True)\n",
        "plt.show()"
      ],
      "execution_count": 172,
      "outputs": [
        {
          "output_type": "display_data",
          "data": {
            "image/png": "[encoded data removed]",
            "text/plain": [
              "<Figure size 432x576 with 30 Axes>"
            ]
          },
          "metadata": {
            "tags": []
          }
        }
      ]
    },
    {
      "cell_type": "markdown",
      "metadata": {
        "id": "8auyMxrkFkbi",
        "colab_type": "text"
      },
      "source": [
        "# Normalize pixel intensities to range [0, 1]"
      ]
    },
    {
      "cell_type": "code",
      "metadata": {
        "id": "hTYhdH_Q-fTz",
        "colab_type": "code",
        "colab": {}
      },
      "source": [
        "'''\n",
        "Normalization of pixel intensities is adjusting values measured on different scales to a notionally common scale.\n",
        "That's a best practice you have to follow because weights reach optimum values faster.\n",
        "Therefore, the network converges faster.\n",
        "\n",
        "So, instead of having pixel intensities in the range [0, 255] in the gray-scale color-space,\n",
        "we're going to scale them into the range [0, 1].\n",
        "There are many normalization techniques and this is one of them.\n",
        "'''\n",
        "\n",
        "(X_train, X_ttest) = (child.astype('float32') / 255.0 for child in [X_train, X_ttest])"
      ],
      "execution_count": 0,
      "outputs": []
    },
    {
      "cell_type": "markdown",
      "metadata": {
        "id": "4K03owgxJdqM",
        "colab_type": "text"
      },
      "source": [
        "# Reshape datapoints"
      ]
    },
    {
      "cell_type": "code",
      "metadata": {
        "id": "x2WE9X7EDidV",
        "colab_type": "code",
        "colab": {
          "base_uri": "https://localhost:8080/",
          "height": 34
        },
        "outputId": "9b8aa7a0-6835-4251-ee09-602b912342f1"
      },
      "source": [
        "'''\n",
        "Reshape the both training and testing set that way \n",
        "the number of samples is the first entry in the matrix,\n",
        "the single channel as the second entry,\n",
        "followed by the number of rows and columns.\n",
        "\n",
        "(num_samples, rows, columns, channel)\n",
        "'''\n",
        "\n",
        "X_train = X_train.reshape(-1, 28, 28, 1)\n",
        "X_ttest = X_ttest.reshape(-1, 28, 28, 1)\n",
        "\n",
        "# Let's log the new shape.\n",
        "X_train.shape"
      ],
      "execution_count": 161,
      "outputs": [
        {
          "output_type": "execute_result",
          "data": {
            "text/plain": [
              "(60000, 28, 28, 1)"
            ]
          },
          "metadata": {
            "tags": []
          },
          "execution_count": 161
        }
      ]
    },
    {
      "cell_type": "markdown",
      "metadata": {
        "id": "fzqpG4dBOnNh",
        "colab_type": "text"
      },
      "source": [
        "# One-Hot Encode labels\n"
      ]
    },
    {
      "cell_type": "code",
      "metadata": {
        "id": "W7rOX0A1Pf_F",
        "colab_type": "code",
        "colab": {
          "base_uri": "https://localhost:8080/",
          "height": 419
        },
        "outputId": "28f890e8-e609-4e7d-8618-a1d7f322cd74"
      },
      "source": [
        "'''\n",
        "There are 60000 integers labels for the training set,\n",
        "each one corresponding to one single datapoint.\n",
        "That means, for a given Xi datapoint we got a Yi label in the range [0, 9].\n",
        "For instance, the datapoint at the index 59995 of our training set has the label 8.\n",
        "'''\n",
        "\n",
        "pd.DataFrame(y_train)"
      ],
      "execution_count": 173,
      "outputs": [
        {
          "output_type": "execute_result",
          "data": {
            "text/html": [
              "<div>\n",
              "<style scoped>\n",
              "    .dataframe tbody tr th:only-of-type {\n",
              "        vertical-align: middle;\n",
              "    }\n",
              "\n",
              "    .dataframe tbody tr th {\n",
              "        vertical-align: top;\n",
              "    }\n",
              "\n",
              "    .dataframe thead th {\n",
              "        text-align: right;\n",
              "    }\n",
              "</style>\n",
              "<table border=\"1\" class=\"dataframe\">\n",
              "  <thead>\n",
              "    <tr style=\"text-align: right;\">\n",
              "      <th></th>\n",
              "      <th>0</th>\n",
              "    </tr>\n",
              "  </thead>\n",
              "  <tbody>\n",
              "    <tr>\n",
              "      <th>0</th>\n",
              "      <td>5</td>\n",
              "    </tr>\n",
              "    <tr>\n",
              "      <th>1</th>\n",
              "      <td>0</td>\n",
              "    </tr>\n",
              "    <tr>\n",
              "      <th>2</th>\n",
              "      <td>4</td>\n",
              "    </tr>\n",
              "    <tr>\n",
              "      <th>3</th>\n",
              "      <td>1</td>\n",
              "    </tr>\n",
              "    <tr>\n",
              "      <th>4</th>\n",
              "      <td>9</td>\n",
              "    </tr>\n",
              "    <tr>\n",
              "      <th>...</th>\n",
              "      <td>...</td>\n",
              "    </tr>\n",
              "    <tr>\n",
              "      <th>59995</th>\n",
              "      <td>8</td>\n",
              "    </tr>\n",
              "    <tr>\n",
              "      <th>59996</th>\n",
              "      <td>3</td>\n",
              "    </tr>\n",
              "    <tr>\n",
              "      <th>59997</th>\n",
              "      <td>5</td>\n",
              "    </tr>\n",
              "    <tr>\n",
              "      <th>59998</th>\n",
              "      <td>6</td>\n",
              "    </tr>\n",
              "    <tr>\n",
              "      <th>59999</th>\n",
              "      <td>8</td>\n",
              "    </tr>\n",
              "  </tbody>\n",
              "</table>\n",
              "<p>60000 rows × 1 columns</p>\n",
              "</div>"
            ],
            "text/plain": [
              "       0\n",
              "0      5\n",
              "1      0\n",
              "2      4\n",
              "3      1\n",
              "4      9\n",
              "...   ..\n",
              "59995  8\n",
              "59996  3\n",
              "59997  5\n",
              "59998  6\n",
              "59999  8\n",
              "\n",
              "[60000 rows x 1 columns]"
            ]
          },
          "metadata": {
            "tags": []
          },
          "execution_count": 173
        }
      ]
    },
    {
      "cell_type": "code",
      "metadata": {
        "id": "4lr9O2sjPn2h",
        "colab_type": "code",
        "colab": {
          "base_uri": "https://localhost:8080/",
          "height": 282
        },
        "outputId": "d8261754-92f7-408d-f9be-67190243bc1c"
      },
      "source": [
        "# We can confirm this when plotting the datapoint.\n",
        "\n",
        "plt.imshow(X_train[59995])\n",
        "plt.title(label='Image at position 59995 represent the digit 8')\n",
        "plt.show()"
      ],
      "execution_count": 174,
      "outputs": [
        {
          "output_type": "display_data",
          "data": {
            "image/png": "[encoded data removed]",
            "text/plain": [
              "<Figure size 432x288 with 1 Axes>"
            ]
          },
          "metadata": {
            "tags": []
          }
        }
      ]
    },
    {
      "cell_type": "code",
      "metadata": {
        "id": "5EkoHCr5-vCJ",
        "colab_type": "code",
        "colab": {
          "base_uri": "https://localhost:8080/",
          "height": 419
        },
        "outputId": "a26bc035-1c45-490a-dac4-783b8bb3084a"
      },
      "source": [
        "'''\n",
        "Now, our previous integer labels are converted to vector labels.\n",
        "This process is called one-hot encoding and most of the machine learning algorithms\n",
        "benefit from this label representation. 2 = [0, 0, 1, 0, 0, 0, 0, 0, 0, 0],\n",
        "8 = [0, 0, 0, 0, 0, 0, 0, 0, 1, 0].\n",
        "\n",
        "We could also use the to_categorical() function from Keras which yields the exact same values.\n",
        "'''\n",
        "\n",
        "lb = LabelBinarizer()\n",
        "(y_train, y_ttest) = (lb.fit_transform(labels) for labels in [y_train, y_ttest])\n",
        "pd.DataFrame(y_train)"
      ],
      "execution_count": 103,
      "outputs": [
        {
          "output_type": "execute_result",
          "data": {
            "text/html": [
              "<div>\n",
              "<style scoped>\n",
              "    .dataframe tbody tr th:only-of-type {\n",
              "        vertical-align: middle;\n",
              "    }\n",
              "\n",
              "    .dataframe tbody tr th {\n",
              "        vertical-align: top;\n",
              "    }\n",
              "\n",
              "    .dataframe thead th {\n",
              "        text-align: right;\n",
              "    }\n",
              "</style>\n",
              "<table border=\"1\" class=\"dataframe\">\n",
              "  <thead>\n",
              "    <tr style=\"text-align: right;\">\n",
              "      <th></th>\n",
              "      <th>0</th>\n",
              "      <th>1</th>\n",
              "      <th>2</th>\n",
              "      <th>3</th>\n",
              "      <th>4</th>\n",
              "      <th>5</th>\n",
              "      <th>6</th>\n",
              "      <th>7</th>\n",
              "      <th>8</th>\n",
              "      <th>9</th>\n",
              "    </tr>\n",
              "  </thead>\n",
              "  <tbody>\n",
              "    <tr>\n",
              "      <th>0</th>\n",
              "      <td>0</td>\n",
              "      <td>0</td>\n",
              "      <td>0</td>\n",
              "      <td>0</td>\n",
              "      <td>0</td>\n",
              "      <td>1</td>\n",
              "      <td>0</td>\n",
              "      <td>0</td>\n",
              "      <td>0</td>\n",
              "      <td>0</td>\n",
              "    </tr>\n",
              "    <tr>\n",
              "      <th>1</th>\n",
              "      <td>1</td>\n",
              "      <td>0</td>\n",
              "      <td>0</td>\n",
              "      <td>0</td>\n",
              "      <td>0</td>\n",
              "      <td>0</td>\n",
              "      <td>0</td>\n",
              "      <td>0</td>\n",
              "      <td>0</td>\n",
              "      <td>0</td>\n",
              "    </tr>\n",
              "    <tr>\n",
              "      <th>2</th>\n",
              "      <td>0</td>\n",
              "      <td>0</td>\n",
              "      <td>0</td>\n",
              "      <td>0</td>\n",
              "      <td>1</td>\n",
              "      <td>0</td>\n",
              "      <td>0</td>\n",
              "      <td>0</td>\n",
              "      <td>0</td>\n",
              "      <td>0</td>\n",
              "    </tr>\n",
              "    <tr>\n",
              "      <th>3</th>\n",
              "      <td>0</td>\n",
              "      <td>1</td>\n",
              "      <td>0</td>\n",
              "      <td>0</td>\n",
              "      <td>0</td>\n",
              "      <td>0</td>\n",
              "      <td>0</td>\n",
              "      <td>0</td>\n",
              "      <td>0</td>\n",
              "      <td>0</td>\n",
              "    </tr>\n",
              "    <tr>\n",
              "      <th>4</th>\n",
              "      <td>0</td>\n",
              "      <td>0</td>\n",
              "      <td>0</td>\n",
              "      <td>0</td>\n",
              "      <td>0</td>\n",
              "      <td>0</td>\n",
              "      <td>0</td>\n",
              "      <td>0</td>\n",
              "      <td>0</td>\n",
              "      <td>1</td>\n",
              "    </tr>\n",
              "    <tr>\n",
              "      <th>...</th>\n",
              "      <td>...</td>\n",
              "      <td>...</td>\n",
              "      <td>...</td>\n",
              "      <td>...</td>\n",
              "      <td>...</td>\n",
              "      <td>...</td>\n",
              "      <td>...</td>\n",
              "      <td>...</td>\n",
              "      <td>...</td>\n",
              "      <td>...</td>\n",
              "    </tr>\n",
              "    <tr>\n",
              "      <th>59995</th>\n",
              "      <td>0</td>\n",
              "      <td>0</td>\n",
              "      <td>0</td>\n",
              "      <td>0</td>\n",
              "      <td>0</td>\n",
              "      <td>0</td>\n",
              "      <td>0</td>\n",
              "      <td>0</td>\n",
              "      <td>1</td>\n",
              "      <td>0</td>\n",
              "    </tr>\n",
              "    <tr>\n",
              "      <th>59996</th>\n",
              "      <td>0</td>\n",
              "      <td>0</td>\n",
              "      <td>0</td>\n",
              "      <td>1</td>\n",
              "      <td>0</td>\n",
              "      <td>0</td>\n",
              "      <td>0</td>\n",
              "      <td>0</td>\n",
              "      <td>0</td>\n",
              "      <td>0</td>\n",
              "    </tr>\n",
              "    <tr>\n",
              "      <th>59997</th>\n",
              "      <td>0</td>\n",
              "      <td>0</td>\n",
              "      <td>0</td>\n",
              "      <td>0</td>\n",
              "      <td>0</td>\n",
              "      <td>1</td>\n",
              "      <td>0</td>\n",
              "      <td>0</td>\n",
              "      <td>0</td>\n",
              "      <td>0</td>\n",
              "    </tr>\n",
              "    <tr>\n",
              "      <th>59998</th>\n",
              "      <td>0</td>\n",
              "      <td>0</td>\n",
              "      <td>0</td>\n",
              "      <td>0</td>\n",
              "      <td>0</td>\n",
              "      <td>0</td>\n",
              "      <td>1</td>\n",
              "      <td>0</td>\n",
              "      <td>0</td>\n",
              "      <td>0</td>\n",
              "    </tr>\n",
              "    <tr>\n",
              "      <th>59999</th>\n",
              "      <td>0</td>\n",
              "      <td>0</td>\n",
              "      <td>0</td>\n",
              "      <td>0</td>\n",
              "      <td>0</td>\n",
              "      <td>0</td>\n",
              "      <td>0</td>\n",
              "      <td>0</td>\n",
              "      <td>1</td>\n",
              "      <td>0</td>\n",
              "    </tr>\n",
              "  </tbody>\n",
              "</table>\n",
              "<p>60000 rows × 10 columns</p>\n",
              "</div>"
            ],
            "text/plain": [
              "       0  1  2  3  4  5  6  7  8  9\n",
              "0      0  0  0  0  0  1  0  0  0  0\n",
              "1      1  0  0  0  0  0  0  0  0  0\n",
              "2      0  0  0  0  1  0  0  0  0  0\n",
              "3      0  1  0  0  0  0  0  0  0  0\n",
              "4      0  0  0  0  0  0  0  0  0  1\n",
              "...   .. .. .. .. .. .. .. .. .. ..\n",
              "59995  0  0  0  0  0  0  0  0  1  0\n",
              "59996  0  0  0  1  0  0  0  0  0  0\n",
              "59997  0  0  0  0  0  1  0  0  0  0\n",
              "59998  0  0  0  0  0  0  1  0  0  0\n",
              "59999  0  0  0  0  0  0  0  0  1  0\n",
              "\n",
              "[60000 rows x 10 columns]"
            ]
          },
          "metadata": {
            "tags": []
          },
          "execution_count": 103
        }
      ]
    },
    {
      "cell_type": "markdown",
      "metadata": {
        "id": "Lu9C-aeXP-7P",
        "colab_type": "text"
      },
      "source": [
        "# Data Augmentation"
      ]
    },
    {
      "cell_type": "code",
      "metadata": {
        "id": "Twnw5D9k-zlE",
        "colab_type": "code",
        "colab": {}
      },
      "source": [
        "'''\n",
        "Let's apply some data augmentation.\n",
        "\n",
        "Data augmentation is a set of techniques used to generate new training samples from the original ones\n",
        "by applying jitters and perturbations such that the classes labels are not changed.\n",
        "In the context of computer vision, these random transformations can be translating,\n",
        "rotating, scaling, shearing, flipping etc.\n",
        "\n",
        "Data augmentation is a form of regularization because the training algorithm is being\n",
        "constantly presented with new training samples,\n",
        "allowing it to learn more robust and discriminative patterns\n",
        "and reducing overfitting.\n",
        "'''\n",
        "\n",
        "daug = ImageDataGenerator(\n",
        "    featurewise_center=False,\n",
        "    samplewise_center=False,\n",
        "    featurewise_std_normalization=False,\n",
        "    samplewise_std_normalization=False,\n",
        "    zca_whitening=False,\n",
        "    rotation_range=10,\n",
        "    zoom_range = 0.1, \n",
        "    width_shift_range=0.1,\n",
        "    height_shift_range=0.1,\n",
        "    horizontal_flip=False,\n",
        "    vertical_flip=False\n",
        ")"
      ],
      "execution_count": 0,
      "outputs": []
    },
    {
      "cell_type": "markdown",
      "metadata": {
        "id": "lt3KsDRHQHjw",
        "colab_type": "text"
      },
      "source": [
        "# Build the model"
      ]
    },
    {
      "cell_type": "code",
      "metadata": {
        "id": "yyv1La7e-8O_",
        "colab_type": "code",
        "colab": {}
      },
      "source": [
        "'''\n",
        "Here, we've imported our CNN.\n",
        "\n",
        "That's a small VGG-like net, with two stacks of (Conv => ReLU => BN) * 2 => POOL => DO\n",
        "and a Fully-Connected layer at the end.\n",
        "Pay attention to Batch Normalization and Dropout layers\n",
        "which help to reduce overfitting.\n",
        "'''\n",
        "\n",
        "from tensorflow.keras.models import Sequential\n",
        "from tensorflow.keras.layers import BatchNormalization, Conv2D, MaxPooling2D, Activation, Flatten, Dropout, Dense\n",
        "\n",
        "class CustomNet(object):\n",
        "    @staticmethod\n",
        "    def build(width, height, num_classes, depth=3):\n",
        "        model = Sequential()\n",
        "        input_shape = (height, width, depth)\n",
        "        chan_dim = -1\n",
        "        \n",
        "        # (Conv => ReLU => BN) * 2 => POOL => DO\n",
        "        model.add(Conv2D(64, (3, 3), padding='same', input_shape=input_shape))\n",
        "        model.add(Activation('relu'))\n",
        "        model.add(BatchNormalization(axis=chan_dim))\n",
        "        model.add(Conv2D(64, (3, 3), padding='same'))\n",
        "        model.add(Activation('relu'))\n",
        "        model.add(BatchNormalization(axis=chan_dim))\n",
        "        model.add(Conv2D(64, (3, 3), padding='same'))\n",
        "        model.add(Activation('relu'))\n",
        "        model.add(BatchNormalization(axis=chan_dim))\n",
        "        model.add(MaxPooling2D(pool_size=(2, 2)))\n",
        "        \n",
        "         # (Conv => ReLU => BN) * 2 => POOL => DO\n",
        "        model.add(Conv2D(128, (3, 3), padding='same'))\n",
        "        model.add(Activation('relu'))\n",
        "        model.add(BatchNormalization(axis=chan_dim))\n",
        "        model.add(Conv2D(128, (3, 3), padding='same'))\n",
        "        model.add(Activation('relu'))\n",
        "        model.add(BatchNormalization(axis=chan_dim))\n",
        "        model.add(Conv2D(128, (3, 3), padding='same'))\n",
        "        model.add(Activation('relu'))\n",
        "        model.add(BatchNormalization(axis=chan_dim))\n",
        "        model.add(MaxPooling2D(pool_size=(2, 2)))\n",
        "        model.add(Dropout(0.25))\n",
        "        \n",
        "        # FC => ReLU\n",
        "        model.add(Flatten())\n",
        "        model.add(Dense(256))\n",
        "        model.add(Activation('relu'))\n",
        "        model.add(BatchNormalization())\n",
        "        model.add(Dropout(0.5))\n",
        "        \n",
        "        # Softmax\n",
        "        model.add(Dense(num_classes))\n",
        "        model.add(Activation('softmax'))\n",
        "        \n",
        "        print(model.summary())\n",
        "        \n",
        "        return model"
      ],
      "execution_count": 0,
      "outputs": []
    },
    {
      "cell_type": "code",
      "metadata": {
        "id": "H1gFq6w1_EPG",
        "colab_type": "code",
        "colab": {
          "base_uri": "https://localhost:8080/",
          "height": 1000
        },
        "outputId": "7ca261b3-ea81-4904-f85d-dccc4208d39e"
      },
      "source": [
        "net = CustomNet()\n",
        "\n",
        "model = net.build(\n",
        "    width=28,\n",
        "    height=28,\n",
        "    num_classes=10,\n",
        "    depth=1)"
      ],
      "execution_count": 106,
      "outputs": [
        {
          "output_type": "stream",
          "text": [
            "Model: \"sequential_6\"\n",
            "_________________________________________________________________\n",
            "Layer (type)                 Output Shape              Param #   \n",
            "=================================================================\n",
            "conv2d_36 (Conv2D)           (None, 28, 28, 64)        640       \n",
            "_________________________________________________________________\n",
            "activation_48 (Activation)   (None, 28, 28, 64)        0         \n",
            "_________________________________________________________________\n",
            "batch_normalization_42 (Batc (None, 28, 28, 64)        256       \n",
            "_________________________________________________________________\n",
            "conv2d_37 (Conv2D)           (None, 28, 28, 64)        36928     \n",
            "_________________________________________________________________\n",
            "activation_49 (Activation)   (None, 28, 28, 64)        0         \n",
            "_________________________________________________________________\n",
            "batch_normalization_43 (Batc (None, 28, 28, 64)        256       \n",
            "_________________________________________________________________\n",
            "conv2d_38 (Conv2D)           (None, 28, 28, 64)        36928     \n",
            "_________________________________________________________________\n",
            "activation_50 (Activation)   (None, 28, 28, 64)        0         \n",
            "_________________________________________________________________\n",
            "batch_normalization_44 (Batc (None, 28, 28, 64)        256       \n",
            "_________________________________________________________________\n",
            "max_pooling2d_12 (MaxPooling (None, 14, 14, 64)        0         \n",
            "_________________________________________________________________\n",
            "conv2d_39 (Conv2D)           (None, 14, 14, 128)       73856     \n",
            "_________________________________________________________________\n",
            "activation_51 (Activation)   (None, 14, 14, 128)       0         \n",
            "_________________________________________________________________\n",
            "batch_normalization_45 (Batc (None, 14, 14, 128)       512       \n",
            "_________________________________________________________________\n",
            "conv2d_40 (Conv2D)           (None, 14, 14, 128)       147584    \n",
            "_________________________________________________________________\n",
            "activation_52 (Activation)   (None, 14, 14, 128)       0         \n",
            "_________________________________________________________________\n",
            "batch_normalization_46 (Batc (None, 14, 14, 128)       512       \n",
            "_________________________________________________________________\n",
            "conv2d_41 (Conv2D)           (None, 14, 14, 128)       147584    \n",
            "_________________________________________________________________\n",
            "activation_53 (Activation)   (None, 14, 14, 128)       0         \n",
            "_________________________________________________________________\n",
            "batch_normalization_47 (Batc (None, 14, 14, 128)       512       \n",
            "_________________________________________________________________\n",
            "max_pooling2d_13 (MaxPooling (None, 7, 7, 128)         0         \n",
            "_________________________________________________________________\n",
            "dropout_12 (Dropout)         (None, 7, 7, 128)         0         \n",
            "_________________________________________________________________\n",
            "flatten_6 (Flatten)          (None, 6272)              0         \n",
            "_________________________________________________________________\n",
            "dense_12 (Dense)             (None, 256)               1605888   \n",
            "_________________________________________________________________\n",
            "activation_54 (Activation)   (None, 256)               0         \n",
            "_________________________________________________________________\n",
            "batch_normalization_48 (Batc (None, 256)               1024      \n",
            "_________________________________________________________________\n",
            "dropout_13 (Dropout)         (None, 256)               0         \n",
            "_________________________________________________________________\n",
            "dense_13 (Dense)             (None, 10)                2570      \n",
            "_________________________________________________________________\n",
            "activation_55 (Activation)   (None, 10)                0         \n",
            "=================================================================\n",
            "Total params: 2,055,306\n",
            "Trainable params: 2,053,642\n",
            "Non-trainable params: 1,664\n",
            "_________________________________________________________________\n",
            "None\n"
          ],
          "name": "stdout"
        }
      ]
    },
    {
      "cell_type": "code",
      "metadata": {
        "id": "KTpNXCOv_MSN",
        "colab_type": "code",
        "colab": {}
      },
      "source": [
        "'''\n",
        "When the model has seen all of your training samples, we say that one epoch has passed.\n",
        "We're going to train the model for 50 epochs.\n",
        "'''\n",
        "\n",
        "num_epochs = 50"
      ],
      "execution_count": 0,
      "outputs": []
    },
    {
      "cell_type": "markdown",
      "metadata": {
        "id": "OMvmtL3nQ-Ci",
        "colab_type": "text"
      },
      "source": [
        "# Set the optimizer and hyperparameters"
      ]
    },
    {
      "cell_type": "code",
      "metadata": {
        "id": "DBEwOLKt_PFC",
        "colab_type": "code",
        "colab": {}
      },
      "source": [
        "'''\n",
        "Let's use an optimization method.\n",
        "\n",
        "Optimization algorithms are the engines that power neural networks and\n",
        "enable them to learn patterns from data by tweaking and seeking for optimal weights values.\n",
        "Most common one is the (Stochastic) Gradient Descent, but I'll use Adam here.\n",
        "\n",
        "As you can see, the first param is lr, or learning rate.\n",
        "This is one of the most important hyperparameters we have to tune.\n",
        "A learning rate is the step your optimization algorithm is going to make toward\n",
        "the direction that leads to a lower loss function (and a higher accuracy).\n",
        "\n",
        "If the learning rate is too small, the algorithm is going to make tiny steps slowing down the process.\n",
        "But on the other hand, if the learning rate is too high,\n",
        "the algorithm risks to bounce around the loss landscape and not actually “learn” any patterns from your data.\n",
        "'''\n",
        "\n",
        "# Initial learning rate\n",
        "init_lr = 0.001\n",
        "\n",
        "adam_opt = Adam(\n",
        "    lr=init_lr,\n",
        "    beta_1=0.9,\n",
        "    beta_2=0.999,\n",
        "    epsilon=1e-08,\n",
        "    decay=0.0\n",
        ")\n",
        "\n",
        "'''\n",
        "Let's now define a learn-rate scheduler.\n",
        "\n",
        "The decay is used to slowly reduce the learning rate over time.\n",
        "Decaying the learning rate is helpful in reducing overfitting \n",
        "and obtaining higher classification accuracy – the smaller the learning rate is, \n",
        "the smaller the weight updates will be. \n",
        "We're going to use a polynomial decay. \n",
        "Although there are many way to do that.\n",
        "'''\n",
        "\n",
        "def polynomial_decay(epoch):\n",
        "    max_epochs = num_epochs\n",
        "    base_lr = init_lr\n",
        "    power = 2.0\n",
        "    \n",
        "    return base_lr * (1 - (epoch / float(max_epochs))) ** power"
      ],
      "execution_count": 0,
      "outputs": []
    },
    {
      "cell_type": "code",
      "metadata": {
        "id": "UooJ3CYmQwHy",
        "colab_type": "code",
        "colab": {
          "base_uri": "https://localhost:8080/",
          "height": 282
        },
        "outputId": "23be0956-a445-463e-937e-47d736664ce0"
      },
      "source": [
        "# Let's plot it.\n",
        "\n",
        "x = np.linspace(0, num_epochs)\n",
        "fx = [init_lr * (1 - (i / float(num_epochs))) ** 2.0 for i in range(len(x))]\n",
        "plt.plot(x, fx)\n",
        "plt.title(label='Polynomial decay, power 2')\n",
        "plt.show()"
      ],
      "execution_count": 175,
      "outputs": [
        {
          "output_type": "display_data",
          "data": {
            "image/png": "[encoded data removed]",
            "text/plain": [
              "<Figure size 432x288 with 1 Axes>"
            ]
          },
          "metadata": {
            "tags": []
          }
        }
      ]
    },
    {
      "cell_type": "markdown",
      "metadata": {
        "id": "B7MF62w5RL3Y",
        "colab_type": "text"
      },
      "source": [
        "# Training time!"
      ]
    },
    {
      "cell_type": "code",
      "metadata": {
        "id": "WTK8tGFp_asi",
        "colab_type": "code",
        "colab": {}
      },
      "source": [
        "'''\n",
        "Here, we define two callbacks.\n",
        "\n",
        "Callbacks are functions executed at the end of an epoch.\n",
        "The first one save our model (checkpoint) whenever the loss decreases (therefore our accuracy improves).\n",
        "That way we keep the best model. The last one is our learning rate scheduler using the polynomial decay.\n",
        "'''\n",
        "\n",
        "checkpointHandler = ModelCheckpoint(\n",
        "    os.path.join(base_dir, 'best_c10_weights.hdf5'),\n",
        "    monitor='val_loss',\n",
        "    save_best_only=True,\n",
        "    verbose=1\n",
        ")\n",
        "\n",
        "callbacks = [\n",
        "    LearningRateScheduler(polynomial_decay),\n",
        "    checkpointHandler\n",
        "]"
      ],
      "execution_count": 0,
      "outputs": []
    },
    {
      "cell_type": "code",
      "metadata": {
        "id": "af9qwYmE_dVT",
        "colab_type": "code",
        "colab": {
          "base_uri": "https://localhost:8080/",
          "height": 1000
        },
        "outputId": "903d6709-211e-4324-b1ec-2340d77c2f25"
      },
      "source": [
        "batch_size = 128\n",
        "\n",
        "print('# Compiling the model...')\n",
        "model.compile(\n",
        "    loss='categorical_crossentropy',\n",
        "    optimizer=adam_opt,\n",
        "    metrics=['accuracy']\n",
        ")\n",
        "\n",
        "print('# Training the network...')\n",
        "h = model.fit_generator(\n",
        "    daug.flow(X_train, y_train, batch_size=batch_size),\n",
        "    validation_data=(X_ttest, y_ttest),\n",
        "    epochs=num_epochs,\n",
        "    steps_per_epoch=len(X_train) // batch_size,\n",
        "    callbacks=callbacks,\n",
        "    verbose=1\n",
        ")"
      ],
      "execution_count": 111,
      "outputs": [
        {
          "output_type": "stream",
          "text": [
            "# Compiling the model...\n",
            "# Training the network...\n",
            "Epoch 1/50\n",
            "467/468 [============================>.] - ETA: 0s - loss: 0.1886 - acc: 0.9425Epoch 1/50\n",
            "10000/468 [=================================================================================================================================================================================================================================================================================================================================================================================================================================================================================================================================================================================================================================================================] - 1s 108us/sample - loss: 6.2934 - acc: 0.1250\n",
            "\n",
            "Epoch 00001: val_loss improved from inf to 6.73590, saving model to best_c10_weights.hdf5\n",
            "468/468 [==============================] - 22s 47ms/step - loss: 0.1883 - acc: 0.9426 - val_loss: 6.7359 - val_acc: 0.1250\n",
            "Epoch 2/50\n",
            "467/468 [============================>.] - ETA: 0s - loss: 0.0683 - acc: 0.9790Epoch 1/50\n",
            "10000/468 [=================================================================================================================================================================================================================================================================================================================================================================================================================================================================================================================================================================================================================================================================] - 1s 72us/sample - loss: 0.0177 - acc: 0.9903\n",
            "\n",
            "Epoch 00002: val_loss improved from 6.73590 to 0.03453, saving model to best_c10_weights.hdf5\n",
            "468/468 [==============================] - 19s 40ms/step - loss: 0.0682 - acc: 0.9790 - val_loss: 0.0345 - val_acc: 0.9903\n",
            "Epoch 3/50\n",
            "467/468 [============================>.] - ETA: 0s - loss: 0.0493 - acc: 0.9850Epoch 1/50\n",
            "10000/468 [=================================================================================================================================================================================================================================================================================================================================================================================================================================================================================================================================================================================================================================================================] - 1s 73us/sample - loss: 0.0131 - acc: 0.9922\n",
            "\n",
            "Epoch 00003: val_loss improved from 0.03453 to 0.02635, saving model to best_c10_weights.hdf5\n",
            "468/468 [==============================] - 18s 39ms/step - loss: 0.0492 - acc: 0.9850 - val_loss: 0.0264 - val_acc: 0.9922\n",
            "Epoch 4/50\n",
            "467/468 [============================>.] - ETA: 0s - loss: 0.0457 - acc: 0.9860Epoch 1/50\n",
            "10000/468 [=================================================================================================================================================================================================================================================================================================================================================================================================================================================================================================================================================================================================================================================================] - 1s 75us/sample - loss: 0.0102 - acc: 0.9934\n",
            "\n",
            "Epoch 00004: val_loss improved from 0.02635 to 0.02004, saving model to best_c10_weights.hdf5\n",
            "468/468 [==============================] - 18s 39ms/step - loss: 0.0456 - acc: 0.9860 - val_loss: 0.0200 - val_acc: 0.9934\n",
            "Epoch 5/50\n",
            "467/468 [============================>.] - ETA: 0s - loss: 0.0387 - acc: 0.9883Epoch 1/50\n",
            "10000/468 [=================================================================================================================================================================================================================================================================================================================================================================================================================================================================================================================================================================================================================================================================] - 1s 73us/sample - loss: 0.0115 - acc: 0.9926\n",
            "\n",
            "Epoch 00005: val_loss did not improve from 0.02004\n",
            "468/468 [==============================] - 18s 39ms/step - loss: 0.0386 - acc: 0.9883 - val_loss: 0.0230 - val_acc: 0.9926\n",
            "Epoch 6/50\n",
            "467/468 [============================>.] - ETA: 0s - loss: 0.0345 - acc: 0.9899Epoch 1/50\n",
            "10000/468 [=================================================================================================================================================================================================================================================================================================================================================================================================================================================================================================================================================================================================================================================================] - 1s 73us/sample - loss: 0.0204 - acc: 0.9911\n",
            "\n",
            "Epoch 00006: val_loss did not improve from 0.02004\n",
            "468/468 [==============================] - 18s 39ms/step - loss: 0.0345 - acc: 0.9899 - val_loss: 0.0294 - val_acc: 0.9911\n",
            "Epoch 7/50\n",
            "466/468 [============================>.] - ETA: 0s - loss: 0.0327 - acc: 0.9902Epoch 1/50\n",
            "10000/468 [=================================================================================================================================================================================================================================================================================================================================================================================================================================================================================================================================================================================================================================================================] - 1s 76us/sample - loss: 0.0213 - acc: 0.9945\n",
            "\n",
            "Epoch 00007: val_loss improved from 0.02004 to 0.01861, saving model to best_c10_weights.hdf5\n",
            "468/468 [==============================] - 19s 40ms/step - loss: 0.0326 - acc: 0.9902 - val_loss: 0.0186 - val_acc: 0.9945\n",
            "Epoch 8/50\n",
            "467/468 [============================>.] - ETA: 0s - loss: 0.0295 - acc: 0.9911Epoch 1/50\n",
            "10000/468 [=================================================================================================================================================================================================================================================================================================================================================================================================================================================================================================================================================================================================================================================================] - 1s 76us/sample - loss: 0.0086 - acc: 0.9945\n",
            "\n",
            "Epoch 00008: val_loss improved from 0.01861 to 0.01668, saving model to best_c10_weights.hdf5\n",
            "468/468 [==============================] - 18s 39ms/step - loss: 0.0294 - acc: 0.9911 - val_loss: 0.0167 - val_acc: 0.9945\n",
            "Epoch 9/50\n",
            "466/468 [============================>.] - ETA: 0s - loss: 0.0277 - acc: 0.9914Epoch 1/50\n",
            "10000/468 [=================================================================================================================================================================================================================================================================================================================================================================================================================================================================================================================================================================================================================================================================] - 1s 77us/sample - loss: 0.0079 - acc: 0.9950\n",
            "\n",
            "Epoch 00009: val_loss improved from 0.01668 to 0.01582, saving model to best_c10_weights.hdf5\n",
            "468/468 [==============================] - 18s 39ms/step - loss: 0.0276 - acc: 0.9914 - val_loss: 0.0158 - val_acc: 0.9950\n",
            "Epoch 10/50\n",
            "466/468 [============================>.] - ETA: 0s - loss: 0.0250 - acc: 0.9924Epoch 1/50\n",
            "10000/468 [=================================================================================================================================================================================================================================================================================================================================================================================================================================================================================================================================================================================================================================================================] - 1s 77us/sample - loss: 0.0069 - acc: 0.9960\n",
            "\n",
            "Epoch 00010: val_loss improved from 0.01582 to 0.01349, saving model to best_c10_weights.hdf5\n",
            "468/468 [==============================] - 18s 39ms/step - loss: 0.0251 - acc: 0.9924 - val_loss: 0.0135 - val_acc: 0.9960\n",
            "Epoch 11/50\n",
            "467/468 [============================>.] - ETA: 0s - loss: 0.0249 - acc: 0.9926Epoch 1/50\n",
            "10000/468 [=================================================================================================================================================================================================================================================================================================================================================================================================================================================================================================================================================================================================================================================================] - 1s 77us/sample - loss: 0.0106 - acc: 0.9943\n",
            "\n",
            "Epoch 00011: val_loss did not improve from 0.01349\n",
            "468/468 [==============================] - 18s 39ms/step - loss: 0.0249 - acc: 0.9926 - val_loss: 0.0189 - val_acc: 0.9943\n",
            "Epoch 12/50\n",
            "466/468 [============================>.] - ETA: 0s - loss: 0.0225 - acc: 0.9934Epoch 1/50\n",
            "10000/468 [=================================================================================================================================================================================================================================================================================================================================================================================================================================================================================================================================================================================================================================================================] - 1s 78us/sample - loss: 0.0147 - acc: 0.9907\n",
            "\n",
            "Epoch 00012: val_loss did not improve from 0.01349\n",
            "468/468 [==============================] - 18s 39ms/step - loss: 0.0226 - acc: 0.9934 - val_loss: 0.0288 - val_acc: 0.9907\n",
            "Epoch 13/50\n",
            "466/468 [============================>.] - ETA: 0s - loss: 0.0201 - acc: 0.9938Epoch 1/50\n",
            "10000/468 [=================================================================================================================================================================================================================================================================================================================================================================================================================================================================================================================================================================================================================================================================] - 1s 79us/sample - loss: 0.0087 - acc: 0.9961\n",
            "\n",
            "Epoch 00013: val_loss improved from 0.01349 to 0.01324, saving model to best_c10_weights.hdf5\n",
            "468/468 [==============================] - 18s 39ms/step - loss: 0.0201 - acc: 0.9938 - val_loss: 0.0132 - val_acc: 0.9961\n",
            "Epoch 14/50\n",
            "466/468 [============================>.] - ETA: 0s - loss: 0.0196 - acc: 0.9940Epoch 1/50\n",
            "10000/468 [=================================================================================================================================================================================================================================================================================================================================================================================================================================================================================================================================================================================================================================================================] - 1s 78us/sample - loss: 0.0087 - acc: 0.9945\n",
            "\n",
            "Epoch 00014: val_loss did not improve from 0.01324\n",
            "468/468 [==============================] - 18s 39ms/step - loss: 0.0196 - acc: 0.9940 - val_loss: 0.0172 - val_acc: 0.9945\n",
            "Epoch 15/50\n",
            "467/468 [============================>.] - ETA: 0s - loss: 0.0196 - acc: 0.9943Epoch 1/50\n",
            "10000/468 [=================================================================================================================================================================================================================================================================================================================================================================================================================================================================================================================================================================================================================================================================] - 1s 77us/sample - loss: 0.0065 - acc: 0.9960\n",
            "\n",
            "Epoch 00015: val_loss improved from 0.01324 to 0.01285, saving model to best_c10_weights.hdf5\n",
            "468/468 [==============================] - 18s 39ms/step - loss: 0.0195 - acc: 0.9943 - val_loss: 0.0129 - val_acc: 0.9960\n",
            "Epoch 16/50\n",
            "466/468 [============================>.] - ETA: 0s - loss: 0.0170 - acc: 0.9947Epoch 1/50\n",
            "10000/468 [=================================================================================================================================================================================================================================================================================================================================================================================================================================================================================================================================================================================================================================================================] - 1s 78us/sample - loss: 0.0094 - acc: 0.9944\n",
            "\n",
            "Epoch 00016: val_loss did not improve from 0.01285\n",
            "468/468 [==============================] - 18s 39ms/step - loss: 0.0171 - acc: 0.9946 - val_loss: 0.0181 - val_acc: 0.9944\n",
            "Epoch 17/50\n",
            "466/468 [============================>.] - ETA: 0s - loss: 0.0151 - acc: 0.9954Epoch 1/50\n",
            "10000/468 [=================================================================================================================================================================================================================================================================================================================================================================================================================================================================================================================================================================================================================================================================] - 1s 78us/sample - loss: 0.0071 - acc: 0.9952\n",
            "\n",
            "Epoch 00017: val_loss did not improve from 0.01285\n",
            "468/468 [==============================] - 18s 39ms/step - loss: 0.0151 - acc: 0.9954 - val_loss: 0.0138 - val_acc: 0.9952\n",
            "Epoch 18/50\n",
            "467/468 [============================>.] - ETA: 0s - loss: 0.0136 - acc: 0.9958Epoch 1/50\n",
            "10000/468 [=================================================================================================================================================================================================================================================================================================================================================================================================================================================================================================================================================================================================================================================================] - 1s 77us/sample - loss: 0.0070 - acc: 0.9953\n",
            "\n",
            "Epoch 00018: val_loss did not improve from 0.01285\n",
            "468/468 [==============================] - 18s 39ms/step - loss: 0.0136 - acc: 0.9958 - val_loss: 0.0139 - val_acc: 0.9953\n",
            "Epoch 19/50\n",
            "467/468 [============================>.] - ETA: 0s - loss: 0.0140 - acc: 0.9957Epoch 1/50\n",
            "10000/468 [=================================================================================================================================================================================================================================================================================================================================================================================================================================================================================================================================================================================================================================================================] - 1s 77us/sample - loss: 0.0057 - acc: 0.9962\n",
            "\n",
            "Epoch 00019: val_loss improved from 0.01285 to 0.01140, saving model to best_c10_weights.hdf5\n",
            "468/468 [==============================] - 18s 39ms/step - loss: 0.0140 - acc: 0.9957 - val_loss: 0.0114 - val_acc: 0.9962\n",
            "Epoch 20/50\n",
            "466/468 [============================>.] - ETA: 0s - loss: 0.0120 - acc: 0.9963Epoch 1/50\n",
            "10000/468 [=================================================================================================================================================================================================================================================================================================================================================================================================================================================================================================================================================================================================================================================================] - 1s 77us/sample - loss: 0.0096 - acc: 0.9936\n",
            "\n",
            "Epoch 00020: val_loss did not improve from 0.01140\n",
            "468/468 [==============================] - 18s 39ms/step - loss: 0.0120 - acc: 0.9963 - val_loss: 0.0182 - val_acc: 0.9936\n",
            "Epoch 21/50\n",
            "466/468 [============================>.] - ETA: 0s - loss: 0.0134 - acc: 0.9959Epoch 1/50\n",
            "10000/468 [=================================================================================================================================================================================================================================================================================================================================================================================================================================================================================================================================================================================================================================================================] - 1s 78us/sample - loss: 0.0057 - acc: 0.9960\n",
            "\n",
            "Epoch 00021: val_loss improved from 0.01140 to 0.01136, saving model to best_c10_weights.hdf5\n",
            "468/468 [==============================] - 18s 39ms/step - loss: 0.0134 - acc: 0.9959 - val_loss: 0.0114 - val_acc: 0.9960\n",
            "Epoch 22/50\n",
            "466/468 [============================>.] - ETA: 0s - loss: 0.0114 - acc: 0.9967Epoch 1/50\n",
            "10000/468 [=================================================================================================================================================================================================================================================================================================================================================================================================================================================================================================================================================================================================================================================================] - 1s 78us/sample - loss: 0.0066 - acc: 0.9959\n",
            "\n",
            "Epoch 00022: val_loss did not improve from 0.01136\n",
            "468/468 [==============================] - 18s 39ms/step - loss: 0.0114 - acc: 0.9967 - val_loss: 0.0132 - val_acc: 0.9959\n",
            "Epoch 23/50\n",
            "466/468 [============================>.] - ETA: 0s - loss: 0.0105 - acc: 0.9966Epoch 1/50\n",
            "10000/468 [=================================================================================================================================================================================================================================================================================================================================================================================================================================================================================================================================================================================================================================================================] - 1s 77us/sample - loss: 0.0069 - acc: 0.9954\n",
            "\n",
            "Epoch 00023: val_loss did not improve from 0.01136\n",
            "468/468 [==============================] - 18s 39ms/step - loss: 0.0105 - acc: 0.9966 - val_loss: 0.0131 - val_acc: 0.9954\n",
            "Epoch 24/50\n",
            "467/468 [============================>.] - ETA: 0s - loss: 0.0095 - acc: 0.9967Epoch 1/50\n",
            "10000/468 [=================================================================================================================================================================================================================================================================================================================================================================================================================================================================================================================================================================================================================================================================] - 1s 78us/sample - loss: 0.0069 - acc: 0.9957\n",
            "\n",
            "Epoch 00024: val_loss did not improve from 0.01136\n",
            "468/468 [==============================] - 18s 39ms/step - loss: 0.0095 - acc: 0.9967 - val_loss: 0.0136 - val_acc: 0.9957\n",
            "Epoch 25/50\n",
            "466/468 [============================>.] - ETA: 0s - loss: 0.0092 - acc: 0.9970Epoch 1/50\n",
            "10000/468 [=================================================================================================================================================================================================================================================================================================================================================================================================================================================================================================================================================================================================================================================================] - 1s 77us/sample - loss: 0.0063 - acc: 0.9958\n",
            "\n",
            "Epoch 00025: val_loss did not improve from 0.01136\n",
            "468/468 [==============================] - 18s 39ms/step - loss: 0.0092 - acc: 0.9970 - val_loss: 0.0127 - val_acc: 0.9958\n",
            "Epoch 26/50\n",
            "466/468 [============================>.] - ETA: 0s - loss: 0.0078 - acc: 0.9975Epoch 1/50\n",
            "10000/468 [=================================================================================================================================================================================================================================================================================================================================================================================================================================================================================================================================================================================================================================================================] - 1s 78us/sample - loss: 0.0064 - acc: 0.9956\n",
            "\n",
            "Epoch 00026: val_loss did not improve from 0.01136\n",
            "468/468 [==============================] - 18s 39ms/step - loss: 0.0079 - acc: 0.9975 - val_loss: 0.0123 - val_acc: 0.9956\n",
            "Epoch 27/50\n",
            "466/468 [============================>.] - ETA: 0s - loss: 0.0089 - acc: 0.9970Epoch 1/50\n",
            "10000/468 [=================================================================================================================================================================================================================================================================================================================================================================================================================================================================================================================================================================================================================================================================] - 1s 77us/sample - loss: 0.0055 - acc: 0.9964\n",
            "\n",
            "Epoch 00027: val_loss improved from 0.01136 to 0.01097, saving model to best_c10_weights.hdf5\n",
            "468/468 [==============================] - 18s 39ms/step - loss: 0.0089 - acc: 0.9970 - val_loss: 0.0110 - val_acc: 0.9964\n",
            "Epoch 28/50\n",
            "467/468 [============================>.] - ETA: 0s - loss: 0.0073 - acc: 0.9979Epoch 1/50\n",
            "10000/468 [=================================================================================================================================================================================================================================================================================================================================================================================================================================================================================================================================================================================================================================================================] - 1s 79us/sample - loss: 0.0061 - acc: 0.9960\n",
            "\n",
            "Epoch 00028: val_loss did not improve from 0.01097\n",
            "468/468 [==============================] - 18s 39ms/step - loss: 0.0073 - acc: 0.9979 - val_loss: 0.0121 - val_acc: 0.9960\n",
            "Epoch 29/50\n",
            "467/468 [============================>.] - ETA: 0s - loss: 0.0070 - acc: 0.9979Epoch 1/50\n",
            "10000/468 [=================================================================================================================================================================================================================================================================================================================================================================================================================================================================================================================================================================================================================================================================] - 1s 77us/sample - loss: 0.0048 - acc: 0.9965\n",
            "\n",
            "Epoch 00029: val_loss improved from 0.01097 to 0.00955, saving model to best_c10_weights.hdf5\n",
            "468/468 [==============================] - 18s 39ms/step - loss: 0.0070 - acc: 0.9979 - val_loss: 0.0096 - val_acc: 0.9965\n",
            "Epoch 30/50\n",
            "466/468 [============================>.] - ETA: 0s - loss: 0.0060 - acc: 0.9980Epoch 1/50\n",
            "10000/468 [=================================================================================================================================================================================================================================================================================================================================================================================================================================================================================================================================================================================================================================================================] - 1s 78us/sample - loss: 0.0064 - acc: 0.9960\n",
            "\n",
            "Epoch 00030: val_loss did not improve from 0.00955\n",
            "468/468 [==============================] - 18s 38ms/step - loss: 0.0060 - acc: 0.9979 - val_loss: 0.0128 - val_acc: 0.9960\n",
            "Epoch 31/50\n",
            "467/468 [============================>.] - ETA: 0s - loss: 0.0055 - acc: 0.9984Epoch 1/50\n",
            "10000/468 [=================================================================================================================================================================================================================================================================================================================================================================================================================================================================================================================================================================================================================================================================] - 1s 77us/sample - loss: 0.0052 - acc: 0.9961\n",
            "\n",
            "Epoch 00031: val_loss did not improve from 0.00955\n",
            "468/468 [==============================] - 18s 38ms/step - loss: 0.0056 - acc: 0.9984 - val_loss: 0.0103 - val_acc: 0.9961\n",
            "Epoch 32/50\n",
            "467/468 [============================>.] - ETA: 0s - loss: 0.0049 - acc: 0.9985Epoch 1/50\n",
            "10000/468 [=================================================================================================================================================================================================================================================================================================================================================================================================================================================================================================================================================================================================================================================================] - 1s 78us/sample - loss: 0.0049 - acc: 0.9967\n",
            "\n",
            "Epoch 00032: val_loss improved from 0.00955 to 0.00947, saving model to best_c10_weights.hdf5\n",
            "468/468 [==============================] - 18s 39ms/step - loss: 0.0049 - acc: 0.9985 - val_loss: 0.0095 - val_acc: 0.9967\n",
            "Epoch 33/50\n",
            "467/468 [============================>.] - ETA: 0s - loss: 0.0047 - acc: 0.9986Epoch 1/50\n",
            "10000/468 [=================================================================================================================================================================================================================================================================================================================================================================================================================================================================================================================================================================================================================================================================] - 1s 78us/sample - loss: 0.0046 - acc: 0.9969\n",
            "\n",
            "Epoch 00033: val_loss improved from 0.00947 to 0.00931, saving model to best_c10_weights.hdf5\n",
            "468/468 [==============================] - 18s 39ms/step - loss: 0.0047 - acc: 0.9986 - val_loss: 0.0093 - val_acc: 0.9969\n",
            "Epoch 34/50\n",
            "467/468 [============================>.] - ETA: 0s - loss: 0.0048 - acc: 0.9984Epoch 1/50\n",
            "10000/468 [=================================================================================================================================================================================================================================================================================================================================================================================================================================================================================================================================================================================================================================================================] - 1s 76us/sample - loss: 0.0048 - acc: 0.9971\n",
            "\n",
            "Epoch 00034: val_loss did not improve from 0.00931\n",
            "468/468 [==============================] - 18s 38ms/step - loss: 0.0048 - acc: 0.9984 - val_loss: 0.0095 - val_acc: 0.9971\n",
            "Epoch 35/50\n",
            "467/468 [============================>.] - ETA: 0s - loss: 0.0046 - acc: 0.9986Epoch 1/50\n",
            "10000/468 [=================================================================================================================================================================================================================================================================================================================================================================================================================================================================================================================================================================================================================================================================] - 1s 80us/sample - loss: 0.0048 - acc: 0.9966\n",
            "\n",
            "Epoch 00035: val_loss did not improve from 0.00931\n",
            "468/468 [==============================] - 18s 38ms/step - loss: 0.0046 - acc: 0.9986 - val_loss: 0.0094 - val_acc: 0.9966\n",
            "Epoch 36/50\n",
            "467/468 [============================>.] - ETA: 0s - loss: 0.0039 - acc: 0.9987Epoch 1/50\n",
            "10000/468 [=================================================================================================================================================================================================================================================================================================================================================================================================================================================================================================================================================================================================================================================================] - 1s 76us/sample - loss: 0.0051 - acc: 0.9966\n",
            "\n",
            "Epoch 00036: val_loss did not improve from 0.00931\n",
            "468/468 [==============================] - 18s 38ms/step - loss: 0.0039 - acc: 0.9987 - val_loss: 0.0101 - val_acc: 0.9966\n",
            "Epoch 37/50\n",
            "466/468 [============================>.] - ETA: 0s - loss: 0.0033 - acc: 0.9990Epoch 1/50\n",
            "10000/468 [=================================================================================================================================================================================================================================================================================================================================================================================================================================================================================================================================================================================================================================================================] - 1s 80us/sample - loss: 0.0048 - acc: 0.9967\n",
            "\n",
            "Epoch 00037: val_loss did not improve from 0.00931\n",
            "468/468 [==============================] - 18s 39ms/step - loss: 0.0033 - acc: 0.9990 - val_loss: 0.0096 - val_acc: 0.9967\n",
            "Epoch 38/50\n",
            "467/468 [============================>.] - ETA: 0s - loss: 0.0031 - acc: 0.9990Epoch 1/50\n",
            "10000/468 [=================================================================================================================================================================================================================================================================================================================================================================================================================================================================================================================================================================================================================================================================] - 1s 77us/sample - loss: 0.0055 - acc: 0.9967\n",
            "\n",
            "Epoch 00038: val_loss did not improve from 0.00931\n",
            "468/468 [==============================] - 18s 39ms/step - loss: 0.0031 - acc: 0.9990 - val_loss: 0.0107 - val_acc: 0.9967\n",
            "Epoch 39/50\n",
            "466/468 [============================>.] - ETA: 0s - loss: 0.0029 - acc: 0.9992Epoch 1/50\n",
            "10000/468 [=================================================================================================================================================================================================================================================================================================================================================================================================================================================================================================================================================================================================================================================================] - 1s 77us/sample - loss: 0.0048 - acc: 0.9970\n",
            "\n",
            "Epoch 00039: val_loss did not improve from 0.00931\n",
            "468/468 [==============================] - 18s 38ms/step - loss: 0.0029 - acc: 0.9992 - val_loss: 0.0096 - val_acc: 0.9970\n",
            "Epoch 40/50\n",
            "467/468 [============================>.] - ETA: 0s - loss: 0.0028 - acc: 0.9991Epoch 1/50\n",
            "10000/468 [=================================================================================================================================================================================================================================================================================================================================================================================================================================================================================================================================================================================================================================================================] - 1s 79us/sample - loss: 0.0046 - acc: 0.9972\n",
            "\n",
            "Epoch 00040: val_loss improved from 0.00931 to 0.00909, saving model to best_c10_weights.hdf5\n",
            "468/468 [==============================] - 18s 39ms/step - loss: 0.0028 - acc: 0.9991 - val_loss: 0.0091 - val_acc: 0.9972\n",
            "Epoch 41/50\n",
            "466/468 [============================>.] - ETA: 0s - loss: 0.0031 - acc: 0.9992Epoch 1/50\n",
            "10000/468 [=================================================================================================================================================================================================================================================================================================================================================================================================================================================================================================================================================================================================================================================================] - 1s 81us/sample - loss: 0.0051 - acc: 0.9972\n",
            "\n",
            "Epoch 00041: val_loss did not improve from 0.00909\n",
            "468/468 [==============================] - 18s 39ms/step - loss: 0.0031 - acc: 0.9992 - val_loss: 0.0100 - val_acc: 0.9972\n",
            "Epoch 42/50\n",
            "466/468 [============================>.] - ETA: 0s - loss: 0.0032 - acc: 0.9991Epoch 1/50\n",
            "10000/468 [=================================================================================================================================================================================================================================================================================================================================================================================================================================================================================================================================================================================================================================================================] - 1s 76us/sample - loss: 0.0047 - acc: 0.9973\n",
            "\n",
            "Epoch 00042: val_loss did not improve from 0.00909\n",
            "468/468 [==============================] - 18s 39ms/step - loss: 0.0031 - acc: 0.9991 - val_loss: 0.0093 - val_acc: 0.9973\n",
            "Epoch 43/50\n",
            "467/468 [============================>.] - ETA: 0s - loss: 0.0023 - acc: 0.9993Epoch 1/50\n",
            "10000/468 [=================================================================================================================================================================================================================================================================================================================================================================================================================================================================================================================================================================================================================================================================] - 1s 77us/sample - loss: 0.0046 - acc: 0.9975\n",
            "\n",
            "Epoch 00043: val_loss did not improve from 0.00909\n",
            "468/468 [==============================] - 18s 39ms/step - loss: 0.0024 - acc: 0.9993 - val_loss: 0.0091 - val_acc: 0.9975\n",
            "Epoch 44/50\n",
            "467/468 [============================>.] - ETA: 0s - loss: 0.0025 - acc: 0.9992Epoch 1/50\n",
            "10000/468 [=================================================================================================================================================================================================================================================================================================================================================================================================================================================================================================================================================================================================================================================================] - 1s 79us/sample - loss: 0.0046 - acc: 0.9972\n",
            "\n",
            "Epoch 00044: val_loss improved from 0.00909 to 0.00906, saving model to best_c10_weights.hdf5\n",
            "468/468 [==============================] - 18s 39ms/step - loss: 0.0025 - acc: 0.9992 - val_loss: 0.0091 - val_acc: 0.9972\n",
            "Epoch 45/50\n",
            "467/468 [============================>.] - ETA: 0s - loss: 0.0021 - acc: 0.9994Epoch 1/50\n",
            "10000/468 [=================================================================================================================================================================================================================================================================================================================================================================================================================================================================================================================================================================================================================================================================] - 1s 80us/sample - loss: 0.0047 - acc: 0.9973\n",
            "\n",
            "Epoch 00045: val_loss did not improve from 0.00906\n",
            "468/468 [==============================] - 18s 39ms/step - loss: 0.0021 - acc: 0.9994 - val_loss: 0.0094 - val_acc: 0.9973\n",
            "Epoch 46/50\n",
            "467/468 [============================>.] - ETA: 0s - loss: 0.0026 - acc: 0.9992Epoch 1/50\n",
            "10000/468 [=================================================================================================================================================================================================================================================================================================================================================================================================================================================================================================================================================================================================================================================================] - 1s 77us/sample - loss: 0.0046 - acc: 0.9974\n",
            "\n",
            "Epoch 00046: val_loss did not improve from 0.00906\n",
            "468/468 [==============================] - 18s 39ms/step - loss: 0.0026 - acc: 0.9992 - val_loss: 0.0092 - val_acc: 0.9974\n",
            "Epoch 47/50\n",
            "467/468 [============================>.] - ETA: 0s - loss: 0.0021 - acc: 0.9994Epoch 1/50\n",
            "10000/468 [=================================================================================================================================================================================================================================================================================================================================================================================================================================================================================================================================================================================================================================================================] - 1s 79us/sample - loss: 0.0045 - acc: 0.9973\n",
            "\n",
            "Epoch 00047: val_loss improved from 0.00906 to 0.00906, saving model to best_c10_weights.hdf5\n",
            "468/468 [==============================] - 18s 39ms/step - loss: 0.0021 - acc: 0.9994 - val_loss: 0.0091 - val_acc: 0.9973\n",
            "Epoch 48/50\n",
            "467/468 [============================>.] - ETA: 0s - loss: 0.0024 - acc: 0.9993Epoch 1/50\n",
            "10000/468 [=================================================================================================================================================================================================================================================================================================================================================================================================================================================================================================================================================================================================================================================================] - 1s 76us/sample - loss: 0.0047 - acc: 0.9973\n",
            "\n",
            "Epoch 00048: val_loss did not improve from 0.00906\n",
            "468/468 [==============================] - 18s 38ms/step - loss: 0.0024 - acc: 0.9993 - val_loss: 0.0093 - val_acc: 0.9973\n",
            "Epoch 49/50\n",
            "467/468 [============================>.] - ETA: 0s - loss: 0.0024 - acc: 0.9993Epoch 1/50\n",
            "10000/468 [=================================================================================================================================================================================================================================================================================================================================================================================================================================================================================================================================================================================================================================================================] - 1s 77us/sample - loss: 0.0047 - acc: 0.9972\n",
            "\n",
            "Epoch 00049: val_loss did not improve from 0.00906\n",
            "468/468 [==============================] - 18s 38ms/step - loss: 0.0024 - acc: 0.9993 - val_loss: 0.0093 - val_acc: 0.9972\n",
            "Epoch 50/50\n",
            "467/468 [============================>.] - ETA: 0s - loss: 0.0025 - acc: 0.9991Epoch 1/50\n",
            "10000/468 [=================================================================================================================================================================================================================================================================================================================================================================================================================================================================================================================================================================================================================================================================] - 1s 80us/sample - loss: 0.0047 - acc: 0.9973\n",
            "\n",
            "Epoch 00050: val_loss did not improve from 0.00906\n",
            "468/468 [==============================] - 18s 38ms/step - loss: 0.0025 - acc: 0.9991 - val_loss: 0.0093 - val_acc: 0.9973\n"
          ],
          "name": "stdout"
        }
      ]
    },
    {
      "cell_type": "markdown",
      "metadata": {
        "id": "zkTCiSyBRb1n",
        "colab_type": "text"
      },
      "source": [
        "# Evaluate"
      ]
    },
    {
      "cell_type": "code",
      "metadata": {
        "id": "oXQ4M6Lz_eAb",
        "colab_type": "code",
        "colab": {
          "base_uri": "https://localhost:8080/",
          "height": 323
        },
        "outputId": "0ed3335b-b462-4034-fd09-133202682e36"
      },
      "source": [
        "label_names = ['0', '1', '2', '3', '4', '5', '6', '7', '8', '9']\n",
        "\n",
        "print('# Trained the network! Evaluating...')\n",
        "preds = model.predict(X_ttest, batch_size=128)\n",
        "print(classification_report(y_ttest.argmax(axis=1),\n",
        "preds.argmax(axis=1), target_names=label_names))"
      ],
      "execution_count": 112,
      "outputs": [
        {
          "output_type": "stream",
          "text": [
            "# Trained the network! Evaluating...\n",
            "              precision    recall  f1-score   support\n",
            "\n",
            "           0       1.00      1.00      1.00       980\n",
            "           1       1.00      1.00      1.00      1135\n",
            "           2       1.00      1.00      1.00      1032\n",
            "           3       1.00      1.00      1.00      1010\n",
            "           4       0.99      1.00      1.00       982\n",
            "           5       1.00      1.00      1.00       892\n",
            "           6       1.00      1.00      1.00       958\n",
            "           7       1.00      1.00      1.00      1028\n",
            "           8       1.00      1.00      1.00       974\n",
            "           9       1.00      1.00      1.00      1009\n",
            "\n",
            "    accuracy                           1.00     10000\n",
            "   macro avg       1.00      1.00      1.00     10000\n",
            "weighted avg       1.00      1.00      1.00     10000\n",
            "\n"
          ],
          "name": "stdout"
        }
      ]
    },
    {
      "cell_type": "markdown",
      "metadata": {
        "id": "mAd1OXGtReYN",
        "colab_type": "text"
      },
      "source": [
        "# Visualize curves"
      ]
    },
    {
      "cell_type": "code",
      "metadata": {
        "id": "xGB-cLnW_toq",
        "colab_type": "code",
        "colab": {
          "base_uri": "https://localhost:8080/",
          "height": 626
        },
        "outputId": "e398aee0-f4dc-41dd-f86e-4aeb0d1a2675"
      },
      "source": [
        "plt.style.use('ggplot')\n",
        "plt.figure(figsize=(20,10))\n",
        "plt.plot(np.arange(0, num_epochs), h.history['loss'], label='train_loss')\n",
        "plt.plot(np.arange(0, num_epochs), h.history['val_loss'], label='val_loss')\n",
        "plt.plot(np.arange(0, num_epochs), h.history['acc'], label='train_accuracy')\n",
        "plt.plot(np.arange(0, num_epochs), h.history['val_acc'], label='val_accuracy')\n",
        "\n",
        "plt.title('Training Loss and Accuracy')\n",
        "plt.ylabel('Loss/Accuracy')\n",
        "plt.xlabel('Epoch #')\n",
        "plt.legend()\n",
        "\n",
        "plt.show()"
      ],
      "execution_count": 113,
      "outputs": [
        {
          "output_type": "display_data",
          "data": {
            "image/png": "[encoded data removed]",
            "text/plain": [
              "<Figure size 1440x720 with 1 Axes>"
            ]
          },
          "metadata": {
            "tags": []
          }
        }
      ]
    },
    {
      "cell_type": "markdown",
      "metadata": {
        "id": "NQ5OuM1ONtMV",
        "colab_type": "text"
      },
      "source": [
        "# Kaggle"
      ]
    },
    {
      "cell_type": "code",
      "metadata": {
        "id": "7MI8GAR1IDXq",
        "colab_type": "code",
        "colab": {
          "base_uri": "https://localhost:8080/",
          "height": 34
        },
        "outputId": "7a013f0e-63ac-4e4b-808d-5ce0ec8373d5"
      },
      "source": [
        "'''\n",
        "Pushing a submission to Kaggle.\n",
        "\n",
        "First of, load the test set, normalize it and reshape it.\n",
        "Then, make predictions via the trained model and build the\n",
        "submission csv file.\n",
        "'''\n",
        "\n",
        "sub_X_test = pd.read_csv(os.path.join(base_dir, 'test.csv'))\n",
        "sub_X_test = sub_X_test / 255.0\n",
        "sub_X_test = sub_X_test.values.reshape(-1, 28, 28, 1)\n",
        "preds = model.predict(sub_X_test)\n",
        "preds = np.argmax(preds, axis=1)\n",
        "preds = pd.Series(preds, name='Label')\n",
        "submission = pd.concat([pd.Series(range(1, 28001), name='ImageId'), preds], axis=1)\n",
        "submission.to_csv(os.path.join(base_dir, 'cnn_mnist_datagen.csv'), index=False)\n",
        "\n",
        "print('Saved to:', os.path.join(base_dir, 'cnn_mnist_datagen.csv'))"
      ],
      "execution_count": 166,
      "outputs": [
        {
          "output_type": "stream",
          "text": [
            "Saved to: /content/gdrive/My Drive/deepl/cnn_mnist_datagen.csv\n"
          ],
          "name": "stdout"
        }
      ]
    }
  ]
}
