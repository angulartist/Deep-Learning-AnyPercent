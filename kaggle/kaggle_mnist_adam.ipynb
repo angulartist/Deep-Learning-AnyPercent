{
 "cells": [
  {
   "cell_type": "code",
   "execution_count": 14,
   "metadata": {},
   "outputs": [],
   "source": [
    "import warnings\n",
    "warnings.filterwarnings('ignore')"
   ]
  },
  {
   "cell_type": "code",
   "execution_count": 21,
   "metadata": {},
   "outputs": [],
   "source": [
    "from tensorflow.keras.optimizers import SGD, Adam\n",
    "from tensorflow.keras.preprocessing.image import img_to_array, ImageDataGenerator\n",
    "from tensorflow.keras import backend as K\n",
    "from tensorflow.keras.callbacks import LearningRateScheduler, ModelCheckpoint\n",
    "from tensorflow.keras.utils import to_categorical\n",
    "\n",
    "# Import MNIST Dataset\n",
    "from tensorflow.keras.datasets import mnist\n",
    "\n",
    "from customnet import CustomNet\n",
    "\n",
    "import matplotlib\n",
    "import matplotlib.pyplot as plt\n",
    "matplotlib.use('Agg') # Non-interactive\n",
    "\n",
    "import pandas as pd\n",
    "\n",
    "from sklearn.preprocessing import LabelBinarizer\n",
    "from sklearn.metrics import classification_report\n",
    "from sklearn.feature_extraction.image import extract_patches_2d\n",
    "from sklearn.model_selection import train_test_split\n",
    "\n",
    "import numpy as np\n",
    "from imutils import paths, resize\n",
    "import cv2\n",
    "import os\n",
    "\n",
    "plt.style.use('ggplot')"
   ]
  },
  {
   "cell_type": "markdown",
   "metadata": {},
   "source": [
    "## Network architecture"
   ]
  },
  {
   "cell_type": "code",
   "execution_count": 5,
   "metadata": {},
   "outputs": [
    {
     "name": "stdout",
     "output_type": "stream",
     "text": [
      "Model: \"sequential_1\"\n",
      "_________________________________________________________________\n",
      "Layer (type)                 Output Shape              Param #   \n",
      "=================================================================\n",
      "conv2d_4 (Conv2D)            (None, 28, 28, 32)        320       \n",
      "_________________________________________________________________\n",
      "activation_6 (Activation)    (None, 28, 28, 32)        0         \n",
      "_________________________________________________________________\n",
      "batch_normalization_5 (Batch (None, 28, 28, 32)        128       \n",
      "_________________________________________________________________\n",
      "conv2d_5 (Conv2D)            (None, 28, 28, 32)        9248      \n",
      "_________________________________________________________________\n",
      "activation_7 (Activation)    (None, 28, 28, 32)        0         \n",
      "_________________________________________________________________\n",
      "batch_normalization_6 (Batch (None, 28, 28, 32)        128       \n",
      "_________________________________________________________________\n",
      "max_pooling2d_1 (MaxPooling2 (None, 14, 14, 32)        0         \n",
      "_________________________________________________________________\n",
      "conv2d_6 (Conv2D)            (None, 14, 14, 64)        18496     \n",
      "_________________________________________________________________\n",
      "activation_8 (Activation)    (None, 14, 14, 64)        0         \n",
      "_________________________________________________________________\n",
      "batch_normalization_7 (Batch (None, 14, 14, 64)        256       \n",
      "_________________________________________________________________\n",
      "conv2d_7 (Conv2D)            (None, 14, 14, 64)        36928     \n",
      "_________________________________________________________________\n",
      "activation_9 (Activation)    (None, 14, 14, 64)        0         \n",
      "_________________________________________________________________\n",
      "batch_normalization_8 (Batch (None, 14, 14, 64)        256       \n",
      "_________________________________________________________________\n",
      "dropout_2 (Dropout)          (None, 14, 14, 64)        0         \n",
      "_________________________________________________________________\n",
      "flatten_1 (Flatten)          (None, 12544)             0         \n",
      "_________________________________________________________________\n",
      "dense_2 (Dense)              (None, 256)               3211520   \n",
      "_________________________________________________________________\n",
      "activation_10 (Activation)   (None, 256)               0         \n",
      "_________________________________________________________________\n",
      "batch_normalization_9 (Batch (None, 256)               1024      \n",
      "_________________________________________________________________\n",
      "dropout_3 (Dropout)          (None, 256)               0         \n",
      "_________________________________________________________________\n",
      "dense_3 (Dense)              (None, 10)                2570      \n",
      "_________________________________________________________________\n",
      "activation_11 (Activation)   (None, 10)                0         \n",
      "=================================================================\n",
      "Total params: 3,280,874\n",
      "Trainable params: 3,279,978\n",
      "Non-trainable params: 896\n",
      "_________________________________________________________________\n",
      "None\n"
     ]
    }
   ],
   "source": [
    "dataset_classes = 10\n",
    "datapoint_depth = 1\n",
    "datapoint_dims = 28\n",
    "\n",
    "# ((CONV => ReLU => BN) * 2 => POOL => DO) * 2 => ReLU => BN => DO\n",
    "net = CustomNet()\n",
    "model = net.build(\n",
    "    datapoint_dims,\n",
    "    datapoint_dims,\n",
    "    num_classes=dataset_classes,\n",
    "    depth=datapoint_depth\n",
    ")"
   ]
  },
  {
   "cell_type": "markdown",
   "metadata": {},
   "source": [
    "## Loading, processing and splitting the dataset"
   ]
  },
  {
   "cell_type": "code",
   "execution_count": 6,
   "metadata": {},
   "outputs": [],
   "source": [
    "(trainX, trainY), (testX, testY) = mnist.load_data()"
   ]
  },
  {
   "cell_type": "code",
   "execution_count": 11,
   "metadata": {},
   "outputs": [],
   "source": [
    "def preprocess(datapoint):\n",
    "    ''' Preprocess an image (resize, extract patches...) '''\n",
    "    if datapoint is not None:\n",
    "        # Extract a random crop from the image\n",
    "        datapoint = extract_patches_2d(\n",
    "            datapoint,\n",
    "            (datapoint_dims, datapoint_dims),\n",
    "            max_patches=1\n",
    "        )[0]\n",
    "        # Transform image to array\n",
    "        datapoint = img_to_array(datapoint, data_format=None)\n",
    "\n",
    "        return datapoint\n",
    "\n",
    "# Normalize [0, 1]\n",
    "trainX = np.array(\n",
    "    [preprocess(datapoint) for datapoint in trainX]\n",
    ").astype('float') / 255.0\n",
    "\n",
    "testX = np.array(\n",
    "    [preprocess(datapoint) for datapoint in testX]\n",
    ").astype('float') / 255.0"
   ]
  },
  {
   "cell_type": "markdown",
   "metadata": {},
   "source": [
    "## Labels one-hot encoding"
   ]
  },
  {
   "cell_type": "code",
   "execution_count": 19,
   "metadata": {},
   "outputs": [],
   "source": [
    "trainY = to_categorical(\n",
    "    trainY,\n",
    "    num_classes=dataset_classes\n",
    ")\n",
    "\n",
    "testY = to_categorical(\n",
    "    testY,\n",
    "    num_classes=dataset_classes\n",
    ")"
   ]
  },
  {
   "cell_type": "markdown",
   "metadata": {},
   "source": [
    "## Data Augmentation"
   ]
  },
  {
   "cell_type": "code",
   "execution_count": 20,
   "metadata": {},
   "outputs": [],
   "source": [
    "daug = ImageDataGenerator(\n",
    "    featurewise_center=False,\n",
    "    samplewise_center=False,\n",
    "    featurewise_std_normalization=False,\n",
    "    samplewise_std_normalization=False,\n",
    "    zca_whitening=False,\n",
    "    rotation_range=10,\n",
    "    zoom_range = 0.1, \n",
    "    width_shift_range=0.1,\n",
    "    height_shift_range=0.1,\n",
    "    horizontal_flip=False,\n",
    "    vertical_flip=False\n",
    ")"
   ]
  },
  {
   "cell_type": "markdown",
   "metadata": {},
   "source": [
    "## Train the network"
   ]
  },
  {
   "cell_type": "code",
   "execution_count": 17,
   "metadata": {},
   "outputs": [],
   "source": [
    "num_epochs = 20"
   ]
  },
  {
   "cell_type": "markdown",
   "metadata": {},
   "source": [
    "### Learning rate scheduler : polynomial decay\n",
    "\n",
    "$$\\alpha = \\alpha_{0} * (1 - e / e_{\\max})^{^{p}}$$"
   ]
  },
  {
   "cell_type": "code",
   "execution_count": 34,
   "metadata": {},
   "outputs": [
    {
     "data": {
      "image/png": "[encoded data removed]",
      "text/plain": [
       "<Figure size 432x288 with 1 Axes>"
      ]
     },
     "metadata": {
      "needs_background": "light"
     },
     "output_type": "display_data"
    }
   ],
   "source": [
    "init_lr = 5e-3\n",
    "\n",
    "def polynomial_decay(epoch):\n",
    "    max_epochs = num_epochs\n",
    "    base_lr = init_lr\n",
    "    power = 1.0\n",
    "    \n",
    "    return base_lr * (1 - (epoch / float(max_epochs))) ** power\n",
    "\n",
    "x = np.linspace(0, 50)\n",
    "fx = [(init_lr * (1 - (x[i] / float(num_epochs))) ** 1.0) for i in range(len(x))]\n",
    "\n",
    "%matplotlib inline\n",
    "plt.plot(x, fx)\n",
    "plt.show()"
   ]
  },
  {
   "cell_type": "code",
   "execution_count": 23,
   "metadata": {},
   "outputs": [],
   "source": [
    "# Save best weights based on validation loss\n",
    "checkpointHandler = ModelCheckpoint(\n",
    "    'best_c10_weights.hdf5',\n",
    "    monitor='val_loss',\n",
    "    save_best_only=True,\n",
    "    verbose=1\n",
    ")\n",
    "\n",
    "callbacks = [\n",
    "    LearningRateScheduler(polynomial_decay),\n",
    "    checkpointHandler\n",
    "]"
   ]
  },
  {
   "cell_type": "code",
   "execution_count": 24,
   "metadata": {},
   "outputs": [
    {
     "name": "stdout",
     "output_type": "stream",
     "text": [
      "# Compiling the model...\n",
      "# Training the network...\n",
      "Epoch 1/20\n",
      "233/234 [============================>.] - ETA: 0s - loss: 0.2180 - acc: 0.9338\n",
      "Epoch 00001: val_loss improved from inf to 9.72245, saving model to best_c10_weights.hdf5\n",
      "234/234 [==============================] - 19s 81ms/step - loss: 0.2178 - acc: 0.9339 - val_loss: 9.7224 - val_acc: 0.1229\n",
      "Epoch 2/20\n",
      "233/234 [============================>.] - ETA: 0s - loss: 0.0792 - acc: 0.9759\n",
      "Epoch 00002: val_loss improved from 9.72245 to 0.88482, saving model to best_c10_weights.hdf5\n",
      "234/234 [==============================] - 16s 70ms/step - loss: 0.0790 - acc: 0.9759 - val_loss: 0.8848 - val_acc: 0.8168\n",
      "Epoch 3/20\n",
      "233/234 [============================>.] - ETA: 0s - loss: 0.0664 - acc: 0.9792- ETA: 1s - \n",
      "Epoch 00003: val_loss improved from 0.88482 to 0.05119, saving model to best_c10_weights.hdf5\n",
      "234/234 [==============================] - 17s 71ms/step - loss: 0.0663 - acc: 0.9792 - val_loss: 0.0512 - val_acc: 0.9817\n",
      "Epoch 4/20\n",
      "233/234 [============================>.] - ETA: 0s - loss: 0.0529 - acc: 0.9837\n",
      "Epoch 00004: val_loss did not improve from 0.05119\n",
      "234/234 [==============================] - 16s 70ms/step - loss: 0.0529 - acc: 0.9837 - val_loss: 0.0777 - val_acc: 0.9770\n",
      "Epoch 5/20\n",
      "233/234 [============================>.] - ETA: 0s - loss: 0.0434 - acc: 0.9871\n",
      "Epoch 00005: val_loss did not improve from 0.05119\n",
      "234/234 [==============================] - 16s 70ms/step - loss: 0.0433 - acc: 0.9871 - val_loss: 0.0736 - val_acc: 0.9787\n",
      "Epoch 6/20\n",
      "233/234 [============================>.] - ETA: 0s - loss: 0.0427 - acc: 0.9865\n",
      "Epoch 00006: val_loss improved from 0.05119 to 0.04890, saving model to best_c10_weights.hdf5\n",
      "234/234 [==============================] - 17s 71ms/step - loss: 0.0427 - acc: 0.9866 - val_loss: 0.0489 - val_acc: 0.9843\n",
      "Epoch 7/20\n",
      "233/234 [============================>.] - ETA: 0s - loss: 0.0382 - acc: 0.9879\n",
      "Epoch 00007: val_loss improved from 0.04890 to 0.03228, saving model to best_c10_weights.hdf5\n",
      "234/234 [==============================] - 16s 70ms/step - loss: 0.0382 - acc: 0.9879 - val_loss: 0.0323 - val_acc: 0.9900\n",
      "Epoch 8/20\n",
      "233/234 [============================>.] - ETA: 0s - loss: 0.0359 - acc: 0.9889\n",
      "Epoch 00008: val_loss improved from 0.03228 to 0.02068, saving model to best_c10_weights.hdf5\n",
      "234/234 [==============================] - 16s 70ms/step - loss: 0.0360 - acc: 0.9890 - val_loss: 0.0207 - val_acc: 0.9930\n",
      "Epoch 9/20\n",
      "233/234 [============================>.] - ETA: 0s - loss: 0.0306 - acc: 0.9907\n",
      "Epoch 00009: val_loss did not improve from 0.02068\n",
      "234/234 [==============================] - 16s 69ms/step - loss: 0.0306 - acc: 0.9908 - val_loss: 0.0207 - val_acc: 0.9932\n",
      "Epoch 10/20\n",
      "233/234 [============================>.] - ETA: 0s - loss: 0.0296 - acc: 0.9910\n",
      "Epoch 00010: val_loss improved from 0.02068 to 0.01947, saving model to best_c10_weights.hdf5\n",
      "234/234 [==============================] - 16s 70ms/step - loss: 0.0297 - acc: 0.9910 - val_loss: 0.0195 - val_acc: 0.9931\n",
      "Epoch 11/20\n",
      "233/234 [============================>.] - ETA: 0s - loss: 0.0272 - acc: 0.9916\n",
      "Epoch 00011: val_loss did not improve from 0.01947\n",
      "234/234 [==============================] - 16s 69ms/step - loss: 0.0271 - acc: 0.9916 - val_loss: 0.0364 - val_acc: 0.9916\n",
      "Epoch 12/20\n",
      "233/234 [============================>.] - ETA: 0s - loss: 0.0260 - acc: 0.9920\n",
      "Epoch 00012: val_loss did not improve from 0.01947\n",
      "234/234 [==============================] - 16s 69ms/step - loss: 0.0261 - acc: 0.9919 - val_loss: 0.0208 - val_acc: 0.9929\n",
      "Epoch 13/20\n",
      "233/234 [============================>.] - ETA: 0s - loss: 0.0221 - acc: 0.9929\n",
      "Epoch 00013: val_loss improved from 0.01947 to 0.01555, saving model to best_c10_weights.hdf5\n",
      "234/234 [==============================] - 16s 70ms/step - loss: 0.0222 - acc: 0.9929 - val_loss: 0.0156 - val_acc: 0.9958\n",
      "Epoch 14/20\n",
      "233/234 [============================>.] - ETA: 0s - loss: 0.0200 - acc: 0.9941\n",
      "Epoch 00014: val_loss did not improve from 0.01555\n",
      "234/234 [==============================] - 16s 70ms/step - loss: 0.0201 - acc: 0.9941 - val_loss: 0.0255 - val_acc: 0.9917\n",
      "Epoch 15/20\n",
      "233/234 [============================>.] - ETA: 0s - loss: 0.0218 - acc: 0.9932\n",
      "Epoch 00015: val_loss improved from 0.01555 to 0.01235, saving model to best_c10_weights.hdf5\n",
      "234/234 [==============================] - 16s 70ms/step - loss: 0.0218 - acc: 0.9932 - val_loss: 0.0123 - val_acc: 0.9958\n",
      "Epoch 16/20\n",
      "233/234 [============================>.] - ETA: 0s - loss: 0.0186 - acc: 0.9945\n",
      "Epoch 00016: val_loss did not improve from 0.01235\n",
      "234/234 [==============================] - 16s 70ms/step - loss: 0.0185 - acc: 0.9945 - val_loss: 0.0163 - val_acc: 0.9946\n",
      "Epoch 17/20\n",
      "233/234 [============================>.] - ETA: 0s - loss: 0.0165 - acc: 0.9947\n",
      "Epoch 00017: val_loss did not improve from 0.01235\n",
      "234/234 [==============================] - 16s 69ms/step - loss: 0.0165 - acc: 0.9947 - val_loss: 0.0133 - val_acc: 0.9957\n",
      "Epoch 18/20\n",
      "233/234 [============================>.] - ETA: 0s - loss: 0.0146 - acc: 0.9957\n",
      "Epoch 00018: val_loss improved from 0.01235 to 0.01182, saving model to best_c10_weights.hdf5\n",
      "234/234 [==============================] - 16s 70ms/step - loss: 0.0146 - acc: 0.9957 - val_loss: 0.0118 - val_acc: 0.9958\n",
      "Epoch 19/20\n",
      "233/234 [============================>.] - ETA: 0s - loss: 0.0133 - acc: 0.9958\n",
      "Epoch 00019: val_loss did not improve from 0.01182\n",
      "234/234 [==============================] - 16s 69ms/step - loss: 0.0133 - acc: 0.9958 - val_loss: 0.0124 - val_acc: 0.9956\n",
      "Epoch 20/20\n",
      "233/234 [============================>.] - ETA: 0s - loss: 0.0128 - acc: 0.9964\n",
      "Epoch 00020: val_loss improved from 0.01182 to 0.01161, saving model to best_c10_weights.hdf5\n",
      "234/234 [==============================] - 16s 70ms/step - loss: 0.0129 - acc: 0.9964 - val_loss: 0.0116 - val_acc: 0.9955\n"
     ]
    }
   ],
   "source": [
    "adam_opt = Adam(lr=0.001, beta_1=0.9, beta_2=0.999, epsilon=1e-08, decay=0.0)\n",
    "\n",
    "print('# Compiling the model...')\n",
    "model.compile(loss='categorical_crossentropy', optimizer=adam_opt, metrics=['accuracy'])\n",
    "\n",
    "print('# Training the network...')\n",
    "h = model.fit_generator(\n",
    "    daug.flow(trainX, trainY, batch_size=256),\n",
    "    validation_data=(testX, testY),\n",
    "    epochs=num_epochs,\n",
    "    steps_per_epoch=len(trainX) // 256,\n",
    "    callbacks=callbacks,\n",
    "    verbose=1\n",
    ")"
   ]
  },
  {
   "cell_type": "markdown",
   "metadata": {},
   "source": [
    "## Evalute the network"
   ]
  },
  {
   "cell_type": "code",
   "execution_count": 25,
   "metadata": {
    "scrolled": true
   },
   "outputs": [
    {
     "name": "stdout",
     "output_type": "stream",
     "text": [
      "# Trained the network! Evaluating...\n",
      "              precision    recall  f1-score   support\n",
      "\n",
      "           0       0.99      1.00      1.00       980\n",
      "           1       1.00      0.99      1.00      1135\n",
      "           2       1.00      0.99      1.00      1032\n",
      "           3       0.99      1.00      1.00      1010\n",
      "           4       0.99      1.00      1.00       982\n",
      "           5       1.00      1.00      1.00       892\n",
      "           6       1.00      0.99      1.00       958\n",
      "           7       0.99      1.00      0.99      1028\n",
      "           8       1.00      0.99      1.00       974\n",
      "           9       1.00      0.99      0.99      1009\n",
      "\n",
      "   micro avg       1.00      1.00      1.00     10000\n",
      "   macro avg       1.00      1.00      1.00     10000\n",
      "weighted avg       1.00      1.00      1.00     10000\n",
      "\n"
     ]
    }
   ],
   "source": [
    "label_names = [\n",
    "    '0',\n",
    "    '1',\n",
    "    '2',\n",
    "    '3',\n",
    "    '4',\n",
    "    '5',\n",
    "    '6',\n",
    "    '7',\n",
    "    '8',\n",
    "    '9'\n",
    "]\n",
    "\n",
    "print('# Trained the network! Evaluating...')\n",
    "preds = model.predict(testX, batch_size=256)\n",
    "print(classification_report(testY.argmax(axis=1),\n",
    "preds.argmax(axis=1), target_names=label_names))"
   ]
  },
  {
   "cell_type": "markdown",
   "metadata": {},
   "source": [
    "## Plot curves"
   ]
  },
  {
   "cell_type": "code",
   "execution_count": 28,
   "metadata": {},
   "outputs": [
    {
     "data": {
      "image/png": "[encoded data removed]",
      "text/plain": [
       "<Figure size 1440x1080 with 1 Axes>"
      ]
     },
     "metadata": {},
     "output_type": "display_data"
    }
   ],
   "source": [
    "%matplotlib inline\n",
    "plt.figure(figsize=(20, 15))\n",
    "plt.plot(np.arange(0, num_epochs), h.history['loss'], label='train_loss')\n",
    "plt.plot(np.arange(0, num_epochs), h.history['val_loss'], label='val_loss')\n",
    "plt.plot(np.arange(0, num_epochs), h.history['acc'], label='train_accuracy')\n",
    "plt.plot(np.arange(0, num_epochs), h.history['val_acc'], label='val_accuracy')\n",
    "\n",
    "plt.title('Training Loss and Accuracy')\n",
    "plt.ylabel('Loss/Accuracy')\n",
    "plt.xlabel('Epoch #')\n",
    "plt.legend()\n",
    "\n",
    "plt.show()"
   ]
  }
 ],
 "metadata": {
  "kernelspec": {
   "display_name": "Python 3",
   "language": "python",
   "name": "python3"
  },
  "language_info": {
   "codemirror_mode": {
    "name": "ipython",
    "version": 3
   },
   "file_extension": ".py",
   "mimetype": "text/x-python",
   "name": "python",
   "nbconvert_exporter": "python",
   "pygments_lexer": "ipython3",
   "version": "3.7.0"
  }
 },
 "nbformat": 4,
 "nbformat_minor": 4
}
