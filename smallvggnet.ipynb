{
 "cells": [
  {
   "cell_type": "code",
   "execution_count": 116,
   "metadata": {},
   "outputs": [],
   "source": [
    "import warnings\n",
    "warnings.filterwarnings('ignore') # Wow nice."
   ]
  },
  {
   "cell_type": "code",
   "execution_count": 183,
   "metadata": {},
   "outputs": [],
   "source": [
    "from tensorflow.keras.models import Sequential\n",
    "from tensorflow.keras.layers import BatchNormalization, Conv2D, MaxPooling2D, Activation, Flatten, Dropout, Dense\n",
    "from tensorflow.keras.optimizers import SGD\n",
    "from tensorflow.keras.preprocessing.image import img_to_array, ImageDataGenerator\n",
    "from tensorflow.keras import backend as K\n",
    "\n",
    "import matplotlib\n",
    "import matplotlib.pyplot as plt\n",
    "matplotlib.use('Agg') # Non-interactive\n",
    "\n",
    "import pandas as pd\n",
    "\n",
    "from sklearn.preprocessing import LabelBinarizer\n",
    "from sklearn.metrics import classification_report\n",
    "from sklearn.feature_extraction.image import extract_patches_2d\n",
    "from sklearn.model_selection import train_test_split\n",
    "\n",
    "import numpy as np\n",
    "from imutils import paths\n",
    "import cv2\n",
    "import os"
   ]
  },
  {
   "cell_type": "code",
   "execution_count": 153,
   "metadata": {},
   "outputs": [],
   "source": [
    "class SmallVGGNet(object):\n",
    "    @staticmethod\n",
    "    def build(width, height, num_classes, depth=3): # Depth is 3 cuz' RGB color-space\n",
    "        model = Sequential()\n",
    "        input_shape = (height, width, depth)\n",
    "        chan_dim = -1 # Index of the channel dimension (in order to apply BN)\n",
    "        \n",
    "        # First layers set ((Conv => ReLU => BN) * 2 => POOL => DO)\n",
    "        # 32 filters\n",
    "        model.add(Conv2D(32, (3, 3), padding='same', input_shape=input_shape))\n",
    "        model.add(Activation('relu'))\n",
    "        model.add(BatchNormalization(axis=chan_dim))\n",
    "        model.add(Conv2D(32, (3, 3), padding='same'))\n",
    "        model.add(Activation('relu'))\n",
    "        model.add(BatchNormalization(axis=chan_dim))\n",
    "        model.add(MaxPooling2D(pool_size=(2, 2))) # Implicit stride of 2x2\n",
    "        model.add(Dropout(0.25))\n",
    "        \n",
    "        # Second layers set ((Conv => ReLU => BN) * 2 => POOL => DO)\n",
    "        # 64 filters\n",
    "        model.add(Conv2D(64, (3, 3), padding='same'))\n",
    "        model.add(Activation('relu'))\n",
    "        model.add(BatchNormalization(axis=chan_dim))\n",
    "        model.add(Conv2D(64, (3, 3), padding='same'))\n",
    "        model.add(Activation('relu'))\n",
    "        model.add(BatchNormalization(axis=chan_dim))\n",
    "        model.add(MaxPooling2D(pool_size=(2, 2)))\n",
    "        model.add(Dropout(0.25))\n",
    "        \n",
    "        # FC layers set (FC => ReLU)\n",
    "        model.add(Flatten())\n",
    "        model.add(Dense(512))\n",
    "        model.add(Activation('relu'))\n",
    "        model.add(BatchNormalization())\n",
    "        model.add(Dropout(0.5))\n",
    "        \n",
    "        # Softmax Classifier\n",
    "        model.add(Dense(num_classes)) # Determined by the number of classes\n",
    "        model.add(Activation('softmax'))\n",
    "        \n",
    "        print(model.summary())\n",
    "        \n",
    "        return model"
   ]
  },
  {
   "cell_type": "code",
   "execution_count": 154,
   "metadata": {},
   "outputs": [
    {
     "name": "stdout",
     "output_type": "stream",
     "text": [
      "_________________________________________________________________\n",
      "Layer (type)                 Output Shape              Param #   \n",
      "=================================================================\n",
      "conv2d_36 (Conv2D)           (None, 32, 32, 32)        896       \n",
      "_________________________________________________________________\n",
      "activation_54 (Activation)   (None, 32, 32, 32)        0         \n",
      "_________________________________________________________________\n",
      "batch_normalization_v1_45 (B (None, 32, 32, 32)        128       \n",
      "_________________________________________________________________\n",
      "conv2d_37 (Conv2D)           (None, 32, 32, 32)        9248      \n",
      "_________________________________________________________________\n",
      "activation_55 (Activation)   (None, 32, 32, 32)        0         \n",
      "_________________________________________________________________\n",
      "batch_normalization_v1_46 (B (None, 32, 32, 32)        128       \n",
      "_________________________________________________________________\n",
      "max_pooling2d_18 (MaxPooling (None, 16, 16, 32)        0         \n",
      "_________________________________________________________________\n",
      "dropout_27 (Dropout)         (None, 16, 16, 32)        0         \n",
      "_________________________________________________________________\n",
      "conv2d_38 (Conv2D)           (None, 16, 16, 64)        18496     \n",
      "_________________________________________________________________\n",
      "activation_56 (Activation)   (None, 16, 16, 64)        0         \n",
      "_________________________________________________________________\n",
      "batch_normalization_v1_47 (B (None, 16, 16, 64)        256       \n",
      "_________________________________________________________________\n",
      "conv2d_39 (Conv2D)           (None, 16, 16, 64)        36928     \n",
      "_________________________________________________________________\n",
      "activation_57 (Activation)   (None, 16, 16, 64)        0         \n",
      "_________________________________________________________________\n",
      "batch_normalization_v1_48 (B (None, 16, 16, 64)        256       \n",
      "_________________________________________________________________\n",
      "max_pooling2d_19 (MaxPooling (None, 8, 8, 64)          0         \n",
      "_________________________________________________________________\n",
      "dropout_28 (Dropout)         (None, 8, 8, 64)          0         \n",
      "_________________________________________________________________\n",
      "flatten_9 (Flatten)          (None, 4096)              0         \n",
      "_________________________________________________________________\n",
      "dense_18 (Dense)             (None, 512)               2097664   \n",
      "_________________________________________________________________\n",
      "activation_58 (Activation)   (None, 512)               0         \n",
      "_________________________________________________________________\n",
      "batch_normalization_v1_49 (B (None, 512)               2048      \n",
      "_________________________________________________________________\n",
      "dropout_29 (Dropout)         (None, 512)               0         \n",
      "_________________________________________________________________\n",
      "dense_19 (Dense)             (None, 3)                 1539      \n",
      "_________________________________________________________________\n",
      "activation_59 (Activation)   (None, 3)                 0         \n",
      "=================================================================\n",
      "Total params: 2,167,587\n",
      "Trainable params: 2,166,179\n",
      "Non-trainable params: 1,408\n",
      "_________________________________________________________________\n",
      "None\n"
     ]
    }
   ],
   "source": [
    "net = SmallVGGNet()\n",
    "model = net.build(32, 32, 3) # Using 3 classes Dog, Cat and Panda"
   ]
  },
  {
   "cell_type": "code",
   "execution_count": 155,
   "metadata": {},
   "outputs": [
    {
     "name": "stdout",
     "output_type": "stream",
     "text": [
      "# Loading Animals dataset...\n",
      "Samples: ['animals/dogs/dogs_00977.jpg', 'animals/dogs/dogs_00963.jpg', 'animals/dogs/dogs_00793.jpg', 'animals/dogs/dogs_00787.jpg', 'animals/dogs/dogs_00778.jpg']\n",
      "# Animals dataset loaded!\n"
     ]
    }
   ],
   "source": [
    "print('# Loading Animals dataset...')\n",
    "# trainX = training set datapoints, trainY = training set labels\n",
    "# Same of testing set\n",
    "image_paths = list(paths.list_images('animals'))\n",
    "print('Samples:', image_paths[0: 5])\n",
    "print('# Animals dataset loaded!')"
   ]
  },
  {
   "cell_type": "code",
   "execution_count": 176,
   "metadata": {},
   "outputs": [
    {
     "name": "stdout",
     "output_type": "stream",
     "text": [
      "3000\n"
     ]
    }
   ],
   "source": [
    "# Resize images and get labels\n",
    "images = []\n",
    "labels = []\n",
    "for path in image_paths:\n",
    "    # Looad the image\n",
    "    image = cv2.imread(path)\n",
    "    # Resize the image\n",
    "    image = cv2.resize(image, (32, 32), interpolation=cv2.INTER_AREA)\n",
    "    # Extract a random crop from the image\n",
    "    image = extract_patches_2d(image, (32, 32), max_patches=1)[0]\n",
    "    image = img_to_array(image, data_format=None)\n",
    "    # Append image and its associate label\n",
    "    images.append(image)\n",
    "    labels.append(path.split(os.path.sep)[-2])\n",
    "    \n",
    "# Num images\n",
    "print(len(images))\n",
    "\n",
    "images = np.array(images)\n",
    "labels = np.array(labels)"
   ]
  },
  {
   "cell_type": "code",
   "execution_count": 177,
   "metadata": {},
   "outputs": [],
   "source": [
    "# Scale the pixel intensity values to the range [0, 1]\n",
    "def normalize(images):\n",
    "    return images.astype('float') / 255.0\n",
    "\n",
    "images = normalize(images)"
   ]
  },
  {
   "cell_type": "code",
   "execution_count": 178,
   "metadata": {},
   "outputs": [],
   "source": [
    "# Split the data into training and testing sets 75/25\n",
    "(trainX, testX, trainY, testY) = train_test_split(images, labels, test_size=0.25, random_state=42)"
   ]
  },
  {
   "cell_type": "code",
   "execution_count": 179,
   "metadata": {},
   "outputs": [
    {
     "name": "stdout",
     "output_type": "stream",
     "text": [
      "Before converting: ['panda' 'dogs' 'cats' ... 'cats' 'cats' 'dogs']\n",
      "After converting: [[0 0 1]\n",
      " [0 1 0]\n",
      " [1 0 0]\n",
      " ...\n",
      " [1 0 0]\n",
      " [1 0 0]\n",
      " [0 1 0]]\n"
     ]
    }
   ],
   "source": [
    "# Convert the labels from integers to vectors\n",
    "print('Before converting:', trainY)\n",
    "lb = LabelBinarizer()\n",
    "trainY = lb.fit_transform(trainY)\n",
    "testY = lb.fit_transform(testY)\n",
    "print('After converting:', trainY)"
   ]
  },
  {
   "cell_type": "code",
   "execution_count": 181,
   "metadata": {},
   "outputs": [],
   "source": [
    "# Set labels names for easier reading\n",
    "label_names = ['Dog', 'Cat', 'Panda']"
   ]
  },
  {
   "cell_type": "code",
   "execution_count": 184,
   "metadata": {},
   "outputs": [],
   "source": [
    "# Handle data augmentation\n",
    "daug = ImageDataGenerator(rotation_range=10, width_shift_range=0.1, height_shift_range=0.1,\n",
    "                         shear_range=0.2, zoom_range=0.2, horizontal_flip=True, fill_mode='nearest')"
   ]
  },
  {
   "cell_type": "code",
   "execution_count": 187,
   "metadata": {},
   "outputs": [
    {
     "name": "stdout",
     "output_type": "stream",
     "text": [
      "# Compiling the model...\n",
      "# Training the network...\n",
      "Epoch 1/50\n",
      "750/750 [==============================] - 1s 2ms/sample - loss: 1.9049 - acc: 0.3427\n",
      "71/71 [==============================] - 13s 189ms/step - loss: 1.3309 - acc: 0.5364 - val_loss: 1.8983 - val_acc: 0.3427\n",
      "Epoch 2/50\n",
      "750/750 [==============================] - 1s 1ms/sample - loss: 1.3539 - acc: 0.4053\n",
      "71/71 [==============================] - 13s 179ms/step - loss: 1.0054 - acc: 0.5676 - val_loss: 1.3471 - val_acc: 0.4053\n",
      "Epoch 3/50\n",
      "750/750 [==============================] - 1s 1ms/sample - loss: 1.2670 - acc: 0.4227\n",
      "71/71 [==============================] - 13s 179ms/step - loss: 0.9319 - acc: 0.6031 - val_loss: 1.2579 - val_acc: 0.4227\n",
      "Epoch 4/50\n",
      "750/750 [==============================] - 1s 1ms/sample - loss: 0.8155 - acc: 0.5760\n",
      "71/71 [==============================] - 13s 181ms/step - loss: 0.8750 - acc: 0.6116 - val_loss: 0.8140 - val_acc: 0.5760\n",
      "Epoch 5/50\n",
      "750/750 [==============================] - 1s 1ms/sample - loss: 1.1455 - acc: 0.4467\n",
      "71/71 [==============================] - 13s 183ms/step - loss: 0.8664 - acc: 0.6196 - val_loss: 1.1427 - val_acc: 0.4467\n",
      "Epoch 6/50\n",
      "750/750 [==============================] - 1s 1ms/sample - loss: 0.7337 - acc: 0.6400\n",
      "71/71 [==============================] - 13s 185ms/step - loss: 0.8327 - acc: 0.6347 - val_loss: 0.7300 - val_acc: 0.6400\n",
      "Epoch 7/50\n",
      "750/750 [==============================] - 1s 1ms/sample - loss: 0.6348 - acc: 0.6853\n",
      "71/71 [==============================] - 13s 185ms/step - loss: 0.8200 - acc: 0.6449 - val_loss: 0.6334 - val_acc: 0.6853\n",
      "Epoch 8/50\n",
      "750/750 [==============================] - 1s 1ms/sample - loss: 0.7105 - acc: 0.6667\n",
      "71/71 [==============================] - 13s 189ms/step - loss: 0.7811 - acc: 0.6560 - val_loss: 0.7109 - val_acc: 0.6667\n",
      "Epoch 9/50\n",
      "750/750 [==============================] - 1s 1ms/sample - loss: 1.2619 - acc: 0.5187\n",
      "71/71 [==============================] - 14s 193ms/step - loss: 0.7712 - acc: 0.6533 - val_loss: 1.2733 - val_acc: 0.5187\n",
      "Epoch 10/50\n",
      "750/750 [==============================] - 1s 1ms/sample - loss: 0.7645 - acc: 0.6693\n",
      "71/71 [==============================] - 13s 183ms/step - loss: 0.7270 - acc: 0.6822 - val_loss: 0.7643 - val_acc: 0.6693\n",
      "Epoch 11/50\n",
      "750/750 [==============================] - 1s 1ms/sample - loss: 0.7780 - acc: 0.6640\n",
      "71/71 [==============================] - 13s 181ms/step - loss: 0.7253 - acc: 0.6831 - val_loss: 0.7800 - val_acc: 0.6640\n",
      "Epoch 12/50\n",
      "750/750 [==============================] - 1s 1ms/sample - loss: 0.8222 - acc: 0.6360\n",
      "71/71 [==============================] - 13s 182ms/step - loss: 0.7402 - acc: 0.6791 - val_loss: 0.8180 - val_acc: 0.6360\n",
      "Epoch 13/50\n",
      "750/750 [==============================] - 1s 1ms/sample - loss: 3.0435 - acc: 0.4787\n",
      "71/71 [==============================] - 13s 182ms/step - loss: 0.7062 - acc: 0.6707 - val_loss: 3.0653 - val_acc: 0.4787\n",
      "Epoch 14/50\n",
      "750/750 [==============================] - 1s 1ms/sample - loss: 0.9053 - acc: 0.6453\n",
      "71/71 [==============================] - 13s 181ms/step - loss: 0.7243 - acc: 0.6764 - val_loss: 0.8990 - val_acc: 0.6453\n",
      "Epoch 15/50\n",
      "750/750 [==============================] - 1s 1ms/sample - loss: 0.6570 - acc: 0.7027\n",
      "71/71 [==============================] - 13s 180ms/step - loss: 0.7095 - acc: 0.6822 - val_loss: 0.6542 - val_acc: 0.7027\n",
      "Epoch 16/50\n",
      "750/750 [==============================] - 1s 1ms/sample - loss: 0.7172 - acc: 0.6907\n",
      "71/71 [==============================] - 13s 182ms/step - loss: 0.6486 - acc: 0.7107 - val_loss: 0.7116 - val_acc: 0.6907\n",
      "Epoch 17/50\n",
      "750/750 [==============================] - 1s 1ms/sample - loss: 1.0000 - acc: 0.6267\n",
      "71/71 [==============================] - 13s 182ms/step - loss: 0.6873 - acc: 0.6880 - val_loss: 0.9976 - val_acc: 0.6267\n",
      "Epoch 18/50\n",
      "750/750 [==============================] - 1s 1ms/sample - loss: 0.6407 - acc: 0.6960\n",
      "71/71 [==============================] - 13s 181ms/step - loss: 0.6553 - acc: 0.7053 - val_loss: 0.6376 - val_acc: 0.6960\n",
      "Epoch 19/50\n",
      "750/750 [==============================] - 1s 1ms/sample - loss: 0.9180 - acc: 0.6267\n",
      "71/71 [==============================] - 13s 182ms/step - loss: 0.6309 - acc: 0.7022 - val_loss: 0.9168 - val_acc: 0.6267\n",
      "Epoch 20/50\n",
      "750/750 [==============================] - 1s 2ms/sample - loss: 0.6933 - acc: 0.6907\n",
      "71/71 [==============================] - 14s 192ms/step - loss: 0.6437 - acc: 0.7093 - val_loss: 0.6863 - val_acc: 0.6907\n",
      "Epoch 21/50\n",
      "750/750 [==============================] - 1s 1ms/sample - loss: 0.8128 - acc: 0.6427\n",
      "71/71 [==============================] - 13s 186ms/step - loss: 0.6225 - acc: 0.7156 - val_loss: 0.8135 - val_acc: 0.6427\n",
      "Epoch 22/50\n",
      "750/750 [==============================] - 1s 1ms/sample - loss: 0.7690 - acc: 0.6827\n",
      "71/71 [==============================] - 13s 181ms/step - loss: 0.6228 - acc: 0.7218 - val_loss: 0.7626 - val_acc: 0.6827\n",
      "Epoch 23/50\n",
      "750/750 [==============================] - 1s 1ms/sample - loss: 0.6164 - acc: 0.7200\n",
      "71/71 [==============================] - 13s 183ms/step - loss: 0.6179 - acc: 0.7218 - val_loss: 0.6129 - val_acc: 0.7200\n",
      "Epoch 24/50\n",
      "750/750 [==============================] - 1s 1ms/sample - loss: 1.0299 - acc: 0.6293\n",
      "71/71 [==============================] - 13s 184ms/step - loss: 0.6097 - acc: 0.7289 - val_loss: 1.0251 - val_acc: 0.6293\n",
      "Epoch 25/50\n",
      "750/750 [==============================] - 1s 1ms/sample - loss: 0.6265 - acc: 0.7040\n",
      "71/71 [==============================] - 13s 189ms/step - loss: 0.5999 - acc: 0.7262 - val_loss: 0.6253 - val_acc: 0.7040\n",
      "Epoch 26/50\n",
      "750/750 [==============================] - 1s 1ms/sample - loss: 0.6339 - acc: 0.7280\n",
      "71/71 [==============================] - 14s 194ms/step - loss: 0.5838 - acc: 0.7413 - val_loss: 0.6304 - val_acc: 0.7280\n",
      "Epoch 27/50\n",
      "750/750 [==============================] - 1s 1ms/sample - loss: 0.7309 - acc: 0.7013\n",
      "71/71 [==============================] - 15s 205ms/step - loss: 0.5859 - acc: 0.7436 - val_loss: 0.7317 - val_acc: 0.7013\n",
      "Epoch 28/50\n",
      "750/750 [==============================] - 1s 1ms/sample - loss: 0.6176 - acc: 0.7387\n",
      "71/71 [==============================] - 14s 190ms/step - loss: 0.5836 - acc: 0.7471 - val_loss: 0.6116 - val_acc: 0.7387\n",
      "Epoch 29/50\n",
      "750/750 [==============================] - 1s 1ms/sample - loss: 0.7358 - acc: 0.6800\n",
      "71/71 [==============================] - 13s 188ms/step - loss: 0.5741 - acc: 0.7444 - val_loss: 0.7392 - val_acc: 0.6800\n",
      "Epoch 30/50\n",
      "750/750 [==============================] - 1s 1ms/sample - loss: 0.6219 - acc: 0.7253\n",
      "71/71 [==============================] - 13s 185ms/step - loss: 0.6045 - acc: 0.7404 - val_loss: 0.6179 - val_acc: 0.7253\n",
      "Epoch 31/50\n",
      "750/750 [==============================] - 1s 1ms/sample - loss: 0.6739 - acc: 0.6973\n",
      "71/71 [==============================] - 13s 187ms/step - loss: 0.5663 - acc: 0.7453 - val_loss: 0.6762 - val_acc: 0.6973\n",
      "Epoch 32/50\n",
      "750/750 [==============================] - 1s 1ms/sample - loss: 0.6106 - acc: 0.7280\n",
      "71/71 [==============================] - 13s 188ms/step - loss: 0.5842 - acc: 0.7311 - val_loss: 0.6092 - val_acc: 0.7280\n",
      "Epoch 33/50\n",
      "750/750 [==============================] - 1s 1ms/sample - loss: 0.8201 - acc: 0.6947\n",
      "71/71 [==============================] - 13s 189ms/step - loss: 0.5612 - acc: 0.7542 - val_loss: 0.8256 - val_acc: 0.6947\n",
      "Epoch 34/50\n",
      "750/750 [==============================] - 1s 1ms/sample - loss: 0.7252 - acc: 0.6787\n",
      "71/71 [==============================] - 14s 191ms/step - loss: 0.5353 - acc: 0.7529 - val_loss: 0.7259 - val_acc: 0.6787\n",
      "Epoch 35/50\n",
      "750/750 [==============================] - 1s 1ms/sample - loss: 0.7763 - acc: 0.6733\n",
      "71/71 [==============================] - 13s 189ms/step - loss: 0.5473 - acc: 0.7582 - val_loss: 0.7706 - val_acc: 0.6733\n",
      "Epoch 36/50\n",
      "750/750 [==============================] - 1s 1ms/sample - loss: 0.6806 - acc: 0.7040\n",
      "71/71 [==============================] - 13s 188ms/step - loss: 0.5522 - acc: 0.7569 - val_loss: 0.6806 - val_acc: 0.7040\n",
      "Epoch 37/50\n",
      "750/750 [==============================] - 1s 1ms/sample - loss: 0.7924 - acc: 0.6720\n",
      "71/71 [==============================] - 13s 188ms/step - loss: 0.5571 - acc: 0.7493 - val_loss: 0.7888 - val_acc: 0.6720\n",
      "Epoch 38/50\n"
     ]
    },
    {
     "name": "stdout",
     "output_type": "stream",
     "text": [
      "750/750 [==============================] - 1s 1ms/sample - loss: 0.7450 - acc: 0.7027\n",
      "71/71 [==============================] - 13s 185ms/step - loss: 0.5272 - acc: 0.7604 - val_loss: 0.7418 - val_acc: 0.7027\n",
      "Epoch 39/50\n",
      "750/750 [==============================] - 1s 1ms/sample - loss: 0.6282 - acc: 0.7200\n",
      "71/71 [==============================] - 13s 185ms/step - loss: 0.5486 - acc: 0.7609 - val_loss: 0.6240 - val_acc: 0.7200\n",
      "Epoch 40/50\n",
      "750/750 [==============================] - 1s 1ms/sample - loss: 0.6133 - acc: 0.7280\n",
      "71/71 [==============================] - 13s 187ms/step - loss: 0.5093 - acc: 0.7693 - val_loss: 0.6066 - val_acc: 0.7280\n",
      "Epoch 41/50\n",
      "750/750 [==============================] - 1s 1ms/sample - loss: 0.7295 - acc: 0.6973\n",
      "71/71 [==============================] - 13s 185ms/step - loss: 0.5391 - acc: 0.7560 - val_loss: 0.7219 - val_acc: 0.6973\n",
      "Epoch 42/50\n",
      "750/750 [==============================] - 1s 1ms/sample - loss: 1.1468 - acc: 0.6053\n",
      "71/71 [==============================] - 13s 185ms/step - loss: 0.5261 - acc: 0.7636 - val_loss: 1.1576 - val_acc: 0.6053\n",
      "Epoch 43/50\n",
      "750/750 [==============================] - 1s 1ms/sample - loss: 1.6890 - acc: 0.5707\n",
      "71/71 [==============================] - 13s 188ms/step - loss: 0.5359 - acc: 0.7587 - val_loss: 1.6956 - val_acc: 0.5707\n",
      "Epoch 44/50\n",
      "750/750 [==============================] - 1s 1ms/sample - loss: 0.6019 - acc: 0.7413\n",
      "71/71 [==============================] - 13s 186ms/step - loss: 0.5202 - acc: 0.7631 - val_loss: 0.6006 - val_acc: 0.7413\n",
      "Epoch 45/50\n",
      "750/750 [==============================] - 1s 1ms/sample - loss: 1.1357 - acc: 0.6147\n",
      "71/71 [==============================] - 14s 191ms/step - loss: 0.5382 - acc: 0.7596 - val_loss: 1.1393 - val_acc: 0.6147\n",
      "Epoch 46/50\n",
      "750/750 [==============================] - 1s 1ms/sample - loss: 0.7524 - acc: 0.7040\n",
      "71/71 [==============================] - 13s 188ms/step - loss: 0.5044 - acc: 0.7836 - val_loss: 0.7537 - val_acc: 0.7040\n",
      "Epoch 47/50\n",
      "750/750 [==============================] - 1s 1ms/sample - loss: 0.6017 - acc: 0.7400\n",
      "71/71 [==============================] - 13s 186ms/step - loss: 0.4947 - acc: 0.7876 - val_loss: 0.5971 - val_acc: 0.7400\n",
      "Epoch 48/50\n",
      "750/750 [==============================] - 1s 1ms/sample - loss: 0.8510 - acc: 0.6493\n",
      "71/71 [==============================] - 13s 188ms/step - loss: 0.5243 - acc: 0.7693 - val_loss: 0.8430 - val_acc: 0.6493\n",
      "Epoch 49/50\n",
      "750/750 [==============================] - 1s 1ms/sample - loss: 0.6080 - acc: 0.7280\n",
      "71/71 [==============================] - 13s 186ms/step - loss: 0.4924 - acc: 0.7809 - val_loss: 0.6056 - val_acc: 0.7280\n",
      "Epoch 50/50\n",
      "750/750 [==============================] - 1s 1ms/sample - loss: 0.6200 - acc: 0.7320\n",
      "71/71 [==============================] - 13s 188ms/step - loss: 0.5270 - acc: 0.7649 - val_loss: 0.6195 - val_acc: 0.7320\n"
     ]
    }
   ],
   "source": [
    "# Define the number of epochs (times dataset has been seen)\n",
    "num_epochs = 50\n",
    "# Set the optimizer (here using Stochastic Gradient Descent with a learning rate of 0.01, epochs-based decay and a momentum)\n",
    "# Decay slowly reduces the learning rate to reduce overfitting and get higher classification accc\n",
    "sgd_opt = SGD(lr=0.005, decay=0.01 / num_epochs, momentum=0.9, nesterov=True)\n",
    "# Compile the model\n",
    "print('# Compiling the model...')\n",
    "model.compile(loss='categorical_crossentropy', optimizer=sgd_opt, metrics=['accuracy'])\n",
    "# Train the network!\n",
    "print('# Training the network...')\n",
    "M = model.fit_generator(daug.flow(trainX, trainY, batch_size=32), validation_data=(testX, testY),\n",
    "                        epochs=num_epochs, steps_per_epoch=len(trainX), verbose=1)"
   ]
  },
  {
   "cell_type": "code",
   "execution_count": 213,
   "metadata": {},
   "outputs": [
    {
     "name": "stdout",
     "output_type": "stream",
     "text": [
      "# Trained the network! Evaluating...\n",
      "              precision    recall  f1-score   support\n",
      "\n",
      "         Dog       0.68      0.64      0.66       249\n",
      "         Cat       0.62      0.72      0.66       262\n",
      "       Panda       0.97      0.84      0.90       239\n",
      "\n",
      "    accuracy                           0.73       750\n",
      "   macro avg       0.75      0.73      0.74       750\n",
      "weighted avg       0.75      0.73      0.74       750\n",
      "\n"
     ]
    },
    {
     "data": {
      "image/png": "[encoded data removed]",
      "text/plain": [
       "<Figure size 720x720 with 1 Axes>"
      ]
     },
     "metadata": {},
     "output_type": "display_data"
    }
   ],
   "source": [
    "# Evalutate the network\n",
    "print('# Trained the network! Evaluating...')\n",
    "preds = model.predict(testX, batch_size=32)\n",
    "print(classification_report(testY.argmax(axis=1),\n",
    "preds.argmax(axis=1), target_names=label_names))\n",
    "\n",
    "%matplotlib inline\n",
    "# Plot history to check for overfitting\n",
    "plt.style.use('ggplot')\n",
    "plt.figure(figsize=(10, 10))\n",
    "plt.plot(np.arange(0, num_epochs), M.history['loss'], label='train_loss')\n",
    "plt.plot(np.arange(0, num_epochs), M.history['val_loss'], label='val_loss')\n",
    "plt.plot(np.arange(0, num_epochs), M.history['acc'], label='train_accuracy')\n",
    "plt.plot(np.arange(0, num_epochs), M.history['val_acc'], label='val_accuracy')\n",
    "\n",
    "plt.title('Training Loss and Accuracy')\n",
    "plt.ylabel('Loss/Accuracy')\n",
    "plt.xlabel('Epoch #')\n",
    "plt.legend()\n",
    "\n",
    "plt.show()"
   ]
  },
  {
   "cell_type": "code",
   "execution_count": 214,
   "metadata": {},
   "outputs": [],
   "source": [
    "# TODO: Tweak net"
   ]
  }
 ],
 "metadata": {
  "kernelspec": {
   "display_name": "Python 3",
   "language": "python",
   "name": "python3"
  },
  "language_info": {
   "codemirror_mode": {
    "name": "ipython",
    "version": 3
   },
   "file_extension": ".py",
   "mimetype": "text/x-python",
   "name": "python",
   "nbconvert_exporter": "python",
   "pygments_lexer": "ipython3",
   "version": "3.7.0"
  }
 },
 "nbformat": 4,
 "nbformat_minor": 2
}
